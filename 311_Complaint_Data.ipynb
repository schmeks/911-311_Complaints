{
  "nbformat": 4,
  "nbformat_minor": 0,
  "metadata": {
    "colab": {
      "name": "311 Complaint Data",
      "provenance": [],
      "include_colab_link": true
    },
    "kernelspec": {
      "name": "python3",
      "display_name": "Python 3"
    }
  },
  "cells": [
    {
      "cell_type": "markdown",
      "metadata": {
        "id": "view-in-github",
        "colab_type": "text"
      },
      "source": [
        "<a href=\"https://colab.research.google.com/github/schmeks/911-311_Complaints/blob/master/311_Complaint_Data.ipynb\" target=\"_parent\"><img src=\"https://colab.research.google.com/assets/colab-badge.svg\" alt=\"Open In Colab\"/></a>"
      ]
    },
    {
      "cell_type": "markdown",
      "metadata": {
        "id": "nwuHnE_0bjUL",
        "colab_type": "text"
      },
      "source": [
        "# **Reviewing 311 Complaint Data from NYC's Open Data Portal**\n",
        "Becca Mason\n",
        "\n",
        "This collab notebook takes NYPD Historic Complaint Data and Explores the content with preliminary analyses. Presents findings on the age breakdown of victims and suspects, location of complaint, and gender of victim."
      ]
    },
    {
      "cell_type": "markdown",
      "metadata": {
        "id": "RAhFXmjqCCkv",
        "colab_type": "text"
      },
      "source": [
        "# Import Data via one of two methods: API or csv "
      ]
    },
    {
      "cell_type": "markdown",
      "metadata": {
        "id": "6EURiebTXJAo",
        "colab_type": "text"
      },
      "source": [
        "## Complaint data from NYC Open Data via Socrata API, filtered down to Violations only"
      ]
    },
    {
      "cell_type": "code",
      "metadata": {
        "id": "jXND6mo2bixT",
        "colab_type": "code",
        "outputId": "9e5ab9fb-4105-4fee-bfa9-e5d8ef47989f",
        "colab": {
          "base_uri": "https://localhost:8080/",
          "height": 0
        }
      },
      "source": [
        "#installing Sodapy library and other necessary packages\n",
        "\n",
        "# https://data.cityofnewyork.us/resource/qgea-i56i.json\n",
        "!pip install sodapy\n",
        "\n",
        "import pandas as pd\n",
        "from sodapy import Socrata\n",
        "import numpy as np\n",
        "from scipy import stats\n",
        "import matplotlib.pyplot as plt\n",
        "%matplotlib inline\n",
        "import seaborn as sns"
      ],
      "execution_count": 2,
      "outputs": [
        {
          "output_type": "stream",
          "text": [
            "Collecting sodapy\n",
            "  Downloading https://files.pythonhosted.org/packages/9e/74/95fb7d45bbe7f1de43caac45d7dd4807ef1e15881564a00eef489a3bb5c6/sodapy-2.1.0-py2.py3-none-any.whl\n",
            "Requirement already satisfied: requests>=2.20.0 in /usr/local/lib/python3.6/dist-packages (from sodapy) (2.23.0)\n",
            "Requirement already satisfied: certifi>=2017.4.17 in /usr/local/lib/python3.6/dist-packages (from requests>=2.20.0->sodapy) (2020.4.5.1)\n",
            "Requirement already satisfied: urllib3!=1.25.0,!=1.25.1,<1.26,>=1.21.1 in /usr/local/lib/python3.6/dist-packages (from requests>=2.20.0->sodapy) (1.24.3)\n",
            "Requirement already satisfied: idna<3,>=2.5 in /usr/local/lib/python3.6/dist-packages (from requests>=2.20.0->sodapy) (2.9)\n",
            "Requirement already satisfied: chardet<4,>=3.0.2 in /usr/local/lib/python3.6/dist-packages (from requests>=2.20.0->sodapy) (3.0.4)\n",
            "Installing collected packages: sodapy\n",
            "Successfully installed sodapy-2.1.0\n"
          ],
          "name": "stdout"
        },
        {
          "output_type": "stream",
          "text": [
            "/usr/local/lib/python3.6/dist-packages/statsmodels/tools/_testing.py:19: FutureWarning: pandas.util.testing is deprecated. Use the functions in the public API at pandas.testing instead.\n",
            "  import pandas.util.testing as tm\n"
          ],
          "name": "stderr"
        }
      ]
    },
    {
      "cell_type": "code",
      "metadata": {
        "id": "z_rBT4eybi1T",
        "colab_type": "code",
        "outputId": "1eb2ae83-7fe2-4d36-89de-6cb58edcb6b8",
        "colab": {
          "base_uri": "https://localhost:8080/",
          "height": 0
        }
      },
      "source": [
        "# Unauthenticated client only works with public data sets. Note 'None'\n",
        "# in place of application token, and no username or password:\n",
        "client = Socrata(\"data.cityofnewyork.us\", None)"
      ],
      "execution_count": 3,
      "outputs": [
        {
          "output_type": "stream",
          "text": [
            "WARNING:root:Requests made without an app_token will be subject to strict throttling limits.\n"
          ],
          "name": "stderr"
        }
      ]
    },
    {
      "cell_type": "code",
      "metadata": {
        "id": "bQ2QDs1Ibi3z",
        "colab_type": "code",
        "colab": {}
      },
      "source": [
        "# First results, returned as JSON from API / converted to Python list of\n",
        "# dictionaries by sodapy.\n",
        "results = client.get(\"5uac-w243\")\n",
        "\n",
        "# df = pd.read_csv('https://data.cityofnewyork.us/api/views/qgea-i56i/rows.csv?accessType=DOWNLOAD')\n",
        "# df.head()\n",
        "# Convert to pandas DataFrame\n",
        "results_df = pd.DataFrame.from_records(results)"
      ],
      "execution_count": 0,
      "outputs": []
    },
    {
      "cell_type": "markdown",
      "metadata": {
        "id": "HI1hL3LzVmCo",
        "colab_type": "text"
      },
      "source": [
        "## Alternatively, import csv to avoid throttling limits and/or slow upload speeds."
      ]
    },
    {
      "cell_type": "markdown",
      "metadata": {
        "id": "xPJURHVPuSYi",
        "colab_type": "text"
      },
      "source": [
        "Note that this data only consists of data from 2019"
      ]
    },
    {
      "cell_type": "code",
      "metadata": {
        "id": "DV3qqj_WWJ0J",
        "colab_type": "code",
        "colab": {
          "base_uri": "https://localhost:8080/",
          "height": 0
        },
        "outputId": "6218f87f-5c83-4f2c-8ee7-9776bd1b5da3"
      },
      "source": [
        "# Import csv, ignoring errors\n",
        "\n",
        "results = pd.read_csv('https://raw.githubusercontent.com/schmeks/911-311_Complaints/master/NYPDViolationData.csv', error_bad_lines=False)\n",
        "results_df = results.copy()\n",
        "print('data loaded successfully')"
      ],
      "execution_count": 5,
      "outputs": [
        {
          "output_type": "stream",
          "text": [
            "data loaded successfully\n"
          ],
          "name": "stdout"
        }
      ]
    },
    {
      "cell_type": "code",
      "metadata": {
        "id": "MF0fQFfJsBV6",
        "colab_type": "code",
        "colab": {
          "base_uri": "https://localhost:8080/",
          "height": 0
        },
        "outputId": "ed0b0114-afcc-41b8-cfc8-51a034fb503f"
      },
      "source": [
        "results_df.head()"
      ],
      "execution_count": 6,
      "outputs": [
        {
          "output_type": "execute_result",
          "data": {
            "text/html": [
              "<div>\n",
              "<style scoped>\n",
              "    .dataframe tbody tr th:only-of-type {\n",
              "        vertical-align: middle;\n",
              "    }\n",
              "\n",
              "    .dataframe tbody tr th {\n",
              "        vertical-align: top;\n",
              "    }\n",
              "\n",
              "    .dataframe thead th {\n",
              "        text-align: right;\n",
              "    }\n",
              "</style>\n",
              "<table border=\"1\" class=\"dataframe\">\n",
              "  <thead>\n",
              "    <tr style=\"text-align: right;\">\n",
              "      <th></th>\n",
              "      <th>CMPLNT_NUM</th>\n",
              "      <th>ADDR_PCT_CD</th>\n",
              "      <th>BORO_NM</th>\n",
              "      <th>CMPLNT_FR_DT</th>\n",
              "      <th>CMPLNT_FR_TM</th>\n",
              "      <th>CMPLNT_TO_DT</th>\n",
              "      <th>CMPLNT_TO_TM</th>\n",
              "      <th>CRM_ATPT_CPTD_CD</th>\n",
              "      <th>HADEVELOPT</th>\n",
              "      <th>HOUSING_PSA</th>\n",
              "      <th>JURISDICTION_CODE</th>\n",
              "      <th>JURIS_DESC</th>\n",
              "      <th>KY_CD</th>\n",
              "      <th>LAW_CAT_CD</th>\n",
              "      <th>LOC_OF_OCCUR_DESC</th>\n",
              "      <th>OFNS_DESC</th>\n",
              "      <th>PARKS_NM</th>\n",
              "      <th>PATROL_BORO</th>\n",
              "      <th>PD_CD</th>\n",
              "      <th>PD_DESC</th>\n",
              "      <th>PREM_TYP_DESC</th>\n",
              "      <th>RPT_DT</th>\n",
              "      <th>STATION_NAME</th>\n",
              "      <th>SUSP_AGE_GROUP</th>\n",
              "      <th>SUSP_RACE</th>\n",
              "      <th>SUSP_SEX</th>\n",
              "      <th>TRANSIT_DISTRICT</th>\n",
              "      <th>VIC_AGE_GROUP</th>\n",
              "      <th>VIC_RACE</th>\n",
              "      <th>VIC_SEX</th>\n",
              "      <th>X_COORD_CD</th>\n",
              "      <th>Y_COORD_CD</th>\n",
              "      <th>Latitude</th>\n",
              "      <th>Longitude</th>\n",
              "      <th>Lat_Lon</th>\n",
              "    </tr>\n",
              "  </thead>\n",
              "  <tbody>\n",
              "    <tr>\n",
              "      <th>0</th>\n",
              "      <td>781940970</td>\n",
              "      <td>115</td>\n",
              "      <td>QUEENS</td>\n",
              "      <td>01/05/2019</td>\n",
              "      <td>08:45:00</td>\n",
              "      <td>01/05/2019</td>\n",
              "      <td>08:47:00</td>\n",
              "      <td>COMPLETED</td>\n",
              "      <td>NaN</td>\n",
              "      <td>NaN</td>\n",
              "      <td>0</td>\n",
              "      <td>N.Y. POLICE DEPT</td>\n",
              "      <td>578</td>\n",
              "      <td>VIOLATION</td>\n",
              "      <td>INSIDE</td>\n",
              "      <td>HARRASSMENT 2</td>\n",
              "      <td>NaN</td>\n",
              "      <td>PATROL BORO QUEENS NORTH</td>\n",
              "      <td>638</td>\n",
              "      <td>HARASSMENT,SUBD 3,4,5</td>\n",
              "      <td>RESTAURANT/DINER</td>\n",
              "      <td>01/05/2019</td>\n",
              "      <td>NaN</td>\n",
              "      <td>UNKNOWN</td>\n",
              "      <td>BLACK</td>\n",
              "      <td>F</td>\n",
              "      <td>NaN</td>\n",
              "      <td>25-44</td>\n",
              "      <td>WHITE HISPANIC</td>\n",
              "      <td>M</td>\n",
              "      <td>1016395</td>\n",
              "      <td>214622</td>\n",
              "      <td>40.755714</td>\n",
              "      <td>-73.883975</td>\n",
              "      <td>(40.755714116000036, -73.88397502899994)</td>\n",
              "    </tr>\n",
              "    <tr>\n",
              "      <th>1</th>\n",
              "      <td>835070274</td>\n",
              "      <td>70</td>\n",
              "      <td>BROOKLYN</td>\n",
              "      <td>01/03/2019</td>\n",
              "      <td>18:30:00</td>\n",
              "      <td>01/03/2019</td>\n",
              "      <td>18:45:00</td>\n",
              "      <td>COMPLETED</td>\n",
              "      <td>NaN</td>\n",
              "      <td>NaN</td>\n",
              "      <td>0</td>\n",
              "      <td>N.Y. POLICE DEPT</td>\n",
              "      <td>578</td>\n",
              "      <td>VIOLATION</td>\n",
              "      <td>INSIDE</td>\n",
              "      <td>HARRASSMENT 2</td>\n",
              "      <td>NaN</td>\n",
              "      <td>PATROL BORO BKLYN SOUTH</td>\n",
              "      <td>638</td>\n",
              "      <td>HARASSMENT,SUBD 3,4,5</td>\n",
              "      <td>CHAIN STORE</td>\n",
              "      <td>01/03/2019</td>\n",
              "      <td>NaN</td>\n",
              "      <td>UNKNOWN</td>\n",
              "      <td>BLACK</td>\n",
              "      <td>F</td>\n",
              "      <td>NaN</td>\n",
              "      <td>25-44</td>\n",
              "      <td>BLACK</td>\n",
              "      <td>F</td>\n",
              "      <td>995885</td>\n",
              "      <td>174602</td>\n",
              "      <td>40.645919</td>\n",
              "      <td>-73.958074</td>\n",
              "      <td>(40.64591936100004, -73.95807437399996)</td>\n",
              "    </tr>\n",
              "    <tr>\n",
              "      <th>2</th>\n",
              "      <td>868311027</td>\n",
              "      <td>10</td>\n",
              "      <td>MANHATTAN</td>\n",
              "      <td>01/02/2019</td>\n",
              "      <td>17:05:00</td>\n",
              "      <td>01/02/2019</td>\n",
              "      <td>17:08:00</td>\n",
              "      <td>COMPLETED</td>\n",
              "      <td>NaN</td>\n",
              "      <td>NaN</td>\n",
              "      <td>0</td>\n",
              "      <td>N.Y. POLICE DEPT</td>\n",
              "      <td>578</td>\n",
              "      <td>VIOLATION</td>\n",
              "      <td>INSIDE</td>\n",
              "      <td>HARRASSMENT 2</td>\n",
              "      <td>NaN</td>\n",
              "      <td>PATROL BORO MAN SOUTH</td>\n",
              "      <td>637</td>\n",
              "      <td>HARASSMENT,SUBD 1,CIVILIAN</td>\n",
              "      <td>FAST FOOD</td>\n",
              "      <td>01/02/2019</td>\n",
              "      <td>NaN</td>\n",
              "      <td>UNKNOWN</td>\n",
              "      <td>WHITE</td>\n",
              "      <td>M</td>\n",
              "      <td>NaN</td>\n",
              "      <td>25-44</td>\n",
              "      <td>BLACK</td>\n",
              "      <td>M</td>\n",
              "      <td>984991</td>\n",
              "      <td>211390</td>\n",
              "      <td>40.746901</td>\n",
              "      <td>-73.997327</td>\n",
              "      <td>(40.74690148800004, -73.99732718499997)</td>\n",
              "    </tr>\n",
              "    <tr>\n",
              "      <th>3</th>\n",
              "      <td>249096292</td>\n",
              "      <td>19</td>\n",
              "      <td>MANHATTAN</td>\n",
              "      <td>01/06/2019</td>\n",
              "      <td>08:45:00</td>\n",
              "      <td>01/06/2019</td>\n",
              "      <td>08:58:00</td>\n",
              "      <td>COMPLETED</td>\n",
              "      <td>NaN</td>\n",
              "      <td>NaN</td>\n",
              "      <td>0</td>\n",
              "      <td>N.Y. POLICE DEPT</td>\n",
              "      <td>578</td>\n",
              "      <td>VIOLATION</td>\n",
              "      <td>FRONT OF</td>\n",
              "      <td>HARRASSMENT 2</td>\n",
              "      <td>NaN</td>\n",
              "      <td>PATROL BORO MAN NORTH</td>\n",
              "      <td>637</td>\n",
              "      <td>HARASSMENT,SUBD 1,CIVILIAN</td>\n",
              "      <td>STREET</td>\n",
              "      <td>01/06/2019</td>\n",
              "      <td>NaN</td>\n",
              "      <td>25-44</td>\n",
              "      <td>ASIAN / PACIFIC ISLANDER</td>\n",
              "      <td>M</td>\n",
              "      <td>NaN</td>\n",
              "      <td>25-44</td>\n",
              "      <td>ASIAN / PACIFIC ISLANDER</td>\n",
              "      <td>F</td>\n",
              "      <td>998583</td>\n",
              "      <td>222146</td>\n",
              "      <td>40.776412</td>\n",
              "      <td>-73.948251</td>\n",
              "      <td>(40.77641236200003, -73.94825084599995)</td>\n",
              "    </tr>\n",
              "    <tr>\n",
              "      <th>4</th>\n",
              "      <td>691512468</td>\n",
              "      <td>71</td>\n",
              "      <td>BROOKLYN</td>\n",
              "      <td>01/05/2019</td>\n",
              "      <td>18:10:00</td>\n",
              "      <td>01/05/2019</td>\n",
              "      <td>18:15:00</td>\n",
              "      <td>COMPLETED</td>\n",
              "      <td>NaN</td>\n",
              "      <td>NaN</td>\n",
              "      <td>0</td>\n",
              "      <td>N.Y. POLICE DEPT</td>\n",
              "      <td>578</td>\n",
              "      <td>VIOLATION</td>\n",
              "      <td>INSIDE</td>\n",
              "      <td>HARRASSMENT 2</td>\n",
              "      <td>NaN</td>\n",
              "      <td>PATROL BORO BKLYN SOUTH</td>\n",
              "      <td>638</td>\n",
              "      <td>HARASSMENT,SUBD 3,4,5</td>\n",
              "      <td>RESIDENCE - APT. HOUSE</td>\n",
              "      <td>01/05/2019</td>\n",
              "      <td>NaN</td>\n",
              "      <td>18-24</td>\n",
              "      <td>BLACK</td>\n",
              "      <td>M</td>\n",
              "      <td>NaN</td>\n",
              "      <td>18-24</td>\n",
              "      <td>BLACK</td>\n",
              "      <td>F</td>\n",
              "      <td>997631</td>\n",
              "      <td>178916</td>\n",
              "      <td>40.657758</td>\n",
              "      <td>-73.951774</td>\n",
              "      <td>(40.65775788800004, -73.95177405399994)</td>\n",
              "    </tr>\n",
              "  </tbody>\n",
              "</table>\n",
              "</div>"
            ],
            "text/plain": [
              "   CMPLNT_NUM  ADDR_PCT_CD  ...  Longitude                                   Lat_Lon\n",
              "0   781940970          115  ... -73.883975  (40.755714116000036, -73.88397502899994)\n",
              "1   835070274           70  ... -73.958074   (40.64591936100004, -73.95807437399996)\n",
              "2   868311027           10  ... -73.997327   (40.74690148800004, -73.99732718499997)\n",
              "3   249096292           19  ... -73.948251   (40.77641236200003, -73.94825084599995)\n",
              "4   691512468           71  ... -73.951774   (40.65775788800004, -73.95177405399994)\n",
              "\n",
              "[5 rows x 35 columns]"
            ]
          },
          "metadata": {
            "tags": []
          },
          "execution_count": 6
        }
      ]
    },
    {
      "cell_type": "markdown",
      "metadata": {
        "id": "GUzk9uKcCOsb",
        "colab_type": "text"
      },
      "source": [
        "# Data Manipulation: creates a dataframe and examines only violations (not emergency calls)"
      ]
    },
    {
      "cell_type": "code",
      "metadata": {
        "id": "le8_W6fDs2ve",
        "colab_type": "code",
        "outputId": "478e9464-2123-4591-fb76-3ea71989cb52",
        "colab": {
          "base_uri": "https://localhost:8080/",
          "height": 0
        }
      },
      "source": [
        "# Create a copy and make cmplnt_num the index\n",
        "complaints_df = results_df.copy()\n",
        "complaints_df.set_index('CMPLNT_NUM', inplace = True)\n",
        "\n",
        "complaints_df.head()"
      ],
      "execution_count": 7,
      "outputs": [
        {
          "output_type": "execute_result",
          "data": {
            "text/html": [
              "<div>\n",
              "<style scoped>\n",
              "    .dataframe tbody tr th:only-of-type {\n",
              "        vertical-align: middle;\n",
              "    }\n",
              "\n",
              "    .dataframe tbody tr th {\n",
              "        vertical-align: top;\n",
              "    }\n",
              "\n",
              "    .dataframe thead th {\n",
              "        text-align: right;\n",
              "    }\n",
              "</style>\n",
              "<table border=\"1\" class=\"dataframe\">\n",
              "  <thead>\n",
              "    <tr style=\"text-align: right;\">\n",
              "      <th></th>\n",
              "      <th>ADDR_PCT_CD</th>\n",
              "      <th>BORO_NM</th>\n",
              "      <th>CMPLNT_FR_DT</th>\n",
              "      <th>CMPLNT_FR_TM</th>\n",
              "      <th>CMPLNT_TO_DT</th>\n",
              "      <th>CMPLNT_TO_TM</th>\n",
              "      <th>CRM_ATPT_CPTD_CD</th>\n",
              "      <th>HADEVELOPT</th>\n",
              "      <th>HOUSING_PSA</th>\n",
              "      <th>JURISDICTION_CODE</th>\n",
              "      <th>JURIS_DESC</th>\n",
              "      <th>KY_CD</th>\n",
              "      <th>LAW_CAT_CD</th>\n",
              "      <th>LOC_OF_OCCUR_DESC</th>\n",
              "      <th>OFNS_DESC</th>\n",
              "      <th>PARKS_NM</th>\n",
              "      <th>PATROL_BORO</th>\n",
              "      <th>PD_CD</th>\n",
              "      <th>PD_DESC</th>\n",
              "      <th>PREM_TYP_DESC</th>\n",
              "      <th>RPT_DT</th>\n",
              "      <th>STATION_NAME</th>\n",
              "      <th>SUSP_AGE_GROUP</th>\n",
              "      <th>SUSP_RACE</th>\n",
              "      <th>SUSP_SEX</th>\n",
              "      <th>TRANSIT_DISTRICT</th>\n",
              "      <th>VIC_AGE_GROUP</th>\n",
              "      <th>VIC_RACE</th>\n",
              "      <th>VIC_SEX</th>\n",
              "      <th>X_COORD_CD</th>\n",
              "      <th>Y_COORD_CD</th>\n",
              "      <th>Latitude</th>\n",
              "      <th>Longitude</th>\n",
              "      <th>Lat_Lon</th>\n",
              "    </tr>\n",
              "    <tr>\n",
              "      <th>CMPLNT_NUM</th>\n",
              "      <th></th>\n",
              "      <th></th>\n",
              "      <th></th>\n",
              "      <th></th>\n",
              "      <th></th>\n",
              "      <th></th>\n",
              "      <th></th>\n",
              "      <th></th>\n",
              "      <th></th>\n",
              "      <th></th>\n",
              "      <th></th>\n",
              "      <th></th>\n",
              "      <th></th>\n",
              "      <th></th>\n",
              "      <th></th>\n",
              "      <th></th>\n",
              "      <th></th>\n",
              "      <th></th>\n",
              "      <th></th>\n",
              "      <th></th>\n",
              "      <th></th>\n",
              "      <th></th>\n",
              "      <th></th>\n",
              "      <th></th>\n",
              "      <th></th>\n",
              "      <th></th>\n",
              "      <th></th>\n",
              "      <th></th>\n",
              "      <th></th>\n",
              "      <th></th>\n",
              "      <th></th>\n",
              "      <th></th>\n",
              "      <th></th>\n",
              "      <th></th>\n",
              "    </tr>\n",
              "  </thead>\n",
              "  <tbody>\n",
              "    <tr>\n",
              "      <th>781940970</th>\n",
              "      <td>115</td>\n",
              "      <td>QUEENS</td>\n",
              "      <td>01/05/2019</td>\n",
              "      <td>08:45:00</td>\n",
              "      <td>01/05/2019</td>\n",
              "      <td>08:47:00</td>\n",
              "      <td>COMPLETED</td>\n",
              "      <td>NaN</td>\n",
              "      <td>NaN</td>\n",
              "      <td>0</td>\n",
              "      <td>N.Y. POLICE DEPT</td>\n",
              "      <td>578</td>\n",
              "      <td>VIOLATION</td>\n",
              "      <td>INSIDE</td>\n",
              "      <td>HARRASSMENT 2</td>\n",
              "      <td>NaN</td>\n",
              "      <td>PATROL BORO QUEENS NORTH</td>\n",
              "      <td>638</td>\n",
              "      <td>HARASSMENT,SUBD 3,4,5</td>\n",
              "      <td>RESTAURANT/DINER</td>\n",
              "      <td>01/05/2019</td>\n",
              "      <td>NaN</td>\n",
              "      <td>UNKNOWN</td>\n",
              "      <td>BLACK</td>\n",
              "      <td>F</td>\n",
              "      <td>NaN</td>\n",
              "      <td>25-44</td>\n",
              "      <td>WHITE HISPANIC</td>\n",
              "      <td>M</td>\n",
              "      <td>1016395</td>\n",
              "      <td>214622</td>\n",
              "      <td>40.755714</td>\n",
              "      <td>-73.883975</td>\n",
              "      <td>(40.755714116000036, -73.88397502899994)</td>\n",
              "    </tr>\n",
              "    <tr>\n",
              "      <th>835070274</th>\n",
              "      <td>70</td>\n",
              "      <td>BROOKLYN</td>\n",
              "      <td>01/03/2019</td>\n",
              "      <td>18:30:00</td>\n",
              "      <td>01/03/2019</td>\n",
              "      <td>18:45:00</td>\n",
              "      <td>COMPLETED</td>\n",
              "      <td>NaN</td>\n",
              "      <td>NaN</td>\n",
              "      <td>0</td>\n",
              "      <td>N.Y. POLICE DEPT</td>\n",
              "      <td>578</td>\n",
              "      <td>VIOLATION</td>\n",
              "      <td>INSIDE</td>\n",
              "      <td>HARRASSMENT 2</td>\n",
              "      <td>NaN</td>\n",
              "      <td>PATROL BORO BKLYN SOUTH</td>\n",
              "      <td>638</td>\n",
              "      <td>HARASSMENT,SUBD 3,4,5</td>\n",
              "      <td>CHAIN STORE</td>\n",
              "      <td>01/03/2019</td>\n",
              "      <td>NaN</td>\n",
              "      <td>UNKNOWN</td>\n",
              "      <td>BLACK</td>\n",
              "      <td>F</td>\n",
              "      <td>NaN</td>\n",
              "      <td>25-44</td>\n",
              "      <td>BLACK</td>\n",
              "      <td>F</td>\n",
              "      <td>995885</td>\n",
              "      <td>174602</td>\n",
              "      <td>40.645919</td>\n",
              "      <td>-73.958074</td>\n",
              "      <td>(40.64591936100004, -73.95807437399996)</td>\n",
              "    </tr>\n",
              "    <tr>\n",
              "      <th>868311027</th>\n",
              "      <td>10</td>\n",
              "      <td>MANHATTAN</td>\n",
              "      <td>01/02/2019</td>\n",
              "      <td>17:05:00</td>\n",
              "      <td>01/02/2019</td>\n",
              "      <td>17:08:00</td>\n",
              "      <td>COMPLETED</td>\n",
              "      <td>NaN</td>\n",
              "      <td>NaN</td>\n",
              "      <td>0</td>\n",
              "      <td>N.Y. POLICE DEPT</td>\n",
              "      <td>578</td>\n",
              "      <td>VIOLATION</td>\n",
              "      <td>INSIDE</td>\n",
              "      <td>HARRASSMENT 2</td>\n",
              "      <td>NaN</td>\n",
              "      <td>PATROL BORO MAN SOUTH</td>\n",
              "      <td>637</td>\n",
              "      <td>HARASSMENT,SUBD 1,CIVILIAN</td>\n",
              "      <td>FAST FOOD</td>\n",
              "      <td>01/02/2019</td>\n",
              "      <td>NaN</td>\n",
              "      <td>UNKNOWN</td>\n",
              "      <td>WHITE</td>\n",
              "      <td>M</td>\n",
              "      <td>NaN</td>\n",
              "      <td>25-44</td>\n",
              "      <td>BLACK</td>\n",
              "      <td>M</td>\n",
              "      <td>984991</td>\n",
              "      <td>211390</td>\n",
              "      <td>40.746901</td>\n",
              "      <td>-73.997327</td>\n",
              "      <td>(40.74690148800004, -73.99732718499997)</td>\n",
              "    </tr>\n",
              "    <tr>\n",
              "      <th>249096292</th>\n",
              "      <td>19</td>\n",
              "      <td>MANHATTAN</td>\n",
              "      <td>01/06/2019</td>\n",
              "      <td>08:45:00</td>\n",
              "      <td>01/06/2019</td>\n",
              "      <td>08:58:00</td>\n",
              "      <td>COMPLETED</td>\n",
              "      <td>NaN</td>\n",
              "      <td>NaN</td>\n",
              "      <td>0</td>\n",
              "      <td>N.Y. POLICE DEPT</td>\n",
              "      <td>578</td>\n",
              "      <td>VIOLATION</td>\n",
              "      <td>FRONT OF</td>\n",
              "      <td>HARRASSMENT 2</td>\n",
              "      <td>NaN</td>\n",
              "      <td>PATROL BORO MAN NORTH</td>\n",
              "      <td>637</td>\n",
              "      <td>HARASSMENT,SUBD 1,CIVILIAN</td>\n",
              "      <td>STREET</td>\n",
              "      <td>01/06/2019</td>\n",
              "      <td>NaN</td>\n",
              "      <td>25-44</td>\n",
              "      <td>ASIAN / PACIFIC ISLANDER</td>\n",
              "      <td>M</td>\n",
              "      <td>NaN</td>\n",
              "      <td>25-44</td>\n",
              "      <td>ASIAN / PACIFIC ISLANDER</td>\n",
              "      <td>F</td>\n",
              "      <td>998583</td>\n",
              "      <td>222146</td>\n",
              "      <td>40.776412</td>\n",
              "      <td>-73.948251</td>\n",
              "      <td>(40.77641236200003, -73.94825084599995)</td>\n",
              "    </tr>\n",
              "    <tr>\n",
              "      <th>691512468</th>\n",
              "      <td>71</td>\n",
              "      <td>BROOKLYN</td>\n",
              "      <td>01/05/2019</td>\n",
              "      <td>18:10:00</td>\n",
              "      <td>01/05/2019</td>\n",
              "      <td>18:15:00</td>\n",
              "      <td>COMPLETED</td>\n",
              "      <td>NaN</td>\n",
              "      <td>NaN</td>\n",
              "      <td>0</td>\n",
              "      <td>N.Y. POLICE DEPT</td>\n",
              "      <td>578</td>\n",
              "      <td>VIOLATION</td>\n",
              "      <td>INSIDE</td>\n",
              "      <td>HARRASSMENT 2</td>\n",
              "      <td>NaN</td>\n",
              "      <td>PATROL BORO BKLYN SOUTH</td>\n",
              "      <td>638</td>\n",
              "      <td>HARASSMENT,SUBD 3,4,5</td>\n",
              "      <td>RESIDENCE - APT. HOUSE</td>\n",
              "      <td>01/05/2019</td>\n",
              "      <td>NaN</td>\n",
              "      <td>18-24</td>\n",
              "      <td>BLACK</td>\n",
              "      <td>M</td>\n",
              "      <td>NaN</td>\n",
              "      <td>18-24</td>\n",
              "      <td>BLACK</td>\n",
              "      <td>F</td>\n",
              "      <td>997631</td>\n",
              "      <td>178916</td>\n",
              "      <td>40.657758</td>\n",
              "      <td>-73.951774</td>\n",
              "      <td>(40.65775788800004, -73.95177405399994)</td>\n",
              "    </tr>\n",
              "  </tbody>\n",
              "</table>\n",
              "</div>"
            ],
            "text/plain": [
              "            ADDR_PCT_CD  ...                                   Lat_Lon\n",
              "CMPLNT_NUM               ...                                          \n",
              "781940970           115  ...  (40.755714116000036, -73.88397502899994)\n",
              "835070274            70  ...   (40.64591936100004, -73.95807437399996)\n",
              "868311027            10  ...   (40.74690148800004, -73.99732718499997)\n",
              "249096292            19  ...   (40.77641236200003, -73.94825084599995)\n",
              "691512468            71  ...   (40.65775788800004, -73.95177405399994)\n",
              "\n",
              "[5 rows x 34 columns]"
            ]
          },
          "metadata": {
            "tags": []
          },
          "execution_count": 7
        }
      ]
    },
    {
      "cell_type": "code",
      "metadata": {
        "id": "8JM4ZEEAbizh",
        "colab_type": "code",
        "outputId": "80406a53-5698-4b32-b312-b9c63b1b40fa",
        "colab": {
          "base_uri": "https://localhost:8080/",
          "height": 0
        }
      },
      "source": [
        "# Cut down data just to law_cat_cd = VIOLATION\n",
        "\n",
        "violations = complaints_df[complaints_df['LAW_CAT_CD'] == \"VIOLATION\"].copy()\n",
        "sorted_violations = violations.sort_values(by = [\"RPT_DT\"], ascending = False)\n",
        "sorted_violations.head()"
      ],
      "execution_count": 8,
      "outputs": [
        {
          "output_type": "execute_result",
          "data": {
            "text/html": [
              "<div>\n",
              "<style scoped>\n",
              "    .dataframe tbody tr th:only-of-type {\n",
              "        vertical-align: middle;\n",
              "    }\n",
              "\n",
              "    .dataframe tbody tr th {\n",
              "        vertical-align: top;\n",
              "    }\n",
              "\n",
              "    .dataframe thead th {\n",
              "        text-align: right;\n",
              "    }\n",
              "</style>\n",
              "<table border=\"1\" class=\"dataframe\">\n",
              "  <thead>\n",
              "    <tr style=\"text-align: right;\">\n",
              "      <th></th>\n",
              "      <th>ADDR_PCT_CD</th>\n",
              "      <th>BORO_NM</th>\n",
              "      <th>CMPLNT_FR_DT</th>\n",
              "      <th>CMPLNT_FR_TM</th>\n",
              "      <th>CMPLNT_TO_DT</th>\n",
              "      <th>CMPLNT_TO_TM</th>\n",
              "      <th>CRM_ATPT_CPTD_CD</th>\n",
              "      <th>HADEVELOPT</th>\n",
              "      <th>HOUSING_PSA</th>\n",
              "      <th>JURISDICTION_CODE</th>\n",
              "      <th>JURIS_DESC</th>\n",
              "      <th>KY_CD</th>\n",
              "      <th>LAW_CAT_CD</th>\n",
              "      <th>LOC_OF_OCCUR_DESC</th>\n",
              "      <th>OFNS_DESC</th>\n",
              "      <th>PARKS_NM</th>\n",
              "      <th>PATROL_BORO</th>\n",
              "      <th>PD_CD</th>\n",
              "      <th>PD_DESC</th>\n",
              "      <th>PREM_TYP_DESC</th>\n",
              "      <th>RPT_DT</th>\n",
              "      <th>STATION_NAME</th>\n",
              "      <th>SUSP_AGE_GROUP</th>\n",
              "      <th>SUSP_RACE</th>\n",
              "      <th>SUSP_SEX</th>\n",
              "      <th>TRANSIT_DISTRICT</th>\n",
              "      <th>VIC_AGE_GROUP</th>\n",
              "      <th>VIC_RACE</th>\n",
              "      <th>VIC_SEX</th>\n",
              "      <th>X_COORD_CD</th>\n",
              "      <th>Y_COORD_CD</th>\n",
              "      <th>Latitude</th>\n",
              "      <th>Longitude</th>\n",
              "      <th>Lat_Lon</th>\n",
              "    </tr>\n",
              "    <tr>\n",
              "      <th>CMPLNT_NUM</th>\n",
              "      <th></th>\n",
              "      <th></th>\n",
              "      <th></th>\n",
              "      <th></th>\n",
              "      <th></th>\n",
              "      <th></th>\n",
              "      <th></th>\n",
              "      <th></th>\n",
              "      <th></th>\n",
              "      <th></th>\n",
              "      <th></th>\n",
              "      <th></th>\n",
              "      <th></th>\n",
              "      <th></th>\n",
              "      <th></th>\n",
              "      <th></th>\n",
              "      <th></th>\n",
              "      <th></th>\n",
              "      <th></th>\n",
              "      <th></th>\n",
              "      <th></th>\n",
              "      <th></th>\n",
              "      <th></th>\n",
              "      <th></th>\n",
              "      <th></th>\n",
              "      <th></th>\n",
              "      <th></th>\n",
              "      <th></th>\n",
              "      <th></th>\n",
              "      <th></th>\n",
              "      <th></th>\n",
              "      <th></th>\n",
              "      <th></th>\n",
              "      <th></th>\n",
              "    </tr>\n",
              "  </thead>\n",
              "  <tbody>\n",
              "    <tr>\n",
              "      <th>912089628</th>\n",
              "      <td>90</td>\n",
              "      <td>BROOKLYN</td>\n",
              "      <td>12/31/2019</td>\n",
              "      <td>01:55:00</td>\n",
              "      <td>12/31/2019</td>\n",
              "      <td>02:00:00</td>\n",
              "      <td>COMPLETED</td>\n",
              "      <td>NaN</td>\n",
              "      <td>NaN</td>\n",
              "      <td>0</td>\n",
              "      <td>N.Y. POLICE DEPT</td>\n",
              "      <td>578</td>\n",
              "      <td>VIOLATION</td>\n",
              "      <td>FRONT OF</td>\n",
              "      <td>HARRASSMENT 2</td>\n",
              "      <td>NaN</td>\n",
              "      <td>PATROL BORO BKLYN NORTH</td>\n",
              "      <td>637</td>\n",
              "      <td>HARASSMENT,SUBD 1,CIVILIAN</td>\n",
              "      <td>STREET</td>\n",
              "      <td>12/31/2019</td>\n",
              "      <td>NaN</td>\n",
              "      <td>25-44</td>\n",
              "      <td>WHITE</td>\n",
              "      <td>M</td>\n",
              "      <td>NaN</td>\n",
              "      <td>25-44</td>\n",
              "      <td>WHITE</td>\n",
              "      <td>M</td>\n",
              "      <td>1004611</td>\n",
              "      <td>198184</td>\n",
              "      <td>40.710631</td>\n",
              "      <td>-73.926559</td>\n",
              "      <td>(40.71063084200006, -73.92655874299999)</td>\n",
              "    </tr>\n",
              "    <tr>\n",
              "      <th>977149387</th>\n",
              "      <td>45</td>\n",
              "      <td>BRONX</td>\n",
              "      <td>12/29/2019</td>\n",
              "      <td>23:00:00</td>\n",
              "      <td>12/29/2019</td>\n",
              "      <td>23:30:00</td>\n",
              "      <td>COMPLETED</td>\n",
              "      <td>NaN</td>\n",
              "      <td>NaN</td>\n",
              "      <td>0</td>\n",
              "      <td>N.Y. POLICE DEPT</td>\n",
              "      <td>678</td>\n",
              "      <td>VIOLATION</td>\n",
              "      <td>INSIDE</td>\n",
              "      <td>MISCELLANEOUS PENAL LAW</td>\n",
              "      <td>NaN</td>\n",
              "      <td>PATROL BORO BRONX</td>\n",
              "      <td>201</td>\n",
              "      <td>TRESPASS 4,CRIMINAL SUB 2</td>\n",
              "      <td>COMMERCIAL BUILDING</td>\n",
              "      <td>12/31/2019</td>\n",
              "      <td>NaN</td>\n",
              "      <td>NaN</td>\n",
              "      <td>NaN</td>\n",
              "      <td>NaN</td>\n",
              "      <td>NaN</td>\n",
              "      <td>UNKNOWN</td>\n",
              "      <td>UNKNOWN</td>\n",
              "      <td>D</td>\n",
              "      <td>1034489</td>\n",
              "      <td>238503</td>\n",
              "      <td>40.821177</td>\n",
              "      <td>-73.818487</td>\n",
              "      <td>(40.82117663500002, -73.81848681799994)</td>\n",
              "    </tr>\n",
              "    <tr>\n",
              "      <th>498009436</th>\n",
              "      <td>10</td>\n",
              "      <td>MANHATTAN</td>\n",
              "      <td>12/31/2019</td>\n",
              "      <td>11:30:00</td>\n",
              "      <td>NaN</td>\n",
              "      <td>NaN</td>\n",
              "      <td>COMPLETED</td>\n",
              "      <td>NaN</td>\n",
              "      <td>NaN</td>\n",
              "      <td>0</td>\n",
              "      <td>N.Y. POLICE DEPT</td>\n",
              "      <td>578</td>\n",
              "      <td>VIOLATION</td>\n",
              "      <td>FRONT OF</td>\n",
              "      <td>HARRASSMENT 2</td>\n",
              "      <td>NaN</td>\n",
              "      <td>PATROL BORO MAN SOUTH</td>\n",
              "      <td>637</td>\n",
              "      <td>HARASSMENT,SUBD 1,CIVILIAN</td>\n",
              "      <td>BAR/NIGHT CLUB</td>\n",
              "      <td>12/31/2019</td>\n",
              "      <td>NaN</td>\n",
              "      <td>UNKNOWN</td>\n",
              "      <td>WHITE</td>\n",
              "      <td>M</td>\n",
              "      <td>NaN</td>\n",
              "      <td>UNKNOWN</td>\n",
              "      <td>UNKNOWN</td>\n",
              "      <td>F</td>\n",
              "      <td>983423</td>\n",
              "      <td>209491</td>\n",
              "      <td>40.741689</td>\n",
              "      <td>-74.002986</td>\n",
              "      <td>(40.741689200000046, -74.00298585099996)</td>\n",
              "    </tr>\n",
              "    <tr>\n",
              "      <th>738915510</th>\n",
              "      <td>73</td>\n",
              "      <td>BROOKLYN</td>\n",
              "      <td>12/31/2019</td>\n",
              "      <td>13:00:00</td>\n",
              "      <td>12/31/2019</td>\n",
              "      <td>13:30:00</td>\n",
              "      <td>COMPLETED</td>\n",
              "      <td>GARVEY (GROUP A)</td>\n",
              "      <td>352.0</td>\n",
              "      <td>2</td>\n",
              "      <td>N.Y. HOUSING POLICE</td>\n",
              "      <td>578</td>\n",
              "      <td>VIOLATION</td>\n",
              "      <td>INSIDE</td>\n",
              "      <td>HARRASSMENT 2</td>\n",
              "      <td>NaN</td>\n",
              "      <td>PATROL BORO BKLYN NORTH</td>\n",
              "      <td>638</td>\n",
              "      <td>HARASSMENT,SUBD 3,4,5</td>\n",
              "      <td>RESIDENCE - PUBLIC HOUSING</td>\n",
              "      <td>12/31/2019</td>\n",
              "      <td>NaN</td>\n",
              "      <td>45-64</td>\n",
              "      <td>BLACK HISPANIC</td>\n",
              "      <td>M</td>\n",
              "      <td>NaN</td>\n",
              "      <td>&lt;18</td>\n",
              "      <td>BLACK HISPANIC</td>\n",
              "      <td>F</td>\n",
              "      <td>1007915</td>\n",
              "      <td>183324</td>\n",
              "      <td>40.669835</td>\n",
              "      <td>-73.914693</td>\n",
              "      <td>(40.66983535600008, -73.91469332599996)</td>\n",
              "    </tr>\n",
              "    <tr>\n",
              "      <th>645153333</th>\n",
              "      <td>46</td>\n",
              "      <td>BRONX</td>\n",
              "      <td>12/31/2019</td>\n",
              "      <td>14:50:00</td>\n",
              "      <td>12/31/2019</td>\n",
              "      <td>14:55:00</td>\n",
              "      <td>COMPLETED</td>\n",
              "      <td>NaN</td>\n",
              "      <td>NaN</td>\n",
              "      <td>0</td>\n",
              "      <td>N.Y. POLICE DEPT</td>\n",
              "      <td>578</td>\n",
              "      <td>VIOLATION</td>\n",
              "      <td>INSIDE</td>\n",
              "      <td>HARRASSMENT 2</td>\n",
              "      <td>NaN</td>\n",
              "      <td>PATROL BORO BRONX</td>\n",
              "      <td>638</td>\n",
              "      <td>HARASSMENT,SUBD 3,4,5</td>\n",
              "      <td>RESIDENCE - APT. HOUSE</td>\n",
              "      <td>12/31/2019</td>\n",
              "      <td>NaN</td>\n",
              "      <td>NaN</td>\n",
              "      <td>NaN</td>\n",
              "      <td>NaN</td>\n",
              "      <td>NaN</td>\n",
              "      <td>45-64</td>\n",
              "      <td>WHITE HISPANIC</td>\n",
              "      <td>F</td>\n",
              "      <td>1008203</td>\n",
              "      <td>248737</td>\n",
              "      <td>40.849376</td>\n",
              "      <td>-73.913422</td>\n",
              "      <td>(40.84937638600008, -73.91342208599998)</td>\n",
              "    </tr>\n",
              "  </tbody>\n",
              "</table>\n",
              "</div>"
            ],
            "text/plain": [
              "            ADDR_PCT_CD  ...                                   Lat_Lon\n",
              "CMPLNT_NUM               ...                                          \n",
              "912089628            90  ...   (40.71063084200006, -73.92655874299999)\n",
              "977149387            45  ...   (40.82117663500002, -73.81848681799994)\n",
              "498009436            10  ...  (40.741689200000046, -74.00298585099996)\n",
              "738915510            73  ...   (40.66983535600008, -73.91469332599996)\n",
              "645153333            46  ...   (40.84937638600008, -73.91342208599998)\n",
              "\n",
              "[5 rows x 34 columns]"
            ]
          },
          "metadata": {
            "tags": []
          },
          "execution_count": 8
        }
      ]
    },
    {
      "cell_type": "markdown",
      "metadata": {
        "id": "uxPzPnWDCXru",
        "colab_type": "text"
      },
      "source": [
        "# Data Analysis: Tables"
      ]
    },
    {
      "cell_type": "code",
      "metadata": {
        "id": "Z6DpDufcyJYS",
        "colab_type": "code",
        "outputId": "b95d486c-c769-4e04-b7ec-326e3b4edcbb",
        "colab": {
          "base_uri": "https://localhost:8080/",
          "height": 51
        }
      },
      "source": [
        "# See date breakdown of data\n",
        "print(min(violations.RPT_DT))\n",
        "print(max(violations.RPT_DT))"
      ],
      "execution_count": 9,
      "outputs": [
        {
          "output_type": "stream",
          "text": [
            "01/01/2019\n",
            "12/31/2019\n"
          ],
          "name": "stdout"
        }
      ]
    },
    {
      "cell_type": "markdown",
      "metadata": {
        "id": "JSvUM1wxgwBH",
        "colab_type": "text"
      },
      "source": [
        "Now, learn more about the characteristics of the complaints, including victim characteristics and suspect characteristics."
      ]
    },
    {
      "cell_type": "code",
      "metadata": {
        "id": "mjg0XAWMyJbQ",
        "colab_type": "code",
        "outputId": "f512d6b4-8993-4623-fc0b-0bc4984890d7",
        "colab": {
          "base_uri": "https://localhost:8080/",
          "height": 714
        }
      },
      "source": [
        "# understand the data counts and data types for the columns\n",
        "violations.info()"
      ],
      "execution_count": 10,
      "outputs": [
        {
          "output_type": "stream",
          "text": [
            "<class 'pandas.core.frame.DataFrame'>\n",
            "Int64Index: 72670 entries, 781940970 to 981427174\n",
            "Data columns (total 34 columns):\n",
            " #   Column             Non-Null Count  Dtype  \n",
            "---  ------             --------------  -----  \n",
            " 0   ADDR_PCT_CD        72670 non-null  int64  \n",
            " 1   BORO_NM            72669 non-null  object \n",
            " 2   CMPLNT_FR_DT       72670 non-null  object \n",
            " 3   CMPLNT_FR_TM       72670 non-null  object \n",
            " 4   CMPLNT_TO_DT       61924 non-null  object \n",
            " 5   CMPLNT_TO_TM       61985 non-null  object \n",
            " 6   CRM_ATPT_CPTD_CD   72670 non-null  object \n",
            " 7   HADEVELOPT         5002 non-null   object \n",
            " 8   HOUSING_PSA        7590 non-null   float64\n",
            " 9   JURISDICTION_CODE  72670 non-null  int64  \n",
            " 10  JURIS_DESC         72670 non-null  object \n",
            " 11  KY_CD              72670 non-null  int64  \n",
            " 12  LAW_CAT_CD         72670 non-null  object \n",
            " 13  LOC_OF_OCCUR_DESC  64388 non-null  object \n",
            " 14  OFNS_DESC          72670 non-null  object \n",
            " 15  PARKS_NM           374 non-null    object \n",
            " 16  PATROL_BORO        72670 non-null  object \n",
            " 17  PD_CD              72670 non-null  int64  \n",
            " 18  PD_DESC            72670 non-null  object \n",
            " 19  PREM_TYP_DESC      72419 non-null  object \n",
            " 20  RPT_DT             72670 non-null  object \n",
            " 21  STATION_NAME       1348 non-null   object \n",
            " 22  SUSP_AGE_GROUP     68513 non-null  object \n",
            " 23  SUSP_RACE          68513 non-null  object \n",
            " 24  SUSP_SEX           68513 non-null  object \n",
            " 25  TRANSIT_DISTRICT   1348 non-null   float64\n",
            " 26  VIC_AGE_GROUP      72670 non-null  object \n",
            " 27  VIC_RACE           72670 non-null  object \n",
            " 28  VIC_SEX            72670 non-null  object \n",
            " 29  X_COORD_CD         72670 non-null  int64  \n",
            " 30  Y_COORD_CD         72670 non-null  int64  \n",
            " 31  Latitude           72670 non-null  float64\n",
            " 32  Longitude          72670 non-null  float64\n",
            " 33  Lat_Lon            72670 non-null  object \n",
            "dtypes: float64(4), int64(6), object(24)\n",
            "memory usage: 19.4+ MB\n"
          ],
          "name": "stdout"
        }
      ]
    },
    {
      "cell_type": "code",
      "metadata": {
        "id": "myIImuXLl0ER",
        "colab_type": "code",
        "outputId": "85307088-60f2-434e-d897-b7b91666ba8b",
        "colab": {
          "base_uri": "https://localhost:8080/",
          "height": 187
        }
      },
      "source": [
        "# Check against total number of violations\n",
        "violations[\"OFNS_DESC\"].value_counts()"
      ],
      "execution_count": 11,
      "outputs": [
        {
          "output_type": "execute_result",
          "data": {
            "text/plain": [
              "HARRASSMENT 2                      72006\n",
              "MISCELLANEOUS PENAL LAW              549\n",
              "ADMINISTRATIVE CODE                   51\n",
              "DISORDERLY CONDUCT                    29\n",
              "OTHER STATE LAWS                      11\n",
              "NYS LAWS-UNCLASSIFIED VIOLATION       11\n",
              "LOITERING/GAMBLING (CARDS, DIC         9\n",
              "UNLAWFUL POSS. WEAP. ON SCHOOL         3\n",
              "OTHER TRAFFIC INFRACTION               1\n",
              "Name: OFNS_DESC, dtype: int64"
            ]
          },
          "metadata": {
            "tags": []
          },
          "execution_count": 11
        }
      ]
    },
    {
      "cell_type": "code",
      "metadata": {
        "id": "PIVEBTEWvByy",
        "colab_type": "code",
        "outputId": "bb370bf3-3f7e-48ca-e730-4d858fbc79ad",
        "colab": {
          "base_uri": "https://localhost:8080/",
          "height": 459
        }
      },
      "source": [
        "# Count by types of violation\n",
        "violations[\"PD_DESC\"].value_counts()"
      ],
      "execution_count": 12,
      "outputs": [
        {
          "output_type": "execute_result",
          "data": {
            "text/plain": [
              "HARASSMENT,SUBD 3,4,5                  51966\n",
              "HARASSMENT,SUBD 1,CIVILIAN             20040\n",
              "TRESPASS 4,CRIMINAL SUB 2                323\n",
              "MARIJUANA, POSSESSION                    176\n",
              "EXPOSURE OF A PERSON                      37\n",
              "ADM.CODE,UNCLASSIFIED VIOLATIO            31\n",
              "DISORDERLY CONDUCT                        29\n",
              "IMITATION PISTOL/AIR RIFLE                10\n",
              "NY STATE LAWS,UNCLASSIFIED VIO            10\n",
              "LOITERING,GAMBLING,OTHER                   9\n",
              "INAPPROPIATE SHELTER DOG LEFT              7\n",
              "THEFT OF SERVICES- CABLE TV SE             5\n",
              "CONFINING ANIMAL IN VEHICLE/SHELTER        4\n",
              "POSSES OR CARRY A KNIFE                    4\n",
              "FIREWORKS, POSSESS/USE                     4\n",
              "POSTING ADVERTISEMENTS                     3\n",
              "UNLAWFUL POSS. WEAPON UPON SCH             3\n",
              "PARKR&R,UNCLASSIFIED VIOLATION             2\n",
              "ALCOHOLIC BEVERAGES,PUBLIC CON             1\n",
              "AIRPOLLUTION                               1\n",
              "FIREWORKS                                  1\n",
              "TRAFFIC,UNCLASSIFIED INFRACTIO             1\n",
              "A.B.C.,FALSE PROOF OF AGE                  1\n",
              "SOLICITATION 5,CRIMINAL                    1\n",
              "PARK R&R,GAMBLING                          1\n",
              "Name: PD_DESC, dtype: int64"
            ]
          },
          "metadata": {
            "tags": []
          },
          "execution_count": 12
        }
      ]
    },
    {
      "cell_type": "code",
      "metadata": {
        "id": "Vk2F2armli-J",
        "colab_type": "code",
        "outputId": "d5e9ebae-1fc2-4700-a683-546424f69e01",
        "colab": {
          "base_uri": "https://localhost:8080/",
          "height": 476
        }
      },
      "source": [
        "# Create new variable called \"rept_dt_yr\" that only contains the year the complaint was made\n",
        "import datetime\n",
        "\n",
        "violations[\"RPT_DT_YR\"] = pd.DatetimeIndex(violations[\"RPT_DT\"]).year\n",
        "violations.head()"
      ],
      "execution_count": 13,
      "outputs": [
        {
          "output_type": "execute_result",
          "data": {
            "text/html": [
              "<div>\n",
              "<style scoped>\n",
              "    .dataframe tbody tr th:only-of-type {\n",
              "        vertical-align: middle;\n",
              "    }\n",
              "\n",
              "    .dataframe tbody tr th {\n",
              "        vertical-align: top;\n",
              "    }\n",
              "\n",
              "    .dataframe thead th {\n",
              "        text-align: right;\n",
              "    }\n",
              "</style>\n",
              "<table border=\"1\" class=\"dataframe\">\n",
              "  <thead>\n",
              "    <tr style=\"text-align: right;\">\n",
              "      <th></th>\n",
              "      <th>ADDR_PCT_CD</th>\n",
              "      <th>BORO_NM</th>\n",
              "      <th>CMPLNT_FR_DT</th>\n",
              "      <th>CMPLNT_FR_TM</th>\n",
              "      <th>CMPLNT_TO_DT</th>\n",
              "      <th>CMPLNT_TO_TM</th>\n",
              "      <th>CRM_ATPT_CPTD_CD</th>\n",
              "      <th>HADEVELOPT</th>\n",
              "      <th>HOUSING_PSA</th>\n",
              "      <th>JURISDICTION_CODE</th>\n",
              "      <th>JURIS_DESC</th>\n",
              "      <th>KY_CD</th>\n",
              "      <th>LAW_CAT_CD</th>\n",
              "      <th>LOC_OF_OCCUR_DESC</th>\n",
              "      <th>OFNS_DESC</th>\n",
              "      <th>PARKS_NM</th>\n",
              "      <th>PATROL_BORO</th>\n",
              "      <th>PD_CD</th>\n",
              "      <th>PD_DESC</th>\n",
              "      <th>PREM_TYP_DESC</th>\n",
              "      <th>RPT_DT</th>\n",
              "      <th>STATION_NAME</th>\n",
              "      <th>SUSP_AGE_GROUP</th>\n",
              "      <th>SUSP_RACE</th>\n",
              "      <th>SUSP_SEX</th>\n",
              "      <th>TRANSIT_DISTRICT</th>\n",
              "      <th>VIC_AGE_GROUP</th>\n",
              "      <th>VIC_RACE</th>\n",
              "      <th>VIC_SEX</th>\n",
              "      <th>X_COORD_CD</th>\n",
              "      <th>Y_COORD_CD</th>\n",
              "      <th>Latitude</th>\n",
              "      <th>Longitude</th>\n",
              "      <th>Lat_Lon</th>\n",
              "      <th>RPT_DT_YR</th>\n",
              "    </tr>\n",
              "    <tr>\n",
              "      <th>CMPLNT_NUM</th>\n",
              "      <th></th>\n",
              "      <th></th>\n",
              "      <th></th>\n",
              "      <th></th>\n",
              "      <th></th>\n",
              "      <th></th>\n",
              "      <th></th>\n",
              "      <th></th>\n",
              "      <th></th>\n",
              "      <th></th>\n",
              "      <th></th>\n",
              "      <th></th>\n",
              "      <th></th>\n",
              "      <th></th>\n",
              "      <th></th>\n",
              "      <th></th>\n",
              "      <th></th>\n",
              "      <th></th>\n",
              "      <th></th>\n",
              "      <th></th>\n",
              "      <th></th>\n",
              "      <th></th>\n",
              "      <th></th>\n",
              "      <th></th>\n",
              "      <th></th>\n",
              "      <th></th>\n",
              "      <th></th>\n",
              "      <th></th>\n",
              "      <th></th>\n",
              "      <th></th>\n",
              "      <th></th>\n",
              "      <th></th>\n",
              "      <th></th>\n",
              "      <th></th>\n",
              "      <th></th>\n",
              "    </tr>\n",
              "  </thead>\n",
              "  <tbody>\n",
              "    <tr>\n",
              "      <th>781940970</th>\n",
              "      <td>115</td>\n",
              "      <td>QUEENS</td>\n",
              "      <td>01/05/2019</td>\n",
              "      <td>08:45:00</td>\n",
              "      <td>01/05/2019</td>\n",
              "      <td>08:47:00</td>\n",
              "      <td>COMPLETED</td>\n",
              "      <td>NaN</td>\n",
              "      <td>NaN</td>\n",
              "      <td>0</td>\n",
              "      <td>N.Y. POLICE DEPT</td>\n",
              "      <td>578</td>\n",
              "      <td>VIOLATION</td>\n",
              "      <td>INSIDE</td>\n",
              "      <td>HARRASSMENT 2</td>\n",
              "      <td>NaN</td>\n",
              "      <td>PATROL BORO QUEENS NORTH</td>\n",
              "      <td>638</td>\n",
              "      <td>HARASSMENT,SUBD 3,4,5</td>\n",
              "      <td>RESTAURANT/DINER</td>\n",
              "      <td>01/05/2019</td>\n",
              "      <td>NaN</td>\n",
              "      <td>UNKNOWN</td>\n",
              "      <td>BLACK</td>\n",
              "      <td>F</td>\n",
              "      <td>NaN</td>\n",
              "      <td>25-44</td>\n",
              "      <td>WHITE HISPANIC</td>\n",
              "      <td>M</td>\n",
              "      <td>1016395</td>\n",
              "      <td>214622</td>\n",
              "      <td>40.755714</td>\n",
              "      <td>-73.883975</td>\n",
              "      <td>(40.755714116000036, -73.88397502899994)</td>\n",
              "      <td>2019</td>\n",
              "    </tr>\n",
              "    <tr>\n",
              "      <th>835070274</th>\n",
              "      <td>70</td>\n",
              "      <td>BROOKLYN</td>\n",
              "      <td>01/03/2019</td>\n",
              "      <td>18:30:00</td>\n",
              "      <td>01/03/2019</td>\n",
              "      <td>18:45:00</td>\n",
              "      <td>COMPLETED</td>\n",
              "      <td>NaN</td>\n",
              "      <td>NaN</td>\n",
              "      <td>0</td>\n",
              "      <td>N.Y. POLICE DEPT</td>\n",
              "      <td>578</td>\n",
              "      <td>VIOLATION</td>\n",
              "      <td>INSIDE</td>\n",
              "      <td>HARRASSMENT 2</td>\n",
              "      <td>NaN</td>\n",
              "      <td>PATROL BORO BKLYN SOUTH</td>\n",
              "      <td>638</td>\n",
              "      <td>HARASSMENT,SUBD 3,4,5</td>\n",
              "      <td>CHAIN STORE</td>\n",
              "      <td>01/03/2019</td>\n",
              "      <td>NaN</td>\n",
              "      <td>UNKNOWN</td>\n",
              "      <td>BLACK</td>\n",
              "      <td>F</td>\n",
              "      <td>NaN</td>\n",
              "      <td>25-44</td>\n",
              "      <td>BLACK</td>\n",
              "      <td>F</td>\n",
              "      <td>995885</td>\n",
              "      <td>174602</td>\n",
              "      <td>40.645919</td>\n",
              "      <td>-73.958074</td>\n",
              "      <td>(40.64591936100004, -73.95807437399996)</td>\n",
              "      <td>2019</td>\n",
              "    </tr>\n",
              "    <tr>\n",
              "      <th>868311027</th>\n",
              "      <td>10</td>\n",
              "      <td>MANHATTAN</td>\n",
              "      <td>01/02/2019</td>\n",
              "      <td>17:05:00</td>\n",
              "      <td>01/02/2019</td>\n",
              "      <td>17:08:00</td>\n",
              "      <td>COMPLETED</td>\n",
              "      <td>NaN</td>\n",
              "      <td>NaN</td>\n",
              "      <td>0</td>\n",
              "      <td>N.Y. POLICE DEPT</td>\n",
              "      <td>578</td>\n",
              "      <td>VIOLATION</td>\n",
              "      <td>INSIDE</td>\n",
              "      <td>HARRASSMENT 2</td>\n",
              "      <td>NaN</td>\n",
              "      <td>PATROL BORO MAN SOUTH</td>\n",
              "      <td>637</td>\n",
              "      <td>HARASSMENT,SUBD 1,CIVILIAN</td>\n",
              "      <td>FAST FOOD</td>\n",
              "      <td>01/02/2019</td>\n",
              "      <td>NaN</td>\n",
              "      <td>UNKNOWN</td>\n",
              "      <td>WHITE</td>\n",
              "      <td>M</td>\n",
              "      <td>NaN</td>\n",
              "      <td>25-44</td>\n",
              "      <td>BLACK</td>\n",
              "      <td>M</td>\n",
              "      <td>984991</td>\n",
              "      <td>211390</td>\n",
              "      <td>40.746901</td>\n",
              "      <td>-73.997327</td>\n",
              "      <td>(40.74690148800004, -73.99732718499997)</td>\n",
              "      <td>2019</td>\n",
              "    </tr>\n",
              "    <tr>\n",
              "      <th>249096292</th>\n",
              "      <td>19</td>\n",
              "      <td>MANHATTAN</td>\n",
              "      <td>01/06/2019</td>\n",
              "      <td>08:45:00</td>\n",
              "      <td>01/06/2019</td>\n",
              "      <td>08:58:00</td>\n",
              "      <td>COMPLETED</td>\n",
              "      <td>NaN</td>\n",
              "      <td>NaN</td>\n",
              "      <td>0</td>\n",
              "      <td>N.Y. POLICE DEPT</td>\n",
              "      <td>578</td>\n",
              "      <td>VIOLATION</td>\n",
              "      <td>FRONT OF</td>\n",
              "      <td>HARRASSMENT 2</td>\n",
              "      <td>NaN</td>\n",
              "      <td>PATROL BORO MAN NORTH</td>\n",
              "      <td>637</td>\n",
              "      <td>HARASSMENT,SUBD 1,CIVILIAN</td>\n",
              "      <td>STREET</td>\n",
              "      <td>01/06/2019</td>\n",
              "      <td>NaN</td>\n",
              "      <td>25-44</td>\n",
              "      <td>ASIAN / PACIFIC ISLANDER</td>\n",
              "      <td>M</td>\n",
              "      <td>NaN</td>\n",
              "      <td>25-44</td>\n",
              "      <td>ASIAN / PACIFIC ISLANDER</td>\n",
              "      <td>F</td>\n",
              "      <td>998583</td>\n",
              "      <td>222146</td>\n",
              "      <td>40.776412</td>\n",
              "      <td>-73.948251</td>\n",
              "      <td>(40.77641236200003, -73.94825084599995)</td>\n",
              "      <td>2019</td>\n",
              "    </tr>\n",
              "    <tr>\n",
              "      <th>691512468</th>\n",
              "      <td>71</td>\n",
              "      <td>BROOKLYN</td>\n",
              "      <td>01/05/2019</td>\n",
              "      <td>18:10:00</td>\n",
              "      <td>01/05/2019</td>\n",
              "      <td>18:15:00</td>\n",
              "      <td>COMPLETED</td>\n",
              "      <td>NaN</td>\n",
              "      <td>NaN</td>\n",
              "      <td>0</td>\n",
              "      <td>N.Y. POLICE DEPT</td>\n",
              "      <td>578</td>\n",
              "      <td>VIOLATION</td>\n",
              "      <td>INSIDE</td>\n",
              "      <td>HARRASSMENT 2</td>\n",
              "      <td>NaN</td>\n",
              "      <td>PATROL BORO BKLYN SOUTH</td>\n",
              "      <td>638</td>\n",
              "      <td>HARASSMENT,SUBD 3,4,5</td>\n",
              "      <td>RESIDENCE - APT. HOUSE</td>\n",
              "      <td>01/05/2019</td>\n",
              "      <td>NaN</td>\n",
              "      <td>18-24</td>\n",
              "      <td>BLACK</td>\n",
              "      <td>M</td>\n",
              "      <td>NaN</td>\n",
              "      <td>18-24</td>\n",
              "      <td>BLACK</td>\n",
              "      <td>F</td>\n",
              "      <td>997631</td>\n",
              "      <td>178916</td>\n",
              "      <td>40.657758</td>\n",
              "      <td>-73.951774</td>\n",
              "      <td>(40.65775788800004, -73.95177405399994)</td>\n",
              "      <td>2019</td>\n",
              "    </tr>\n",
              "  </tbody>\n",
              "</table>\n",
              "</div>"
            ],
            "text/plain": [
              "            ADDR_PCT_CD  ... RPT_DT_YR\n",
              "CMPLNT_NUM               ...          \n",
              "781940970           115  ...      2019\n",
              "835070274            70  ...      2019\n",
              "868311027            10  ...      2019\n",
              "249096292            19  ...      2019\n",
              "691512468            71  ...      2019\n",
              "\n",
              "[5 rows x 35 columns]"
            ]
          },
          "metadata": {
            "tags": []
          },
          "execution_count": 13
        }
      ]
    },
    {
      "cell_type": "code",
      "metadata": {
        "id": "byuZBYAoloG0",
        "colab_type": "code",
        "outputId": "3025b38c-9334-4d88-e9d4-b11e93369c79",
        "colab": {
          "base_uri": "https://localhost:8080/",
          "height": 238
        }
      },
      "source": [
        "#Breaking down complaint counts by victim age, race, and sex\n",
        "\n",
        "violations.groupby([\"VIC_AGE_GROUP\", \"VIC_RACE\", \"VIC_SEX\"]).size()"
      ],
      "execution_count": 14,
      "outputs": [
        {
          "output_type": "execute_result",
          "data": {
            "text/plain": [
              "VIC_AGE_GROUP  VIC_RACE                        VIC_SEX\n",
              "-942           WHITE                           M            1\n",
              "-946           WHITE HISPANIC                  F            1\n",
              "-974           UNKNOWN                         F            1\n",
              "-978           BLACK                           F            1\n",
              "18-24          AMERICAN INDIAN/ALASKAN NATIVE  F           30\n",
              "                                                         ... \n",
              "UNKNOWN        WHITE                           F          131\n",
              "                                               M          104\n",
              "               WHITE HISPANIC                  D            3\n",
              "                                               F          163\n",
              "                                               M           75\n",
              "Length: 98, dtype: int64"
            ]
          },
          "metadata": {
            "tags": []
          },
          "execution_count": 14
        }
      ]
    },
    {
      "cell_type": "code",
      "metadata": {
        "id": "puxoNFjGxELj",
        "colab_type": "code",
        "outputId": "214af022-4c08-458b-f98a-1ef64fee26fe",
        "colab": {
          "base_uri": "https://localhost:8080/",
          "height": 238
        }
      },
      "source": [
        "#Breaking down complaint counts by suspect age, race, and sex\n",
        "\n",
        "violations_sus = violations.groupby([\"SUSP_AGE_GROUP\", \"SUSP_RACE\", \"SUSP_SEX\"]).size()\n",
        "violations_sus"
      ],
      "execution_count": 15,
      "outputs": [
        {
          "output_type": "execute_result",
          "data": {
            "text/plain": [
              "SUSP_AGE_GROUP  SUSP_RACE                       SUSP_SEX\n",
              "-80             UNKNOWN                         M              1\n",
              "-968            WHITE                           M              1\n",
              "-973            BLACK HISPANIC                  M              1\n",
              "1019            BLACK                           M              1\n",
              "18-24           AMERICAN INDIAN/ALASKAN NATIVE  F              8\n",
              "                                                            ... \n",
              "UNKNOWN         WHITE                           M           1570\n",
              "                                                U            158\n",
              "                WHITE HISPANIC                  F            971\n",
              "                                                M           1710\n",
              "                                                U            173\n",
              "Length: 131, dtype: int64"
            ]
          },
          "metadata": {
            "tags": []
          },
          "execution_count": 15
        }
      ]
    },
    {
      "cell_type": "markdown",
      "metadata": {
        "id": "s2mtC0ZcHuXI",
        "colab_type": "text"
      },
      "source": [
        "# Visualize Groupings by Age: determine additional insights"
      ]
    },
    {
      "cell_type": "code",
      "metadata": {
        "id": "m0ZgyWjEzKTt",
        "colab_type": "code",
        "colab": {}
      },
      "source": [
        "import seaborn as sns"
      ],
      "execution_count": 0,
      "outputs": []
    },
    {
      "cell_type": "code",
      "metadata": {
        "id": "05VlBf47vR6c",
        "colab_type": "code",
        "colab": {
          "base_uri": "https://localhost:8080/",
          "height": 547
        },
        "outputId": "7333f538-fa74-4269-d6f5-9736b6b8b6b8"
      },
      "source": [
        "# Graph count plot by victim age\n",
        "\n",
        "vic_age = violations[\"VIC_AGE_GROUP\"]\n",
        "print(vic_age)\n",
        "\n",
        "violations[\"VIC_AGE_GROUP\"].value_counts().plot(kind='bar')"
      ],
      "execution_count": 17,
      "outputs": [
        {
          "output_type": "stream",
          "text": [
            "CMPLNT_NUM\n",
            "781940970    25-44\n",
            "835070274    25-44\n",
            "868311027    25-44\n",
            "249096292    25-44\n",
            "691512468    18-24\n",
            "             ...  \n",
            "708745193    18-24\n",
            "658271544    25-44\n",
            "937152058    25-44\n",
            "705239744    25-44\n",
            "981427174    25-44\n",
            "Name: VIC_AGE_GROUP, Length: 72670, dtype: object\n"
          ],
          "name": "stdout"
        },
        {
          "output_type": "execute_result",
          "data": {
            "text/plain": [
              "<matplotlib.axes._subplots.AxesSubplot at 0x7f8d080ad4e0>"
            ]
          },
          "metadata": {
            "tags": []
          },
          "execution_count": 17
        },
        {
          "output_type": "display_data",
          "data": {
            "image/png": "[encoded data removed]",
            "text/plain": [
              "<Figure size 432x288 with 1 Axes>"
            ]
          },
          "metadata": {
            "tags": [],
            "needs_background": "light"
          }
        }
      ]
    },
    {
      "cell_type": "code",
      "metadata": {
        "id": "iLBRkYBdGQR3",
        "colab_type": "code",
        "outputId": "d161b2b8-ab71-4792-d6f7-060e5ab19025",
        "colab": {
          "base_uri": "https://localhost:8080/",
          "height": 550
        }
      },
      "source": [
        "# Graph count plot by suspect age\n",
        "\n",
        "susp_age = violations[\"SUSP_AGE_GROUP\"]\n",
        "print(susp_age)\n",
        "\n",
        "violations[\"SUSP_AGE_GROUP\"].value_counts().plot(kind='bar')"
      ],
      "execution_count": 18,
      "outputs": [
        {
          "output_type": "stream",
          "text": [
            "CMPLNT_NUM\n",
            "781940970    UNKNOWN\n",
            "835070274    UNKNOWN\n",
            "868311027    UNKNOWN\n",
            "249096292      25-44\n",
            "691512468      18-24\n",
            "              ...   \n",
            "708745193      18-24\n",
            "658271544      25-44\n",
            "937152058      18-24\n",
            "705239744    UNKNOWN\n",
            "981427174      25-44\n",
            "Name: SUSP_AGE_GROUP, Length: 72670, dtype: object\n"
          ],
          "name": "stdout"
        },
        {
          "output_type": "execute_result",
          "data": {
            "text/plain": [
              "<matplotlib.axes._subplots.AxesSubplot at 0x7f8d0795a0b8>"
            ]
          },
          "metadata": {
            "tags": []
          },
          "execution_count": 18
        },
        {
          "output_type": "display_data",
          "data": {
            "image/png": "[encoded data removed]",
            "text/plain": [
              "<Figure size 432x288 with 1 Axes>"
            ]
          },
          "metadata": {
            "tags": [],
            "needs_background": "light"
          }
        }
      ]
    },
    {
      "cell_type": "code",
      "metadata": {
        "id": "Sz85fEynXGZB",
        "colab_type": "code",
        "outputId": "f4d8cce5-0c18-404f-ed65-b92af56fbf2f",
        "colab": {
          "base_uri": "https://localhost:8080/",
          "height": 851
        }
      },
      "source": [
        "# Plot counts by type of description of internal classification corresponding \n",
        "# with PD code (more granular than Offense Description), updated figure size to \n",
        "# allow better readability of x axis labels\n",
        "\n",
        "fig_dims = (25, 10)\n",
        "fig, ax = plt.subplots(figsize=fig_dims)\n",
        "sns.countplot(x='PD_DESC', ax = ax, data=violations)\n",
        "plt.xticks(rotation=90)"
      ],
      "execution_count": 19,
      "outputs": [
        {
          "output_type": "execute_result",
          "data": {
            "text/plain": [
              "(array([ 0,  1,  2,  3,  4,  5,  6,  7,  8,  9, 10, 11, 12, 13, 14, 15, 16,\n",
              "        17, 18, 19, 20, 21, 22, 23, 24]),\n",
              " <a list of 25 Text major ticklabel objects>)"
            ]
          },
          "metadata": {
            "tags": []
          },
          "execution_count": 19
        },
        {
          "output_type": "display_data",
          "data": {
            "image/png": "[encoded data removed]",
            "text/plain": [
              "<Figure size 1800x720 with 1 Axes>"
            ]
          },
          "metadata": {
            "tags": [],
            "needs_background": "light"
          }
        }
      ]
    },
    {
      "cell_type": "code",
      "metadata": {
        "id": "B9TqKrtTXGVg",
        "colab_type": "code",
        "outputId": "d1ac08a0-4f35-45b5-b0de-c2bde2e4d132",
        "colab": {
          "base_uri": "https://localhost:8080/",
          "height": 406
        }
      },
      "source": [
        "# Plot counts by Borough in which they occurred, updated figure size to allow better readability of x axis labels\n",
        "\n",
        "fig_dims = (10, 6)\n",
        "fig, ax = plt.subplots(figsize=fig_dims)\n",
        "sns.countplot(x='BORO_NM', ax = ax, data=violations)"
      ],
      "execution_count": 20,
      "outputs": [
        {
          "output_type": "execute_result",
          "data": {
            "text/plain": [
              "<matplotlib.axes._subplots.AxesSubplot at 0x7f8d0742ed68>"
            ]
          },
          "metadata": {
            "tags": []
          },
          "execution_count": 20
        },
        {
          "output_type": "display_data",
          "data": {
            "image/png": "[encoded data removed]",
            "text/plain": [
              "<Figure size 720x432 with 1 Axes>"
            ]
          },
          "metadata": {
            "tags": [],
            "needs_background": "light"
          }
        }
      ]
    },
    {
      "cell_type": "code",
      "metadata": {
        "id": "H7nqIOmEXvGM",
        "colab_type": "code",
        "outputId": "43ee6188-b7f0-4f3e-8f37-809abdb6a4b5",
        "colab": {
          "base_uri": "https://localhost:8080/",
          "height": 629
        }
      },
      "source": [
        "# Plot counts by location in which they occurred, updated figure size to allow better readability of x axis labels\n",
        "\n",
        "fig_dims = (25, 6)\n",
        "fig, ax = plt.subplots(figsize=fig_dims)\n",
        "sns.countplot(x='PREM_TYP_DESC', ax = ax, data=violations)\n",
        "plt.xticks(rotation=90)"
      ],
      "execution_count": 21,
      "outputs": [
        {
          "output_type": "execute_result",
          "data": {
            "text/plain": [
              "(array([ 0,  1,  2,  3,  4,  5,  6,  7,  8,  9, 10, 11, 12, 13, 14, 15, 16,\n",
              "        17, 18, 19, 20, 21, 22, 23, 24, 25, 26, 27, 28, 29, 30, 31, 32, 33,\n",
              "        34, 35, 36, 37, 38, 39, 40, 41, 42, 43, 44, 45, 46, 47, 48, 49, 50,\n",
              "        51, 52, 53, 54, 55, 56, 57, 58, 59, 60, 61, 62, 63, 64, 65, 66, 67,\n",
              "        68, 69, 70, 71, 72, 73]), <a list of 74 Text major ticklabel objects>)"
            ]
          },
          "metadata": {
            "tags": []
          },
          "execution_count": 21
        },
        {
          "output_type": "display_data",
          "data": {
            "image/png": "[encoded data removed]",
            "text/plain": [
              "<Figure size 1800x432 with 1 Axes>"
            ]
          },
          "metadata": {
            "tags": [],
            "needs_background": "light"
          }
        }
      ]
    },
    {
      "cell_type": "code",
      "metadata": {
        "id": "tj0o7YkAYBm7",
        "colab_type": "code",
        "outputId": "407c1323-b6f6-423c-d146-a7771543cefd",
        "colab": {
          "base_uri": "https://localhost:8080/",
          "height": 406
        }
      },
      "source": [
        "# Are there gender differences in victim sex across borough?\n",
        "\n",
        "# Females are most often the ones to report complaints, but note that the gender \n",
        "# disparity is much greater in Brooklyn and the Bronx.\n",
        "\n",
        "fig_dims = (10, 6)\n",
        "fig, ax = plt.subplots(figsize=fig_dims)\n",
        "\n",
        "sns.countplot(x='BORO_NM', hue = 'VIC_SEX', data=violations)"
      ],
      "execution_count": 22,
      "outputs": [
        {
          "output_type": "execute_result",
          "data": {
            "text/plain": [
              "<matplotlib.axes._subplots.AxesSubplot at 0x7f8d059d0198>"
            ]
          },
          "metadata": {
            "tags": []
          },
          "execution_count": 22
        },
        {
          "output_type": "display_data",
          "data": {
            "image/png": "[encoded data removed]",
            "text/plain": [
              "<Figure size 720x432 with 1 Axes>"
            ]
          },
          "metadata": {
            "tags": [],
            "needs_background": "light"
          }
        }
      ]
    },
    {
      "cell_type": "markdown",
      "metadata": {
        "id": "KXgEijcCzKpF",
        "colab_type": "text"
      },
      "source": [
        "# For another day: Mapping Complaints"
      ]
    },
    {
      "cell_type": "code",
      "metadata": {
        "id": "QTM1avT5xEc2",
        "colab_type": "code",
        "colab": {
          "base_uri": "https://localhost:8080/",
          "height": 544
        },
        "outputId": "d29dbdf3-d299-4a05-9603-46e0e339ecf6"
      },
      "source": [
        "import descartes\n",
        "!pip install geopandas\n",
        "from shapely.geometry import Point \n",
        "!pip install cartopy\n",
        "%matplotlib inline"
      ],
      "execution_count": 23,
      "outputs": [
        {
          "output_type": "stream",
          "text": [
            "Collecting geopandas\n",
            "\u001b[?25l  Downloading https://files.pythonhosted.org/packages/83/c5/3cf9cdc39a6f2552922f79915f36b45a95b71fd343cfc51170a5b6ddb6e8/geopandas-0.7.0-py2.py3-none-any.whl (928kB)\n",
            "\u001b[K     |████████████████████████████████| 931kB 2.8MB/s \n",
            "\u001b[?25hCollecting fiona\n",
            "\u001b[?25l  Downloading https://files.pythonhosted.org/packages/ec/20/4e63bc5c6e62df889297b382c3ccd4a7a488b00946aaaf81a118158c6f09/Fiona-1.8.13.post1-cp36-cp36m-manylinux1_x86_64.whl (14.7MB)\n",
            "\u001b[K     |████████████████████████████████| 14.7MB 276kB/s \n",
            "\u001b[?25hRequirement already satisfied: pandas>=0.23.0 in /usr/local/lib/python3.6/dist-packages (from geopandas) (1.0.3)\n",
            "Requirement already satisfied: shapely in /usr/local/lib/python3.6/dist-packages (from geopandas) (1.7.0)\n",
            "Collecting pyproj>=2.2.0\n",
            "\u001b[?25l  Downloading https://files.pythonhosted.org/packages/ce/37/705ee471f71130d4ceee41bbcb06f3b52175cb89273cbb5755ed5e6374e0/pyproj-2.6.0-cp36-cp36m-manylinux2010_x86_64.whl (10.4MB)\n",
            "\u001b[K     |████████████████████████████████| 10.4MB 35.7MB/s \n",
            "\u001b[?25hCollecting munch\n",
            "  Downloading https://files.pythonhosted.org/packages/cc/ab/85d8da5c9a45e072301beb37ad7f833cd344e04c817d97e0cc75681d248f/munch-2.5.0-py2.py3-none-any.whl\n",
            "Collecting cligj>=0.5\n",
            "  Downloading https://files.pythonhosted.org/packages/e4/be/30a58b4b0733850280d01f8bd132591b4668ed5c7046761098d665ac2174/cligj-0.5.0-py3-none-any.whl\n",
            "Requirement already satisfied: attrs>=17 in /usr/local/lib/python3.6/dist-packages (from fiona->geopandas) (19.3.0)\n",
            "Requirement already satisfied: six>=1.7 in /usr/local/lib/python3.6/dist-packages (from fiona->geopandas) (1.12.0)\n",
            "Collecting click-plugins>=1.0\n",
            "  Downloading https://files.pythonhosted.org/packages/e9/da/824b92d9942f4e472702488857914bdd50f73021efea15b4cad9aca8ecef/click_plugins-1.1.1-py2.py3-none-any.whl\n",
            "Requirement already satisfied: click<8,>=4.0 in /usr/local/lib/python3.6/dist-packages (from fiona->geopandas) (7.1.2)\n",
            "Requirement already satisfied: pytz>=2017.2 in /usr/local/lib/python3.6/dist-packages (from pandas>=0.23.0->geopandas) (2018.9)\n",
            "Requirement already satisfied: python-dateutil>=2.6.1 in /usr/local/lib/python3.6/dist-packages (from pandas>=0.23.0->geopandas) (2.8.1)\n",
            "Requirement already satisfied: numpy>=1.13.3 in /usr/local/lib/python3.6/dist-packages (from pandas>=0.23.0->geopandas) (1.18.3)\n",
            "Installing collected packages: munch, cligj, click-plugins, fiona, pyproj, geopandas\n",
            "Successfully installed click-plugins-1.1.1 cligj-0.5.0 fiona-1.8.13.post1 geopandas-0.7.0 munch-2.5.0 pyproj-2.6.0\n",
            "Collecting cartopy\n",
            "\u001b[?25l  Downloading https://files.pythonhosted.org/packages/e5/92/fe8838fa8158931906dfc4f16c5c1436b3dd2daf83592645b179581403ad/Cartopy-0.17.0.tar.gz (8.9MB)\n",
            "\u001b[K     |████████████████████████████████| 8.9MB 2.7MB/s \n",
            "\u001b[?25h  Installing build dependencies ... \u001b[?25l\u001b[?25hdone\n",
            "  Getting requirements to build wheel ... \u001b[?25l\u001b[?25herror\n",
            "\u001b[31mERROR: Command errored out with exit status 1: /usr/bin/python3 /usr/local/lib/python3.6/dist-packages/pip/_vendor/pep517/_in_process.py get_requires_for_build_wheel /tmp/tmp99w8dlk9 Check the logs for full command output.\u001b[0m\n"
          ],
          "name": "stdout"
        }
      ]
    },
    {
      "cell_type": "code",
      "metadata": {
        "id": "O8mYuouB4vA6",
        "colab_type": "code",
        "colab": {
          "base_uri": "https://localhost:8080/",
          "height": 299
        },
        "outputId": "310884c2-1d83-453d-eef1-f67352a040c9"
      },
      "source": [
        "# Setting Bounding Box for XY Coords\n",
        "BBox = (violations.longitude.min(), violations.longitude.max(), violations.latitude.min(), violations.latitude.max())\n",
        "BBox"
      ],
      "execution_count": 24,
      "outputs": [
        {
          "output_type": "error",
          "ename": "AttributeError",
          "evalue": "ignored",
          "traceback": [
            "\u001b[0;31m---------------------------------------------------------------------------\u001b[0m",
            "\u001b[0;31mAttributeError\u001b[0m                            Traceback (most recent call last)",
            "\u001b[0;32m<ipython-input-24-be837e9305e9>\u001b[0m in \u001b[0;36m<module>\u001b[0;34m()\u001b[0m\n\u001b[0;32m----> 1\u001b[0;31m \u001b[0mBBox\u001b[0m \u001b[0;34m=\u001b[0m \u001b[0;34m(\u001b[0m\u001b[0mviolations\u001b[0m\u001b[0;34m.\u001b[0m\u001b[0mlongitude\u001b[0m\u001b[0;34m.\u001b[0m\u001b[0mmin\u001b[0m\u001b[0;34m(\u001b[0m\u001b[0;34m)\u001b[0m\u001b[0;34m,\u001b[0m \u001b[0mviolations\u001b[0m\u001b[0;34m.\u001b[0m\u001b[0mlongitude\u001b[0m\u001b[0;34m.\u001b[0m\u001b[0mmax\u001b[0m\u001b[0;34m(\u001b[0m\u001b[0;34m)\u001b[0m\u001b[0;34m,\u001b[0m \u001b[0mviolations\u001b[0m\u001b[0;34m.\u001b[0m\u001b[0mlatitude\u001b[0m\u001b[0;34m.\u001b[0m\u001b[0mmin\u001b[0m\u001b[0;34m(\u001b[0m\u001b[0;34m)\u001b[0m\u001b[0;34m,\u001b[0m \u001b[0mviolations\u001b[0m\u001b[0;34m.\u001b[0m\u001b[0mlatitude\u001b[0m\u001b[0;34m.\u001b[0m\u001b[0mmax\u001b[0m\u001b[0;34m(\u001b[0m\u001b[0;34m)\u001b[0m\u001b[0;34m)\u001b[0m\u001b[0;34m\u001b[0m\u001b[0;34m\u001b[0m\u001b[0m\n\u001b[0m\u001b[1;32m      2\u001b[0m \u001b[0mBBox\u001b[0m\u001b[0;34m\u001b[0m\u001b[0;34m\u001b[0m\u001b[0m\n",
            "\u001b[0;32m/usr/local/lib/python3.6/dist-packages/pandas/core/generic.py\u001b[0m in \u001b[0;36m__getattr__\u001b[0;34m(self, name)\u001b[0m\n\u001b[1;32m   5272\u001b[0m             \u001b[0;32mif\u001b[0m \u001b[0mself\u001b[0m\u001b[0;34m.\u001b[0m\u001b[0m_info_axis\u001b[0m\u001b[0;34m.\u001b[0m\u001b[0m_can_hold_identifiers_and_holds_name\u001b[0m\u001b[0;34m(\u001b[0m\u001b[0mname\u001b[0m\u001b[0;34m)\u001b[0m\u001b[0;34m:\u001b[0m\u001b[0;34m\u001b[0m\u001b[0;34m\u001b[0m\u001b[0m\n\u001b[1;32m   5273\u001b[0m                 \u001b[0;32mreturn\u001b[0m \u001b[0mself\u001b[0m\u001b[0;34m[\u001b[0m\u001b[0mname\u001b[0m\u001b[0;34m]\u001b[0m\u001b[0;34m\u001b[0m\u001b[0;34m\u001b[0m\u001b[0m\n\u001b[0;32m-> 5274\u001b[0;31m             \u001b[0;32mreturn\u001b[0m \u001b[0mobject\u001b[0m\u001b[0;34m.\u001b[0m\u001b[0m__getattribute__\u001b[0m\u001b[0;34m(\u001b[0m\u001b[0mself\u001b[0m\u001b[0;34m,\u001b[0m \u001b[0mname\u001b[0m\u001b[0;34m)\u001b[0m\u001b[0;34m\u001b[0m\u001b[0;34m\u001b[0m\u001b[0m\n\u001b[0m\u001b[1;32m   5275\u001b[0m \u001b[0;34m\u001b[0m\u001b[0m\n\u001b[1;32m   5276\u001b[0m     \u001b[0;32mdef\u001b[0m \u001b[0m__setattr__\u001b[0m\u001b[0;34m(\u001b[0m\u001b[0mself\u001b[0m\u001b[0;34m,\u001b[0m \u001b[0mname\u001b[0m\u001b[0;34m:\u001b[0m \u001b[0mstr\u001b[0m\u001b[0;34m,\u001b[0m \u001b[0mvalue\u001b[0m\u001b[0;34m)\u001b[0m \u001b[0;34m->\u001b[0m \u001b[0;32mNone\u001b[0m\u001b[0;34m:\u001b[0m\u001b[0;34m\u001b[0m\u001b[0;34m\u001b[0m\u001b[0m\n",
            "\u001b[0;31mAttributeError\u001b[0m: 'DataFrame' object has no attribute 'longitude'"
          ]
        }
      ]
    },
    {
      "cell_type": "code",
      "metadata": {
        "id": "2IVbVBzl4vMH",
        "colab_type": "code",
        "colab": {}
      },
      "source": [
        "# Sadly the image from BBox was too large to download from open street map.\n",
        "# Tried another method below that also resulted in difficulty.\n",
        "\n",
        "# import cartopy.crs as ccrs\n",
        "\n",
        "# ax = plt.axes(projection=ccrs.PlateCarree())\n",
        "# ax.coastlines()\n",
        "\n",
        "# plt.show()"
      ],
      "execution_count": 0,
      "outputs": []
    },
    {
      "cell_type": "code",
      "metadata": {
        "id": "n9ECXz0UK7ON",
        "colab_type": "code",
        "colab": {}
      },
      "source": [
        "# Plot complaints\n",
        "\n",
        "# fig, ax = plt.subplots(figsize = (8,7))\n",
        "# ax.scatter(violations.longitude, violations.latitude, zorder=1, alpha= 0.2, c='b', s=10)\n",
        "# ax.set_title('Complaints in NYC')\n",
        "# ax.set_xlim(BBox[0],BBox[1])\n",
        "# ax.set_ylim(BBox[2],BBox[3])\n",
        "# ax.imshow(ruh_m, zorder=0, extent = BBox, aspect= 'equal')"
      ],
      "execution_count": 0,
      "outputs": []
    }
  ]
}
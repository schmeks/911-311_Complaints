{
  "nbformat": 4,
  "nbformat_minor": 0,
  "metadata": {
    "colab": {
      "name": "311 Complaint Data",
      "provenance": [],
      "include_colab_link": true
    },
    "kernelspec": {
      "name": "python3",
      "display_name": "Python 3"
    }
  },
  "cells": [
    {
      "cell_type": "markdown",
      "metadata": {
        "id": "view-in-github",
        "colab_type": "text"
      },
      "source": [
        "<a href=\"https://colab.research.google.com/github/schmeks/911-311_Complaints/blob/master/311_Complaint_Data.ipynb\" target=\"_parent\"><img src=\"https://colab.research.google.com/assets/colab-badge.svg\" alt=\"Open In Colab\"/></a>"
      ]
    },
    {
      "cell_type": "markdown",
      "metadata": {
        "id": "nwuHnE_0bjUL",
        "colab_type": "text"
      },
      "source": [
        "# **Reviewing 311 Complaint Data from NYC's Open Data Portal**\n",
        "Becca Mason\n",
        "\n",
        "This collab notebook takes NYPD Historic Complaint Data and Explores the content with preliminary analyses. Presents findings on the age breakdown of victims and suspects, location of complaint, and gender of victim."
      ]
    },
    {
      "cell_type": "markdown",
      "metadata": {
        "id": "RAhFXmjqCCkv",
        "colab_type": "text"
      },
      "source": [
        "# Import Data via one of two methods: API or csv "
      ]
    },
    {
      "cell_type": "markdown",
      "metadata": {
        "id": "6EURiebTXJAo",
        "colab_type": "text"
      },
      "source": [
        "## Complaint data from NYC Open Data via Socrata API, filtered down to Violations only"
      ]
    },
    {
      "cell_type": "code",
      "metadata": {
        "id": "jXND6mo2bixT",
        "colab_type": "code",
        "outputId": "2c32909c-d59b-4a51-c777-bfaa2461bde2",
        "colab": {
          "base_uri": "https://localhost:8080/",
          "height": 204
        }
      },
      "source": [
        "#installing Sodapy library and other necessary packages\n",
        "\n",
        "# https://data.cityofnewyork.us/resource/qgea-i56i.json\n",
        "!pip install sodapy\n",
        "\n",
        "import pandas as pd\n",
        "from sodapy import Socrata\n",
        "import numpy as np\n",
        "from scipy import stats\n",
        "import matplotlib.pyplot as plt\n",
        "%matplotlib inline\n",
        "import seaborn as sns"
      ],
      "execution_count": 1,
      "outputs": [
        {
          "output_type": "stream",
          "text": [
            "Collecting sodapy\n",
            "  Downloading https://files.pythonhosted.org/packages/9e/74/95fb7d45bbe7f1de43caac45d7dd4807ef1e15881564a00eef489a3bb5c6/sodapy-2.1.0-py2.py3-none-any.whl\n",
            "Requirement already satisfied: requests>=2.20.0 in /usr/local/lib/python3.6/dist-packages (from sodapy) (2.21.0)\n",
            "Requirement already satisfied: chardet<3.1.0,>=3.0.2 in /usr/local/lib/python3.6/dist-packages (from requests>=2.20.0->sodapy) (3.0.4)\n",
            "Requirement already satisfied: certifi>=2017.4.17 in /usr/local/lib/python3.6/dist-packages (from requests>=2.20.0->sodapy) (2020.4.5.1)\n",
            "Requirement already satisfied: urllib3<1.25,>=1.21.1 in /usr/local/lib/python3.6/dist-packages (from requests>=2.20.0->sodapy) (1.24.3)\n",
            "Requirement already satisfied: idna<2.9,>=2.5 in /usr/local/lib/python3.6/dist-packages (from requests>=2.20.0->sodapy) (2.8)\n",
            "Installing collected packages: sodapy\n",
            "Successfully installed sodapy-2.1.0\n"
          ],
          "name": "stdout"
        },
        {
          "output_type": "stream",
          "text": [
            "/usr/local/lib/python3.6/dist-packages/statsmodels/tools/_testing.py:19: FutureWarning: pandas.util.testing is deprecated. Use the functions in the public API at pandas.testing instead.\n",
            "  import pandas.util.testing as tm\n"
          ],
          "name": "stderr"
        }
      ]
    },
    {
      "cell_type": "code",
      "metadata": {
        "id": "z_rBT4eybi1T",
        "colab_type": "code",
        "outputId": "2b542cbc-2aad-424e-d8da-3bcf506dcaea",
        "colab": {
          "base_uri": "https://localhost:8080/",
          "height": 34
        }
      },
      "source": [
        "# Unauthenticated client only works with public data sets. Note 'None'\n",
        "# in place of application token, and no username or password:\n",
        "client = Socrata(\"data.cityofnewyork.us\", None)"
      ],
      "execution_count": 2,
      "outputs": [
        {
          "output_type": "stream",
          "text": [
            "WARNING:root:Requests made without an app_token will be subject to strict throttling limits.\n"
          ],
          "name": "stderr"
        }
      ]
    },
    {
      "cell_type": "code",
      "metadata": {
        "id": "bQ2QDs1Ibi3z",
        "colab_type": "code",
        "colab": {
          "base_uri": "https://localhost:8080/",
          "height": 34
        },
        "outputId": "70b0c983-b874-45e3-9b13-9330a25cf0cf"
      },
      "source": [
        "# First results, returned as JSON from API / converted to Python list of\n",
        "# dictionaries by sodapy.\n",
        "results = client.get(\"5uac-w243\")\n",
        "\n",
        "# df = pd.read_csv('https://data.cityofnewyork.us/api/views/qgea-i56i/rows.csv?accessType=DOWNLOAD')\n",
        "# df.head()\n",
        "# Convert to pandas DataFrame\n",
        "results_df = pd.DataFrame.from_records(results)"
      ],
      "execution_count": 26,
      "outputs": [
        {
          "output_type": "execute_result",
          "data": {
            "text/plain": [
              "1000"
            ]
          },
          "metadata": {
            "tags": []
          },
          "execution_count": 26
        }
      ]
    },
    {
      "cell_type": "markdown",
      "metadata": {
        "id": "HI1hL3LzVmCo",
        "colab_type": "text"
      },
      "source": [
        "## Alternatively, import csv to avoid throttling limits and/or slow upload speeds."
      ]
    },
    {
      "cell_type": "code",
      "metadata": {
        "id": "DV3qqj_WWJ0J",
        "colab_type": "code",
        "colab": {
          "base_uri": "https://localhost:8080/",
          "height": 544
        },
        "outputId": "5eeb0456-6a38-45fc-d904-2541f29ae381"
      },
      "source": [
        "# Import csv\n",
        "# path = \"C:\\Users\\Rebecca\\Documents\\GA_Python\\NYPDComplaintDataCurrentYTD.csv\"\n",
        "# from google.colab import files\n",
        "# uploaded = files.upload()\n",
        "\n",
        "# import io\n",
        "# results_df = pd.read_csv(io.BytesIO(uploaded[\"C:/Users/Rebecca/Documents/GA_Python/NYPDViolationData.csv\"]))\n",
        "# path = open(\"C:/Users/Rebecca/Documents/GA_Python/NYPDComplaintDataCurrentYTD.csv\")\n",
        "# results_df = pd.read_csv(path)\n",
        "# len(results_df)\n",
        "\n",
        "results = pd.read_csv('https://github.com/schmeks/911-311_Complaints/blob/master/NYPDViolationData.csv')\n",
        "results_df = results.copy()\n",
        "print('data loaded successfully')"
      ],
      "execution_count": 50,
      "outputs": [
        {
          "output_type": "error",
          "ename": "ParserError",
          "evalue": "ignored",
          "traceback": [
            "\u001b[0;31m---------------------------------------------------------------------------\u001b[0m",
            "\u001b[0;31mParserError\u001b[0m                               Traceback (most recent call last)",
            "\u001b[0;32m<ipython-input-50-ba4447f4ef11>\u001b[0m in \u001b[0;36m<module>\u001b[0;34m()\u001b[0m\n\u001b[1;32m      1\u001b[0m \u001b[0;34m\u001b[0m\u001b[0m\n\u001b[0;32m----> 2\u001b[0;31m \u001b[0mresults\u001b[0m \u001b[0;34m=\u001b[0m \u001b[0mpd\u001b[0m\u001b[0;34m.\u001b[0m\u001b[0mread_csv\u001b[0m\u001b[0;34m(\u001b[0m\u001b[0;34m'https://github.com/schmeks/911-311_Complaints/blob/master/NYPDViolationData.csv'\u001b[0m\u001b[0;34m)\u001b[0m\u001b[0;34m\u001b[0m\u001b[0;34m\u001b[0m\u001b[0m\n\u001b[0m\u001b[1;32m      3\u001b[0m \u001b[0mresults_df\u001b[0m \u001b[0;34m=\u001b[0m \u001b[0mresults\u001b[0m\u001b[0;34m.\u001b[0m\u001b[0mcopy\u001b[0m\u001b[0;34m(\u001b[0m\u001b[0;34m)\u001b[0m\u001b[0;34m\u001b[0m\u001b[0;34m\u001b[0m\u001b[0m\n\u001b[1;32m      4\u001b[0m \u001b[0mprint\u001b[0m\u001b[0;34m(\u001b[0m\u001b[0;34m'data loaded successfully'\u001b[0m\u001b[0;34m)\u001b[0m\u001b[0;34m\u001b[0m\u001b[0;34m\u001b[0m\u001b[0m\n\u001b[1;32m      5\u001b[0m \u001b[0;34m\u001b[0m\u001b[0m\n",
            "\u001b[0;32m/usr/local/lib/python3.6/dist-packages/pandas/io/parsers.py\u001b[0m in \u001b[0;36mparser_f\u001b[0;34m(filepath_or_buffer, sep, delimiter, header, names, index_col, usecols, squeeze, prefix, mangle_dupe_cols, dtype, engine, converters, true_values, false_values, skipinitialspace, skiprows, skipfooter, nrows, na_values, keep_default_na, na_filter, verbose, skip_blank_lines, parse_dates, infer_datetime_format, keep_date_col, date_parser, dayfirst, cache_dates, iterator, chunksize, compression, thousands, decimal, lineterminator, quotechar, quoting, doublequote, escapechar, comment, encoding, dialect, error_bad_lines, warn_bad_lines, delim_whitespace, low_memory, memory_map, float_precision)\u001b[0m\n\u001b[1;32m    674\u001b[0m         )\n\u001b[1;32m    675\u001b[0m \u001b[0;34m\u001b[0m\u001b[0m\n\u001b[0;32m--> 676\u001b[0;31m         \u001b[0;32mreturn\u001b[0m \u001b[0m_read\u001b[0m\u001b[0;34m(\u001b[0m\u001b[0mfilepath_or_buffer\u001b[0m\u001b[0;34m,\u001b[0m \u001b[0mkwds\u001b[0m\u001b[0;34m)\u001b[0m\u001b[0;34m\u001b[0m\u001b[0;34m\u001b[0m\u001b[0m\n\u001b[0m\u001b[1;32m    677\u001b[0m \u001b[0;34m\u001b[0m\u001b[0m\n\u001b[1;32m    678\u001b[0m     \u001b[0mparser_f\u001b[0m\u001b[0;34m.\u001b[0m\u001b[0m__name__\u001b[0m \u001b[0;34m=\u001b[0m \u001b[0mname\u001b[0m\u001b[0;34m\u001b[0m\u001b[0;34m\u001b[0m\u001b[0m\n",
            "\u001b[0;32m/usr/local/lib/python3.6/dist-packages/pandas/io/parsers.py\u001b[0m in \u001b[0;36m_read\u001b[0;34m(filepath_or_buffer, kwds)\u001b[0m\n\u001b[1;32m    452\u001b[0m \u001b[0;34m\u001b[0m\u001b[0m\n\u001b[1;32m    453\u001b[0m     \u001b[0;32mtry\u001b[0m\u001b[0;34m:\u001b[0m\u001b[0;34m\u001b[0m\u001b[0;34m\u001b[0m\u001b[0m\n\u001b[0;32m--> 454\u001b[0;31m         \u001b[0mdata\u001b[0m \u001b[0;34m=\u001b[0m \u001b[0mparser\u001b[0m\u001b[0;34m.\u001b[0m\u001b[0mread\u001b[0m\u001b[0;34m(\u001b[0m\u001b[0mnrows\u001b[0m\u001b[0;34m)\u001b[0m\u001b[0;34m\u001b[0m\u001b[0;34m\u001b[0m\u001b[0m\n\u001b[0m\u001b[1;32m    455\u001b[0m     \u001b[0;32mfinally\u001b[0m\u001b[0;34m:\u001b[0m\u001b[0;34m\u001b[0m\u001b[0;34m\u001b[0m\u001b[0m\n\u001b[1;32m    456\u001b[0m         \u001b[0mparser\u001b[0m\u001b[0;34m.\u001b[0m\u001b[0mclose\u001b[0m\u001b[0;34m(\u001b[0m\u001b[0;34m)\u001b[0m\u001b[0;34m\u001b[0m\u001b[0;34m\u001b[0m\u001b[0m\n",
            "\u001b[0;32m/usr/local/lib/python3.6/dist-packages/pandas/io/parsers.py\u001b[0m in \u001b[0;36mread\u001b[0;34m(self, nrows)\u001b[0m\n\u001b[1;32m   1131\u001b[0m     \u001b[0;32mdef\u001b[0m \u001b[0mread\u001b[0m\u001b[0;34m(\u001b[0m\u001b[0mself\u001b[0m\u001b[0;34m,\u001b[0m \u001b[0mnrows\u001b[0m\u001b[0;34m=\u001b[0m\u001b[0;32mNone\u001b[0m\u001b[0;34m)\u001b[0m\u001b[0;34m:\u001b[0m\u001b[0;34m\u001b[0m\u001b[0;34m\u001b[0m\u001b[0m\n\u001b[1;32m   1132\u001b[0m         \u001b[0mnrows\u001b[0m \u001b[0;34m=\u001b[0m \u001b[0m_validate_integer\u001b[0m\u001b[0;34m(\u001b[0m\u001b[0;34m\"nrows\"\u001b[0m\u001b[0;34m,\u001b[0m \u001b[0mnrows\u001b[0m\u001b[0;34m)\u001b[0m\u001b[0;34m\u001b[0m\u001b[0;34m\u001b[0m\u001b[0m\n\u001b[0;32m-> 1133\u001b[0;31m         \u001b[0mret\u001b[0m \u001b[0;34m=\u001b[0m \u001b[0mself\u001b[0m\u001b[0;34m.\u001b[0m\u001b[0m_engine\u001b[0m\u001b[0;34m.\u001b[0m\u001b[0mread\u001b[0m\u001b[0;34m(\u001b[0m\u001b[0mnrows\u001b[0m\u001b[0;34m)\u001b[0m\u001b[0;34m\u001b[0m\u001b[0;34m\u001b[0m\u001b[0m\n\u001b[0m\u001b[1;32m   1134\u001b[0m \u001b[0;34m\u001b[0m\u001b[0m\n\u001b[1;32m   1135\u001b[0m         \u001b[0;31m# May alter columns / col_dict\u001b[0m\u001b[0;34m\u001b[0m\u001b[0;34m\u001b[0m\u001b[0;34m\u001b[0m\u001b[0m\n",
            "\u001b[0;32m/usr/local/lib/python3.6/dist-packages/pandas/io/parsers.py\u001b[0m in \u001b[0;36mread\u001b[0;34m(self, nrows)\u001b[0m\n\u001b[1;32m   2035\u001b[0m     \u001b[0;32mdef\u001b[0m \u001b[0mread\u001b[0m\u001b[0;34m(\u001b[0m\u001b[0mself\u001b[0m\u001b[0;34m,\u001b[0m \u001b[0mnrows\u001b[0m\u001b[0;34m=\u001b[0m\u001b[0;32mNone\u001b[0m\u001b[0;34m)\u001b[0m\u001b[0;34m:\u001b[0m\u001b[0;34m\u001b[0m\u001b[0;34m\u001b[0m\u001b[0m\n\u001b[1;32m   2036\u001b[0m         \u001b[0;32mtry\u001b[0m\u001b[0;34m:\u001b[0m\u001b[0;34m\u001b[0m\u001b[0;34m\u001b[0m\u001b[0m\n\u001b[0;32m-> 2037\u001b[0;31m             \u001b[0mdata\u001b[0m \u001b[0;34m=\u001b[0m \u001b[0mself\u001b[0m\u001b[0;34m.\u001b[0m\u001b[0m_reader\u001b[0m\u001b[0;34m.\u001b[0m\u001b[0mread\u001b[0m\u001b[0;34m(\u001b[0m\u001b[0mnrows\u001b[0m\u001b[0;34m)\u001b[0m\u001b[0;34m\u001b[0m\u001b[0;34m\u001b[0m\u001b[0m\n\u001b[0m\u001b[1;32m   2038\u001b[0m         \u001b[0;32mexcept\u001b[0m \u001b[0mStopIteration\u001b[0m\u001b[0;34m:\u001b[0m\u001b[0;34m\u001b[0m\u001b[0;34m\u001b[0m\u001b[0m\n\u001b[1;32m   2039\u001b[0m             \u001b[0;32mif\u001b[0m \u001b[0mself\u001b[0m\u001b[0;34m.\u001b[0m\u001b[0m_first_chunk\u001b[0m\u001b[0;34m:\u001b[0m\u001b[0;34m\u001b[0m\u001b[0;34m\u001b[0m\u001b[0m\n",
            "\u001b[0;32mpandas/_libs/parsers.pyx\u001b[0m in \u001b[0;36mpandas._libs.parsers.TextReader.read\u001b[0;34m()\u001b[0m\n",
            "\u001b[0;32mpandas/_libs/parsers.pyx\u001b[0m in \u001b[0;36mpandas._libs.parsers.TextReader._read_low_memory\u001b[0;34m()\u001b[0m\n",
            "\u001b[0;32mpandas/_libs/parsers.pyx\u001b[0m in \u001b[0;36mpandas._libs.parsers.TextReader._read_rows\u001b[0;34m()\u001b[0m\n",
            "\u001b[0;32mpandas/_libs/parsers.pyx\u001b[0m in \u001b[0;36mpandas._libs.parsers.TextReader._tokenize_rows\u001b[0;34m()\u001b[0m\n",
            "\u001b[0;32mpandas/_libs/parsers.pyx\u001b[0m in \u001b[0;36mpandas._libs.parsers.raise_parser_error\u001b[0;34m()\u001b[0m\n",
            "\u001b[0;31mParserError\u001b[0m: Error tokenizing data. C error: Expected 1 fields in line 49, saw 2\n"
          ]
        }
      ]
    },
    {
      "cell_type": "markdown",
      "metadata": {
        "id": "GUzk9uKcCOsb",
        "colab_type": "text"
      },
      "source": [
        "# Data Manipulation: creates a dataframe and examines only violations (not emergency calls)"
      ]
    },
    {
      "cell_type": "code",
      "metadata": {
        "id": "le8_W6fDs2ve",
        "colab_type": "code",
        "outputId": "c14d3765-1cc4-4793-c307-71926e0c79a9",
        "colab": {
          "base_uri": "https://localhost:8080/",
          "height": 442
        }
      },
      "source": [
        "# Create a copy and make cmplnt_num the index\n",
        "complaints_df = results_df.copy()\n",
        "complaints_df.set_index('cmplnt_num', inplace = True)\n",
        "\n",
        "complaints_df.head()"
      ],
      "execution_count": 4,
      "outputs": [
        {
          "output_type": "execute_result",
          "data": {
            "text/html": [
              "<div>\n",
              "<style scoped>\n",
              "    .dataframe tbody tr th:only-of-type {\n",
              "        vertical-align: middle;\n",
              "    }\n",
              "\n",
              "    .dataframe tbody tr th {\n",
              "        vertical-align: top;\n",
              "    }\n",
              "\n",
              "    .dataframe thead th {\n",
              "        text-align: right;\n",
              "    }\n",
              "</style>\n",
              "<table border=\"1\" class=\"dataframe\">\n",
              "  <thead>\n",
              "    <tr style=\"text-align: right;\">\n",
              "      <th></th>\n",
              "      <th>addr_pct_cd</th>\n",
              "      <th>boro_nm</th>\n",
              "      <th>cmplnt_fr_dt</th>\n",
              "      <th>cmplnt_fr_tm</th>\n",
              "      <th>crm_atpt_cptd_cd</th>\n",
              "      <th>jurisdiction_code</th>\n",
              "      <th>juris_desc</th>\n",
              "      <th>ky_cd</th>\n",
              "      <th>law_cat_cd</th>\n",
              "      <th>ofns_desc</th>\n",
              "      <th>patrol_boro</th>\n",
              "      <th>pd_cd</th>\n",
              "      <th>pd_desc</th>\n",
              "      <th>prem_typ_desc</th>\n",
              "      <th>rpt_dt</th>\n",
              "      <th>susp_age_group</th>\n",
              "      <th>susp_race</th>\n",
              "      <th>susp_sex</th>\n",
              "      <th>vic_age_group</th>\n",
              "      <th>vic_race</th>\n",
              "      <th>vic_sex</th>\n",
              "      <th>x_coord_cd</th>\n",
              "      <th>y_coord_cd</th>\n",
              "      <th>latitude</th>\n",
              "      <th>longitude</th>\n",
              "      <th>lat_lon</th>\n",
              "      <th>:@computed_region_efsh_h5xi</th>\n",
              "      <th>:@computed_region_f5dn_yrer</th>\n",
              "      <th>:@computed_region_yeji_bk3q</th>\n",
              "      <th>:@computed_region_92fq_4b7q</th>\n",
              "      <th>:@computed_region_sbqj_enih</th>\n",
              "      <th>cmplnt_to_dt</th>\n",
              "      <th>cmplnt_to_tm</th>\n",
              "      <th>loc_of_occur_desc</th>\n",
              "      <th>parks_nm</th>\n",
              "      <th>station_name</th>\n",
              "      <th>transit_district</th>\n",
              "      <th>housing_psa</th>\n",
              "      <th>hadevelopt</th>\n",
              "    </tr>\n",
              "    <tr>\n",
              "      <th>cmplnt_num</th>\n",
              "      <th></th>\n",
              "      <th></th>\n",
              "      <th></th>\n",
              "      <th></th>\n",
              "      <th></th>\n",
              "      <th></th>\n",
              "      <th></th>\n",
              "      <th></th>\n",
              "      <th></th>\n",
              "      <th></th>\n",
              "      <th></th>\n",
              "      <th></th>\n",
              "      <th></th>\n",
              "      <th></th>\n",
              "      <th></th>\n",
              "      <th></th>\n",
              "      <th></th>\n",
              "      <th></th>\n",
              "      <th></th>\n",
              "      <th></th>\n",
              "      <th></th>\n",
              "      <th></th>\n",
              "      <th></th>\n",
              "      <th></th>\n",
              "      <th></th>\n",
              "      <th></th>\n",
              "      <th></th>\n",
              "      <th></th>\n",
              "      <th></th>\n",
              "      <th></th>\n",
              "      <th></th>\n",
              "      <th></th>\n",
              "      <th></th>\n",
              "      <th></th>\n",
              "      <th></th>\n",
              "      <th></th>\n",
              "      <th></th>\n",
              "      <th></th>\n",
              "      <th></th>\n",
              "    </tr>\n",
              "  </thead>\n",
              "  <tbody>\n",
              "    <tr>\n",
              "      <th>314773184</th>\n",
              "      <td>48</td>\n",
              "      <td>BRONX</td>\n",
              "      <td>2019-12-31T00:00:00.000</td>\n",
              "      <td>18:00:00</td>\n",
              "      <td>COMPLETED</td>\n",
              "      <td>0.0</td>\n",
              "      <td>N.Y. POLICE DEPT</td>\n",
              "      <td>105</td>\n",
              "      <td>FELONY</td>\n",
              "      <td>ROBBERY</td>\n",
              "      <td>PATROL BORO BRONX</td>\n",
              "      <td>386.0</td>\n",
              "      <td>ROBBERY,PERSONAL ELECTRONIC DEVICE</td>\n",
              "      <td>STREET</td>\n",
              "      <td>2019-12-31T00:00:00.000</td>\n",
              "      <td>UNKNOWN</td>\n",
              "      <td>UNKNOWN</td>\n",
              "      <td>U</td>\n",
              "      <td>45-64</td>\n",
              "      <td>WHITE HISPANIC</td>\n",
              "      <td>F</td>\n",
              "      <td>1016990</td>\n",
              "      <td>244612</td>\n",
              "      <td>40.838026269000075</td>\n",
              "      <td>-73.88168118799997</td>\n",
              "      <td>{'latitude': '40.838026269000075', 'longitude'...</td>\n",
              "      <td>11269</td>\n",
              "      <td>35</td>\n",
              "      <td>5</td>\n",
              "      <td>43</td>\n",
              "      <td>31</td>\n",
              "      <td>NaN</td>\n",
              "      <td>NaN</td>\n",
              "      <td>NaN</td>\n",
              "      <td>NaN</td>\n",
              "      <td>NaN</td>\n",
              "      <td>NaN</td>\n",
              "      <td>NaN</td>\n",
              "      <td>NaN</td>\n",
              "    </tr>\n",
              "    <tr>\n",
              "      <th>289837961</th>\n",
              "      <td>25</td>\n",
              "      <td>MANHATTAN</td>\n",
              "      <td>2019-12-30T00:00:00.000</td>\n",
              "      <td>20:30:00</td>\n",
              "      <td>COMPLETED</td>\n",
              "      <td>0.0</td>\n",
              "      <td>N.Y. POLICE DEPT</td>\n",
              "      <td>341</td>\n",
              "      <td>MISDEMEANOR</td>\n",
              "      <td>PETIT LARCENY</td>\n",
              "      <td>PATROL BORO MAN NORTH</td>\n",
              "      <td>338.0</td>\n",
              "      <td>LARCENY,PETIT FROM BUILDING,UN</td>\n",
              "      <td>RESIDENCE - APT. HOUSE</td>\n",
              "      <td>2019-12-31T00:00:00.000</td>\n",
              "      <td>NaN</td>\n",
              "      <td>NaN</td>\n",
              "      <td>NaN</td>\n",
              "      <td>25-44</td>\n",
              "      <td>WHITE HISPANIC</td>\n",
              "      <td>F</td>\n",
              "      <td>999296</td>\n",
              "      <td>230862</td>\n",
              "      <td>40.800334261000046</td>\n",
              "      <td>-73.94565697199994</td>\n",
              "      <td>{'latitude': '40.800334261000046', 'longitude'...</td>\n",
              "      <td>13093</td>\n",
              "      <td>7</td>\n",
              "      <td>4</td>\n",
              "      <td>36</td>\n",
              "      <td>16</td>\n",
              "      <td>2019-12-31T00:00:00.000</td>\n",
              "      <td>10:00:00</td>\n",
              "      <td>INSIDE</td>\n",
              "      <td>NaN</td>\n",
              "      <td>NaN</td>\n",
              "      <td>NaN</td>\n",
              "      <td>NaN</td>\n",
              "      <td>NaN</td>\n",
              "    </tr>\n",
              "    <tr>\n",
              "      <th>535744284</th>\n",
              "      <td>77</td>\n",
              "      <td>BROOKLYN</td>\n",
              "      <td>2019-12-24T00:00:00.000</td>\n",
              "      <td>16:55:00</td>\n",
              "      <td>COMPLETED</td>\n",
              "      <td>0.0</td>\n",
              "      <td>N.Y. POLICE DEPT</td>\n",
              "      <td>106</td>\n",
              "      <td>FELONY</td>\n",
              "      <td>FELONY ASSAULT</td>\n",
              "      <td>PATROL BORO BKLYN NORTH</td>\n",
              "      <td>109.0</td>\n",
              "      <td>ASSAULT 2,1,UNCLASSIFIED</td>\n",
              "      <td>STREET</td>\n",
              "      <td>2019-12-31T00:00:00.000</td>\n",
              "      <td>UNKNOWN</td>\n",
              "      <td>BLACK</td>\n",
              "      <td>M</td>\n",
              "      <td>18-24</td>\n",
              "      <td>WHITE</td>\n",
              "      <td>M</td>\n",
              "      <td>1001068</td>\n",
              "      <td>183317</td>\n",
              "      <td>40.66983179600004</td>\n",
              "      <td>-73.93937555099996</td>\n",
              "      <td>{'latitude': '40.66983179600004', 'longitude':...</td>\n",
              "      <td>17615</td>\n",
              "      <td>16</td>\n",
              "      <td>2</td>\n",
              "      <td>48</td>\n",
              "      <td>49</td>\n",
              "      <td>2019-12-24T00:00:00.000</td>\n",
              "      <td>17:00:00</td>\n",
              "      <td>NaN</td>\n",
              "      <td>NaN</td>\n",
              "      <td>NaN</td>\n",
              "      <td>NaN</td>\n",
              "      <td>NaN</td>\n",
              "      <td>NaN</td>\n",
              "    </tr>\n",
              "    <tr>\n",
              "      <th>895678119</th>\n",
              "      <td>52</td>\n",
              "      <td>BRONX</td>\n",
              "      <td>2019-12-30T00:00:00.000</td>\n",
              "      <td>19:32:00</td>\n",
              "      <td>COMPLETED</td>\n",
              "      <td>0.0</td>\n",
              "      <td>N.Y. POLICE DEPT</td>\n",
              "      <td>341</td>\n",
              "      <td>MISDEMEANOR</td>\n",
              "      <td>PETIT LARCENY</td>\n",
              "      <td>PATROL BORO BRONX</td>\n",
              "      <td>333.0</td>\n",
              "      <td>LARCENY,PETIT FROM STORE-SHOPL</td>\n",
              "      <td>CHAIN STORE</td>\n",
              "      <td>2019-12-30T00:00:00.000</td>\n",
              "      <td>25-44</td>\n",
              "      <td>WHITE</td>\n",
              "      <td>F</td>\n",
              "      <td>UNKNOWN</td>\n",
              "      <td>UNKNOWN</td>\n",
              "      <td>D</td>\n",
              "      <td>1009690</td>\n",
              "      <td>257590</td>\n",
              "      <td>40.87367103500002</td>\n",
              "      <td>-73.90801364899994</td>\n",
              "      <td>{'latitude': '40.87367103500002', 'longitude':...</td>\n",
              "      <td>11272</td>\n",
              "      <td>48</td>\n",
              "      <td>4</td>\n",
              "      <td>39</td>\n",
              "      <td>33</td>\n",
              "      <td>NaN</td>\n",
              "      <td>NaN</td>\n",
              "      <td>INSIDE</td>\n",
              "      <td>NaN</td>\n",
              "      <td>NaN</td>\n",
              "      <td>NaN</td>\n",
              "      <td>NaN</td>\n",
              "      <td>NaN</td>\n",
              "    </tr>\n",
              "    <tr>\n",
              "      <th>299841674</th>\n",
              "      <td>18</td>\n",
              "      <td>MANHATTAN</td>\n",
              "      <td>2019-12-30T00:00:00.000</td>\n",
              "      <td>15:30:00</td>\n",
              "      <td>COMPLETED</td>\n",
              "      <td>0.0</td>\n",
              "      <td>N.Y. POLICE DEPT</td>\n",
              "      <td>341</td>\n",
              "      <td>MISDEMEANOR</td>\n",
              "      <td>PETIT LARCENY</td>\n",
              "      <td>PATROL BORO MAN SOUTH</td>\n",
              "      <td>301.0</td>\n",
              "      <td>LARCENY,PETIT BY ACQUIRING LOS</td>\n",
              "      <td>STREET</td>\n",
              "      <td>2019-12-30T00:00:00.000</td>\n",
              "      <td>NaN</td>\n",
              "      <td>NaN</td>\n",
              "      <td>NaN</td>\n",
              "      <td>25-44</td>\n",
              "      <td>WHITE HISPANIC</td>\n",
              "      <td>M</td>\n",
              "      <td>985766</td>\n",
              "      <td>216503</td>\n",
              "      <td>40.76093528000007</td>\n",
              "      <td>-73.99452906599998</td>\n",
              "      <td>{'latitude': '40.76093528000007', 'longitude':...</td>\n",
              "      <td>13094</td>\n",
              "      <td>12</td>\n",
              "      <td>4</td>\n",
              "      <td>10</td>\n",
              "      <td>10</td>\n",
              "      <td>2019-12-30T00:00:00.000</td>\n",
              "      <td>16:50:00</td>\n",
              "      <td>NaN</td>\n",
              "      <td>NaN</td>\n",
              "      <td>NaN</td>\n",
              "      <td>NaN</td>\n",
              "      <td>NaN</td>\n",
              "      <td>NaN</td>\n",
              "    </tr>\n",
              "  </tbody>\n",
              "</table>\n",
              "</div>"
            ],
            "text/plain": [
              "           addr_pct_cd    boro_nm  ... housing_psa hadevelopt\n",
              "cmplnt_num                         ...                       \n",
              "314773184           48      BRONX  ...         NaN        NaN\n",
              "289837961           25  MANHATTAN  ...         NaN        NaN\n",
              "535744284           77   BROOKLYN  ...         NaN        NaN\n",
              "895678119           52      BRONX  ...         NaN        NaN\n",
              "299841674           18  MANHATTAN  ...         NaN        NaN\n",
              "\n",
              "[5 rows x 39 columns]"
            ]
          },
          "metadata": {
            "tags": []
          },
          "execution_count": 4
        }
      ]
    },
    {
      "cell_type": "code",
      "metadata": {
        "id": "8JM4ZEEAbizh",
        "colab_type": "code",
        "outputId": "0818f978-31e9-4479-b576-9a2502347e24",
        "colab": {
          "base_uri": "https://localhost:8080/",
          "height": 442
        }
      },
      "source": [
        "# Cut down data just to law_cat_cd = VIOLATION\n",
        "\n",
        "violations = complaints_df[complaints_df['law_cat_cd'] == \"VIOLATION\"].copy()\n",
        "sorted_violations = violations.sort_values(by = [\"rpt_dt\"], ascending = False)\n",
        "sorted_violations.head()"
      ],
      "execution_count": 5,
      "outputs": [
        {
          "output_type": "execute_result",
          "data": {
            "text/html": [
              "<div>\n",
              "<style scoped>\n",
              "    .dataframe tbody tr th:only-of-type {\n",
              "        vertical-align: middle;\n",
              "    }\n",
              "\n",
              "    .dataframe tbody tr th {\n",
              "        vertical-align: top;\n",
              "    }\n",
              "\n",
              "    .dataframe thead th {\n",
              "        text-align: right;\n",
              "    }\n",
              "</style>\n",
              "<table border=\"1\" class=\"dataframe\">\n",
              "  <thead>\n",
              "    <tr style=\"text-align: right;\">\n",
              "      <th></th>\n",
              "      <th>addr_pct_cd</th>\n",
              "      <th>boro_nm</th>\n",
              "      <th>cmplnt_fr_dt</th>\n",
              "      <th>cmplnt_fr_tm</th>\n",
              "      <th>crm_atpt_cptd_cd</th>\n",
              "      <th>jurisdiction_code</th>\n",
              "      <th>juris_desc</th>\n",
              "      <th>ky_cd</th>\n",
              "      <th>law_cat_cd</th>\n",
              "      <th>ofns_desc</th>\n",
              "      <th>patrol_boro</th>\n",
              "      <th>pd_cd</th>\n",
              "      <th>pd_desc</th>\n",
              "      <th>prem_typ_desc</th>\n",
              "      <th>rpt_dt</th>\n",
              "      <th>susp_age_group</th>\n",
              "      <th>susp_race</th>\n",
              "      <th>susp_sex</th>\n",
              "      <th>vic_age_group</th>\n",
              "      <th>vic_race</th>\n",
              "      <th>vic_sex</th>\n",
              "      <th>x_coord_cd</th>\n",
              "      <th>y_coord_cd</th>\n",
              "      <th>latitude</th>\n",
              "      <th>longitude</th>\n",
              "      <th>lat_lon</th>\n",
              "      <th>:@computed_region_efsh_h5xi</th>\n",
              "      <th>:@computed_region_f5dn_yrer</th>\n",
              "      <th>:@computed_region_yeji_bk3q</th>\n",
              "      <th>:@computed_region_92fq_4b7q</th>\n",
              "      <th>:@computed_region_sbqj_enih</th>\n",
              "      <th>cmplnt_to_dt</th>\n",
              "      <th>cmplnt_to_tm</th>\n",
              "      <th>loc_of_occur_desc</th>\n",
              "      <th>parks_nm</th>\n",
              "      <th>station_name</th>\n",
              "      <th>transit_district</th>\n",
              "      <th>housing_psa</th>\n",
              "      <th>hadevelopt</th>\n",
              "    </tr>\n",
              "    <tr>\n",
              "      <th>cmplnt_num</th>\n",
              "      <th></th>\n",
              "      <th></th>\n",
              "      <th></th>\n",
              "      <th></th>\n",
              "      <th></th>\n",
              "      <th></th>\n",
              "      <th></th>\n",
              "      <th></th>\n",
              "      <th></th>\n",
              "      <th></th>\n",
              "      <th></th>\n",
              "      <th></th>\n",
              "      <th></th>\n",
              "      <th></th>\n",
              "      <th></th>\n",
              "      <th></th>\n",
              "      <th></th>\n",
              "      <th></th>\n",
              "      <th></th>\n",
              "      <th></th>\n",
              "      <th></th>\n",
              "      <th></th>\n",
              "      <th></th>\n",
              "      <th></th>\n",
              "      <th></th>\n",
              "      <th></th>\n",
              "      <th></th>\n",
              "      <th></th>\n",
              "      <th></th>\n",
              "      <th></th>\n",
              "      <th></th>\n",
              "      <th></th>\n",
              "      <th></th>\n",
              "      <th></th>\n",
              "      <th></th>\n",
              "      <th></th>\n",
              "      <th></th>\n",
              "      <th></th>\n",
              "      <th></th>\n",
              "    </tr>\n",
              "  </thead>\n",
              "  <tbody>\n",
              "    <tr>\n",
              "      <th>536304115</th>\n",
              "      <td>13</td>\n",
              "      <td>MANHATTAN</td>\n",
              "      <td>2019-12-28T00:00:00.000</td>\n",
              "      <td>15:05:00</td>\n",
              "      <td>COMPLETED</td>\n",
              "      <td>0.0</td>\n",
              "      <td>N.Y. POLICE DEPT</td>\n",
              "      <td>578</td>\n",
              "      <td>VIOLATION</td>\n",
              "      <td>HARRASSMENT 2</td>\n",
              "      <td>PATROL BORO MAN SOUTH</td>\n",
              "      <td>637.0</td>\n",
              "      <td>HARASSMENT,SUBD 1,CIVILIAN</td>\n",
              "      <td>RESIDENCE - APT. HOUSE</td>\n",
              "      <td>2019-12-28T00:00:00.000</td>\n",
              "      <td>65+</td>\n",
              "      <td>WHITE</td>\n",
              "      <td>F</td>\n",
              "      <td>18-24</td>\n",
              "      <td>ASIAN / PACIFIC ISLANDER</td>\n",
              "      <td>F</td>\n",
              "      <td>985850</td>\n",
              "      <td>210155</td>\n",
              "      <td>40.74351160900005</td>\n",
              "      <td>-73.99422735499998</td>\n",
              "      <td>{'latitude': '40.74351160900005', 'longitude':...</td>\n",
              "      <td>12074</td>\n",
              "      <td>12</td>\n",
              "      <td>4</td>\n",
              "      <td>10</td>\n",
              "      <td>7</td>\n",
              "      <td>2019-12-28T00:00:00.000</td>\n",
              "      <td>15:10:00</td>\n",
              "      <td>INSIDE</td>\n",
              "      <td>NaN</td>\n",
              "      <td>NaN</td>\n",
              "      <td>NaN</td>\n",
              "      <td>NaN</td>\n",
              "      <td>NaN</td>\n",
              "    </tr>\n",
              "    <tr>\n",
              "      <th>355744896</th>\n",
              "      <td>46</td>\n",
              "      <td>BRONX</td>\n",
              "      <td>2019-12-28T00:00:00.000</td>\n",
              "      <td>14:10:00</td>\n",
              "      <td>COMPLETED</td>\n",
              "      <td>0.0</td>\n",
              "      <td>N.Y. POLICE DEPT</td>\n",
              "      <td>578</td>\n",
              "      <td>VIOLATION</td>\n",
              "      <td>HARRASSMENT 2</td>\n",
              "      <td>PATROL BORO BRONX</td>\n",
              "      <td>638.0</td>\n",
              "      <td>HARASSMENT,SUBD 3,4,5</td>\n",
              "      <td>RESIDENCE - APT. HOUSE</td>\n",
              "      <td>2019-12-28T00:00:00.000</td>\n",
              "      <td>UNKNOWN</td>\n",
              "      <td>BLACK</td>\n",
              "      <td>M</td>\n",
              "      <td>25-44</td>\n",
              "      <td>BLACK HISPANIC</td>\n",
              "      <td>F</td>\n",
              "      <td>1011301</td>\n",
              "      <td>252369</td>\n",
              "      <td>40.85933619200006</td>\n",
              "      <td>-73.90220955699994</td>\n",
              "      <td>{'latitude': '40.85933619200006', 'longitude':...</td>\n",
              "      <td>11606</td>\n",
              "      <td>6</td>\n",
              "      <td>5</td>\n",
              "      <td>29</td>\n",
              "      <td>29</td>\n",
              "      <td>2019-12-28T00:00:00.000</td>\n",
              "      <td>14:23:00</td>\n",
              "      <td>INSIDE</td>\n",
              "      <td>NaN</td>\n",
              "      <td>NaN</td>\n",
              "      <td>NaN</td>\n",
              "      <td>NaN</td>\n",
              "      <td>NaN</td>\n",
              "    </tr>\n",
              "    <tr>\n",
              "      <th>271699374</th>\n",
              "      <td>41</td>\n",
              "      <td>BRONX</td>\n",
              "      <td>2019-12-25T00:00:00.000</td>\n",
              "      <td>11:20:00</td>\n",
              "      <td>COMPLETED</td>\n",
              "      <td>0.0</td>\n",
              "      <td>N.Y. POLICE DEPT</td>\n",
              "      <td>578</td>\n",
              "      <td>VIOLATION</td>\n",
              "      <td>HARRASSMENT 2</td>\n",
              "      <td>PATROL BORO BRONX</td>\n",
              "      <td>638.0</td>\n",
              "      <td>HARASSMENT,SUBD 3,4,5</td>\n",
              "      <td>STREET</td>\n",
              "      <td>2019-12-25T00:00:00.000</td>\n",
              "      <td>65+</td>\n",
              "      <td>WHITE HISPANIC</td>\n",
              "      <td>M</td>\n",
              "      <td>45-64</td>\n",
              "      <td>WHITE HISPANIC</td>\n",
              "      <td>F</td>\n",
              "      <td>1015387</td>\n",
              "      <td>237462</td>\n",
              "      <td>40.818407371000035</td>\n",
              "      <td>-73.88750750299994</td>\n",
              "      <td>{'latitude': '40.818407371000035', 'longitude'...</td>\n",
              "      <td>12343</td>\n",
              "      <td>8</td>\n",
              "      <td>5</td>\n",
              "      <td>43</td>\n",
              "      <td>24</td>\n",
              "      <td>NaN</td>\n",
              "      <td>NaN</td>\n",
              "      <td>INSIDE</td>\n",
              "      <td>NaN</td>\n",
              "      <td>NaN</td>\n",
              "      <td>NaN</td>\n",
              "      <td>NaN</td>\n",
              "      <td>NaN</td>\n",
              "    </tr>\n",
              "    <tr>\n",
              "      <th>708944208</th>\n",
              "      <td>20</td>\n",
              "      <td>MANHATTAN</td>\n",
              "      <td>2019-12-24T00:00:00.000</td>\n",
              "      <td>14:45:00</td>\n",
              "      <td>COMPLETED</td>\n",
              "      <td>0.0</td>\n",
              "      <td>N.Y. POLICE DEPT</td>\n",
              "      <td>578</td>\n",
              "      <td>VIOLATION</td>\n",
              "      <td>HARRASSMENT 2</td>\n",
              "      <td>PATROL BORO MAN NORTH</td>\n",
              "      <td>638.0</td>\n",
              "      <td>HARASSMENT,SUBD 3,4,5</td>\n",
              "      <td>STREET</td>\n",
              "      <td>2019-12-24T00:00:00.000</td>\n",
              "      <td>NaN</td>\n",
              "      <td>NaN</td>\n",
              "      <td>NaN</td>\n",
              "      <td>45-64</td>\n",
              "      <td>WHITE</td>\n",
              "      <td>M</td>\n",
              "      <td>989197</td>\n",
              "      <td>222103</td>\n",
              "      <td>40.77630457400005</td>\n",
              "      <td>-73.98213988499998</td>\n",
              "      <td>{'latitude': '40.77630457400005', 'longitude':...</td>\n",
              "      <td>12420</td>\n",
              "      <td>20</td>\n",
              "      <td>4</td>\n",
              "      <td>19</td>\n",
              "      <td>12</td>\n",
              "      <td>NaN</td>\n",
              "      <td>NaN</td>\n",
              "      <td>NaN</td>\n",
              "      <td>NaN</td>\n",
              "      <td>NaN</td>\n",
              "      <td>NaN</td>\n",
              "      <td>NaN</td>\n",
              "      <td>NaN</td>\n",
              "    </tr>\n",
              "    <tr>\n",
              "      <th>220063575</th>\n",
              "      <td>68</td>\n",
              "      <td>BROOKLYN</td>\n",
              "      <td>2019-12-22T00:00:00.000</td>\n",
              "      <td>22:10:00</td>\n",
              "      <td>COMPLETED</td>\n",
              "      <td>0.0</td>\n",
              "      <td>N.Y. POLICE DEPT</td>\n",
              "      <td>578</td>\n",
              "      <td>VIOLATION</td>\n",
              "      <td>HARRASSMENT 2</td>\n",
              "      <td>PATROL BORO BKLYN SOUTH</td>\n",
              "      <td>638.0</td>\n",
              "      <td>HARASSMENT,SUBD 3,4,5</td>\n",
              "      <td>RESIDENCE - APT. HOUSE</td>\n",
              "      <td>2019-12-22T00:00:00.000</td>\n",
              "      <td>45-64</td>\n",
              "      <td>BLACK</td>\n",
              "      <td>M</td>\n",
              "      <td>UNKNOWN</td>\n",
              "      <td>UNKNOWN</td>\n",
              "      <td>M</td>\n",
              "      <td>975432</td>\n",
              "      <td>167102</td>\n",
              "      <td>40.625336705000045</td>\n",
              "      <td>-74.03176756699997</td>\n",
              "      <td>{'latitude': '40.625336705000045', 'longitude'...</td>\n",
              "      <td>17216</td>\n",
              "      <td>10</td>\n",
              "      <td>2</td>\n",
              "      <td>44</td>\n",
              "      <td>41</td>\n",
              "      <td>NaN</td>\n",
              "      <td>NaN</td>\n",
              "      <td>INSIDE</td>\n",
              "      <td>NaN</td>\n",
              "      <td>NaN</td>\n",
              "      <td>NaN</td>\n",
              "      <td>NaN</td>\n",
              "      <td>NaN</td>\n",
              "    </tr>\n",
              "  </tbody>\n",
              "</table>\n",
              "</div>"
            ],
            "text/plain": [
              "           addr_pct_cd    boro_nm  ... housing_psa hadevelopt\n",
              "cmplnt_num                         ...                       \n",
              "536304115           13  MANHATTAN  ...         NaN        NaN\n",
              "355744896           46      BRONX  ...         NaN        NaN\n",
              "271699374           41      BRONX  ...         NaN        NaN\n",
              "708944208           20  MANHATTAN  ...         NaN        NaN\n",
              "220063575           68   BROOKLYN  ...         NaN        NaN\n",
              "\n",
              "[5 rows x 39 columns]"
            ]
          },
          "metadata": {
            "tags": []
          },
          "execution_count": 5
        }
      ]
    },
    {
      "cell_type": "markdown",
      "metadata": {
        "id": "uxPzPnWDCXru",
        "colab_type": "text"
      },
      "source": [
        "# Data Analysis: Tables"
      ]
    },
    {
      "cell_type": "code",
      "metadata": {
        "id": "Z6DpDufcyJYS",
        "colab_type": "code",
        "outputId": "712df3a7-10cb-4707-a81c-4320c34a7456",
        "colab": {
          "base_uri": "https://localhost:8080/",
          "height": 51
        }
      },
      "source": [
        "# See date breakdown of data\n",
        "print(min(violations.rpt_dt))\n",
        "print(max(violations.rpt_dt))"
      ],
      "execution_count": 6,
      "outputs": [
        {
          "output_type": "stream",
          "text": [
            "2019-04-21T00:00:00.000\n",
            "2019-12-28T00:00:00.000\n"
          ],
          "name": "stdout"
        }
      ]
    },
    {
      "cell_type": "markdown",
      "metadata": {
        "id": "JSvUM1wxgwBH",
        "colab_type": "text"
      },
      "source": [
        "Now, learn more about the characteristics of the complaints, including victim characteristics and suspect characteristics."
      ]
    },
    {
      "cell_type": "code",
      "metadata": {
        "id": "mjg0XAWMyJbQ",
        "colab_type": "code",
        "outputId": "e22a9c16-bf0b-41ef-c739-6712e6e307ff",
        "colab": {
          "base_uri": "https://localhost:8080/",
          "height": 799
        }
      },
      "source": [
        "# understand the data counts and data types for the columns\n",
        "violations.info()"
      ],
      "execution_count": 7,
      "outputs": [
        {
          "output_type": "stream",
          "text": [
            "<class 'pandas.core.frame.DataFrame'>\n",
            "Index: 177 entries, 536304115 to 566709190\n",
            "Data columns (total 39 columns):\n",
            " #   Column                       Non-Null Count  Dtype \n",
            "---  ------                       --------------  ----- \n",
            " 0   addr_pct_cd                  177 non-null    object\n",
            " 1   boro_nm                      177 non-null    object\n",
            " 2   cmplnt_fr_dt                 177 non-null    object\n",
            " 3   cmplnt_fr_tm                 177 non-null    object\n",
            " 4   crm_atpt_cptd_cd             177 non-null    object\n",
            " 5   jurisdiction_code            177 non-null    object\n",
            " 6   juris_desc                   177 non-null    object\n",
            " 7   ky_cd                        177 non-null    object\n",
            " 8   law_cat_cd                   177 non-null    object\n",
            " 9   ofns_desc                    177 non-null    object\n",
            " 10  patrol_boro                  177 non-null    object\n",
            " 11  pd_cd                        177 non-null    object\n",
            " 12  pd_desc                      177 non-null    object\n",
            " 13  prem_typ_desc                175 non-null    object\n",
            " 14  rpt_dt                       177 non-null    object\n",
            " 15  susp_age_group               146 non-null    object\n",
            " 16  susp_race                    146 non-null    object\n",
            " 17  susp_sex                     146 non-null    object\n",
            " 18  vic_age_group                177 non-null    object\n",
            " 19  vic_race                     177 non-null    object\n",
            " 20  vic_sex                      177 non-null    object\n",
            " 21  x_coord_cd                   177 non-null    object\n",
            " 22  y_coord_cd                   177 non-null    object\n",
            " 23  latitude                     177 non-null    object\n",
            " 24  longitude                    177 non-null    object\n",
            " 25  lat_lon                      177 non-null    object\n",
            " 26  :@computed_region_efsh_h5xi  175 non-null    object\n",
            " 27  :@computed_region_f5dn_yrer  177 non-null    object\n",
            " 28  :@computed_region_yeji_bk3q  177 non-null    object\n",
            " 29  :@computed_region_92fq_4b7q  177 non-null    object\n",
            " 30  :@computed_region_sbqj_enih  177 non-null    object\n",
            " 31  cmplnt_to_dt                 60 non-null     object\n",
            " 32  cmplnt_to_tm                 61 non-null     object\n",
            " 33  loc_of_occur_desc            127 non-null    object\n",
            " 34  parks_nm                     0 non-null      object\n",
            " 35  station_name                 0 non-null      object\n",
            " 36  transit_district             0 non-null      object\n",
            " 37  housing_psa                  0 non-null      object\n",
            " 38  hadevelopt                   0 non-null      object\n",
            "dtypes: object(39)\n",
            "memory usage: 55.3+ KB\n"
          ],
          "name": "stdout"
        }
      ]
    },
    {
      "cell_type": "code",
      "metadata": {
        "id": "myIImuXLl0ER",
        "colab_type": "code",
        "outputId": "7bb1311b-0d8e-4c28-97a1-826c42f3b2e9",
        "colab": {
          "base_uri": "https://localhost:8080/",
          "height": 51
        }
      },
      "source": [
        "# Check against total number of violations\n",
        "violations[\"ofns_desc\"].value_counts()"
      ],
      "execution_count": 8,
      "outputs": [
        {
          "output_type": "execute_result",
          "data": {
            "text/plain": [
              "HARRASSMENT 2    177\n",
              "Name: ofns_desc, dtype: int64"
            ]
          },
          "metadata": {
            "tags": []
          },
          "execution_count": 8
        }
      ]
    },
    {
      "cell_type": "code",
      "metadata": {
        "id": "PIVEBTEWvByy",
        "colab_type": "code",
        "outputId": "de134204-7014-4930-ee3d-171795fe06e7",
        "colab": {
          "base_uri": "https://localhost:8080/",
          "height": 68
        }
      },
      "source": [
        "# Count by types of violation\n",
        "violations[\"pd_desc\"].value_counts()"
      ],
      "execution_count": 9,
      "outputs": [
        {
          "output_type": "execute_result",
          "data": {
            "text/plain": [
              "HARASSMENT,SUBD 3,4,5         142\n",
              "HARASSMENT,SUBD 1,CIVILIAN     35\n",
              "Name: pd_desc, dtype: int64"
            ]
          },
          "metadata": {
            "tags": []
          },
          "execution_count": 9
        }
      ]
    },
    {
      "cell_type": "code",
      "metadata": {
        "id": "Vk2F2armli-J",
        "colab_type": "code",
        "outputId": "4d9efafe-c5f0-4015-c143-beb012c801fe",
        "colab": {
          "base_uri": "https://localhost:8080/",
          "height": 442
        }
      },
      "source": [
        "# Create new variable called \"rept_dt_yr\" that only contains the year the complaint was made\n",
        "import datetime\n",
        "\n",
        "violations[\"rpt_dt_yr\"] = pd.DatetimeIndex(violations[\"rpt_dt\"]).year\n",
        "violations.head()"
      ],
      "execution_count": 10,
      "outputs": [
        {
          "output_type": "execute_result",
          "data": {
            "text/html": [
              "<div>\n",
              "<style scoped>\n",
              "    .dataframe tbody tr th:only-of-type {\n",
              "        vertical-align: middle;\n",
              "    }\n",
              "\n",
              "    .dataframe tbody tr th {\n",
              "        vertical-align: top;\n",
              "    }\n",
              "\n",
              "    .dataframe thead th {\n",
              "        text-align: right;\n",
              "    }\n",
              "</style>\n",
              "<table border=\"1\" class=\"dataframe\">\n",
              "  <thead>\n",
              "    <tr style=\"text-align: right;\">\n",
              "      <th></th>\n",
              "      <th>addr_pct_cd</th>\n",
              "      <th>boro_nm</th>\n",
              "      <th>cmplnt_fr_dt</th>\n",
              "      <th>cmplnt_fr_tm</th>\n",
              "      <th>crm_atpt_cptd_cd</th>\n",
              "      <th>jurisdiction_code</th>\n",
              "      <th>juris_desc</th>\n",
              "      <th>ky_cd</th>\n",
              "      <th>law_cat_cd</th>\n",
              "      <th>ofns_desc</th>\n",
              "      <th>patrol_boro</th>\n",
              "      <th>pd_cd</th>\n",
              "      <th>pd_desc</th>\n",
              "      <th>prem_typ_desc</th>\n",
              "      <th>rpt_dt</th>\n",
              "      <th>susp_age_group</th>\n",
              "      <th>susp_race</th>\n",
              "      <th>susp_sex</th>\n",
              "      <th>vic_age_group</th>\n",
              "      <th>vic_race</th>\n",
              "      <th>vic_sex</th>\n",
              "      <th>x_coord_cd</th>\n",
              "      <th>y_coord_cd</th>\n",
              "      <th>latitude</th>\n",
              "      <th>longitude</th>\n",
              "      <th>lat_lon</th>\n",
              "      <th>:@computed_region_efsh_h5xi</th>\n",
              "      <th>:@computed_region_f5dn_yrer</th>\n",
              "      <th>:@computed_region_yeji_bk3q</th>\n",
              "      <th>:@computed_region_92fq_4b7q</th>\n",
              "      <th>:@computed_region_sbqj_enih</th>\n",
              "      <th>cmplnt_to_dt</th>\n",
              "      <th>cmplnt_to_tm</th>\n",
              "      <th>loc_of_occur_desc</th>\n",
              "      <th>parks_nm</th>\n",
              "      <th>station_name</th>\n",
              "      <th>transit_district</th>\n",
              "      <th>housing_psa</th>\n",
              "      <th>hadevelopt</th>\n",
              "      <th>rpt_dt_yr</th>\n",
              "    </tr>\n",
              "    <tr>\n",
              "      <th>cmplnt_num</th>\n",
              "      <th></th>\n",
              "      <th></th>\n",
              "      <th></th>\n",
              "      <th></th>\n",
              "      <th></th>\n",
              "      <th></th>\n",
              "      <th></th>\n",
              "      <th></th>\n",
              "      <th></th>\n",
              "      <th></th>\n",
              "      <th></th>\n",
              "      <th></th>\n",
              "      <th></th>\n",
              "      <th></th>\n",
              "      <th></th>\n",
              "      <th></th>\n",
              "      <th></th>\n",
              "      <th></th>\n",
              "      <th></th>\n",
              "      <th></th>\n",
              "      <th></th>\n",
              "      <th></th>\n",
              "      <th></th>\n",
              "      <th></th>\n",
              "      <th></th>\n",
              "      <th></th>\n",
              "      <th></th>\n",
              "      <th></th>\n",
              "      <th></th>\n",
              "      <th></th>\n",
              "      <th></th>\n",
              "      <th></th>\n",
              "      <th></th>\n",
              "      <th></th>\n",
              "      <th></th>\n",
              "      <th></th>\n",
              "      <th></th>\n",
              "      <th></th>\n",
              "      <th></th>\n",
              "      <th></th>\n",
              "    </tr>\n",
              "  </thead>\n",
              "  <tbody>\n",
              "    <tr>\n",
              "      <th>536304115</th>\n",
              "      <td>13</td>\n",
              "      <td>MANHATTAN</td>\n",
              "      <td>2019-12-28T00:00:00.000</td>\n",
              "      <td>15:05:00</td>\n",
              "      <td>COMPLETED</td>\n",
              "      <td>0.0</td>\n",
              "      <td>N.Y. POLICE DEPT</td>\n",
              "      <td>578</td>\n",
              "      <td>VIOLATION</td>\n",
              "      <td>HARRASSMENT 2</td>\n",
              "      <td>PATROL BORO MAN SOUTH</td>\n",
              "      <td>637.0</td>\n",
              "      <td>HARASSMENT,SUBD 1,CIVILIAN</td>\n",
              "      <td>RESIDENCE - APT. HOUSE</td>\n",
              "      <td>2019-12-28T00:00:00.000</td>\n",
              "      <td>65+</td>\n",
              "      <td>WHITE</td>\n",
              "      <td>F</td>\n",
              "      <td>18-24</td>\n",
              "      <td>ASIAN / PACIFIC ISLANDER</td>\n",
              "      <td>F</td>\n",
              "      <td>985850</td>\n",
              "      <td>210155</td>\n",
              "      <td>40.74351160900005</td>\n",
              "      <td>-73.99422735499998</td>\n",
              "      <td>{'latitude': '40.74351160900005', 'longitude':...</td>\n",
              "      <td>12074</td>\n",
              "      <td>12</td>\n",
              "      <td>4</td>\n",
              "      <td>10</td>\n",
              "      <td>7</td>\n",
              "      <td>2019-12-28T00:00:00.000</td>\n",
              "      <td>15:10:00</td>\n",
              "      <td>INSIDE</td>\n",
              "      <td>NaN</td>\n",
              "      <td>NaN</td>\n",
              "      <td>NaN</td>\n",
              "      <td>NaN</td>\n",
              "      <td>NaN</td>\n",
              "      <td>2019</td>\n",
              "    </tr>\n",
              "    <tr>\n",
              "      <th>355744896</th>\n",
              "      <td>46</td>\n",
              "      <td>BRONX</td>\n",
              "      <td>2019-12-28T00:00:00.000</td>\n",
              "      <td>14:10:00</td>\n",
              "      <td>COMPLETED</td>\n",
              "      <td>0.0</td>\n",
              "      <td>N.Y. POLICE DEPT</td>\n",
              "      <td>578</td>\n",
              "      <td>VIOLATION</td>\n",
              "      <td>HARRASSMENT 2</td>\n",
              "      <td>PATROL BORO BRONX</td>\n",
              "      <td>638.0</td>\n",
              "      <td>HARASSMENT,SUBD 3,4,5</td>\n",
              "      <td>RESIDENCE - APT. HOUSE</td>\n",
              "      <td>2019-12-28T00:00:00.000</td>\n",
              "      <td>UNKNOWN</td>\n",
              "      <td>BLACK</td>\n",
              "      <td>M</td>\n",
              "      <td>25-44</td>\n",
              "      <td>BLACK HISPANIC</td>\n",
              "      <td>F</td>\n",
              "      <td>1011301</td>\n",
              "      <td>252369</td>\n",
              "      <td>40.85933619200006</td>\n",
              "      <td>-73.90220955699994</td>\n",
              "      <td>{'latitude': '40.85933619200006', 'longitude':...</td>\n",
              "      <td>11606</td>\n",
              "      <td>6</td>\n",
              "      <td>5</td>\n",
              "      <td>29</td>\n",
              "      <td>29</td>\n",
              "      <td>2019-12-28T00:00:00.000</td>\n",
              "      <td>14:23:00</td>\n",
              "      <td>INSIDE</td>\n",
              "      <td>NaN</td>\n",
              "      <td>NaN</td>\n",
              "      <td>NaN</td>\n",
              "      <td>NaN</td>\n",
              "      <td>NaN</td>\n",
              "      <td>2019</td>\n",
              "    </tr>\n",
              "    <tr>\n",
              "      <th>271699374</th>\n",
              "      <td>41</td>\n",
              "      <td>BRONX</td>\n",
              "      <td>2019-12-25T00:00:00.000</td>\n",
              "      <td>11:20:00</td>\n",
              "      <td>COMPLETED</td>\n",
              "      <td>0.0</td>\n",
              "      <td>N.Y. POLICE DEPT</td>\n",
              "      <td>578</td>\n",
              "      <td>VIOLATION</td>\n",
              "      <td>HARRASSMENT 2</td>\n",
              "      <td>PATROL BORO BRONX</td>\n",
              "      <td>638.0</td>\n",
              "      <td>HARASSMENT,SUBD 3,4,5</td>\n",
              "      <td>STREET</td>\n",
              "      <td>2019-12-25T00:00:00.000</td>\n",
              "      <td>65+</td>\n",
              "      <td>WHITE HISPANIC</td>\n",
              "      <td>M</td>\n",
              "      <td>45-64</td>\n",
              "      <td>WHITE HISPANIC</td>\n",
              "      <td>F</td>\n",
              "      <td>1015387</td>\n",
              "      <td>237462</td>\n",
              "      <td>40.818407371000035</td>\n",
              "      <td>-73.88750750299994</td>\n",
              "      <td>{'latitude': '40.818407371000035', 'longitude'...</td>\n",
              "      <td>12343</td>\n",
              "      <td>8</td>\n",
              "      <td>5</td>\n",
              "      <td>43</td>\n",
              "      <td>24</td>\n",
              "      <td>NaN</td>\n",
              "      <td>NaN</td>\n",
              "      <td>INSIDE</td>\n",
              "      <td>NaN</td>\n",
              "      <td>NaN</td>\n",
              "      <td>NaN</td>\n",
              "      <td>NaN</td>\n",
              "      <td>NaN</td>\n",
              "      <td>2019</td>\n",
              "    </tr>\n",
              "    <tr>\n",
              "      <th>708944208</th>\n",
              "      <td>20</td>\n",
              "      <td>MANHATTAN</td>\n",
              "      <td>2019-12-24T00:00:00.000</td>\n",
              "      <td>14:45:00</td>\n",
              "      <td>COMPLETED</td>\n",
              "      <td>0.0</td>\n",
              "      <td>N.Y. POLICE DEPT</td>\n",
              "      <td>578</td>\n",
              "      <td>VIOLATION</td>\n",
              "      <td>HARRASSMENT 2</td>\n",
              "      <td>PATROL BORO MAN NORTH</td>\n",
              "      <td>638.0</td>\n",
              "      <td>HARASSMENT,SUBD 3,4,5</td>\n",
              "      <td>STREET</td>\n",
              "      <td>2019-12-24T00:00:00.000</td>\n",
              "      <td>NaN</td>\n",
              "      <td>NaN</td>\n",
              "      <td>NaN</td>\n",
              "      <td>45-64</td>\n",
              "      <td>WHITE</td>\n",
              "      <td>M</td>\n",
              "      <td>989197</td>\n",
              "      <td>222103</td>\n",
              "      <td>40.77630457400005</td>\n",
              "      <td>-73.98213988499998</td>\n",
              "      <td>{'latitude': '40.77630457400005', 'longitude':...</td>\n",
              "      <td>12420</td>\n",
              "      <td>20</td>\n",
              "      <td>4</td>\n",
              "      <td>19</td>\n",
              "      <td>12</td>\n",
              "      <td>NaN</td>\n",
              "      <td>NaN</td>\n",
              "      <td>NaN</td>\n",
              "      <td>NaN</td>\n",
              "      <td>NaN</td>\n",
              "      <td>NaN</td>\n",
              "      <td>NaN</td>\n",
              "      <td>NaN</td>\n",
              "      <td>2019</td>\n",
              "    </tr>\n",
              "    <tr>\n",
              "      <th>220063575</th>\n",
              "      <td>68</td>\n",
              "      <td>BROOKLYN</td>\n",
              "      <td>2019-12-22T00:00:00.000</td>\n",
              "      <td>22:10:00</td>\n",
              "      <td>COMPLETED</td>\n",
              "      <td>0.0</td>\n",
              "      <td>N.Y. POLICE DEPT</td>\n",
              "      <td>578</td>\n",
              "      <td>VIOLATION</td>\n",
              "      <td>HARRASSMENT 2</td>\n",
              "      <td>PATROL BORO BKLYN SOUTH</td>\n",
              "      <td>638.0</td>\n",
              "      <td>HARASSMENT,SUBD 3,4,5</td>\n",
              "      <td>RESIDENCE - APT. HOUSE</td>\n",
              "      <td>2019-12-22T00:00:00.000</td>\n",
              "      <td>45-64</td>\n",
              "      <td>BLACK</td>\n",
              "      <td>M</td>\n",
              "      <td>UNKNOWN</td>\n",
              "      <td>UNKNOWN</td>\n",
              "      <td>M</td>\n",
              "      <td>975432</td>\n",
              "      <td>167102</td>\n",
              "      <td>40.625336705000045</td>\n",
              "      <td>-74.03176756699997</td>\n",
              "      <td>{'latitude': '40.625336705000045', 'longitude'...</td>\n",
              "      <td>17216</td>\n",
              "      <td>10</td>\n",
              "      <td>2</td>\n",
              "      <td>44</td>\n",
              "      <td>41</td>\n",
              "      <td>NaN</td>\n",
              "      <td>NaN</td>\n",
              "      <td>INSIDE</td>\n",
              "      <td>NaN</td>\n",
              "      <td>NaN</td>\n",
              "      <td>NaN</td>\n",
              "      <td>NaN</td>\n",
              "      <td>NaN</td>\n",
              "      <td>2019</td>\n",
              "    </tr>\n",
              "  </tbody>\n",
              "</table>\n",
              "</div>"
            ],
            "text/plain": [
              "           addr_pct_cd    boro_nm  ... hadevelopt rpt_dt_yr\n",
              "cmplnt_num                         ...                     \n",
              "536304115           13  MANHATTAN  ...        NaN      2019\n",
              "355744896           46      BRONX  ...        NaN      2019\n",
              "271699374           41      BRONX  ...        NaN      2019\n",
              "708944208           20  MANHATTAN  ...        NaN      2019\n",
              "220063575           68   BROOKLYN  ...        NaN      2019\n",
              "\n",
              "[5 rows x 40 columns]"
            ]
          },
          "metadata": {
            "tags": []
          },
          "execution_count": 10
        }
      ]
    },
    {
      "cell_type": "code",
      "metadata": {
        "id": "byuZBYAoloG0",
        "colab_type": "code",
        "outputId": "a9d4ba55-64f6-4ab8-bddc-dcbea1e8de6d",
        "colab": {
          "base_uri": "https://localhost:8080/",
          "height": 799
        }
      },
      "source": [
        "#Breaking down complaint counts by victim age, race, and sex\n",
        "\n",
        "violations.groupby([\"vic_age_group\", \"vic_race\", \"vic_sex\"]).size()"
      ],
      "execution_count": 11,
      "outputs": [
        {
          "output_type": "execute_result",
          "data": {
            "text/plain": [
              "vic_age_group  vic_race                  vic_sex\n",
              "18-24          ASIAN / PACIFIC ISLANDER  F           1\n",
              "               BLACK                     F          10\n",
              "                                         M           1\n",
              "               UNKNOWN                   F           2\n",
              "                                         M           3\n",
              "               WHITE                     F           4\n",
              "                                         M           1\n",
              "               WHITE HISPANIC            F           1\n",
              "25-44          BLACK                     F          30\n",
              "                                         M          15\n",
              "               BLACK HISPANIC            F           1\n",
              "                                         M           1\n",
              "               UNKNOWN                   F           5\n",
              "                                         M           2\n",
              "               WHITE                     F           5\n",
              "                                         M           9\n",
              "               WHITE HISPANIC            F           5\n",
              "                                         M           6\n",
              "45-64          BLACK                     F          11\n",
              "                                         M          12\n",
              "               BLACK HISPANIC            F           2\n",
              "                                         M           1\n",
              "               UNKNOWN                   F           1\n",
              "                                         M           1\n",
              "               WHITE                     F           4\n",
              "                                         M           5\n",
              "               WHITE HISPANIC            F           6\n",
              "                                         M           3\n",
              "65+            BLACK                     F           3\n",
              "                                         M           2\n",
              "               WHITE                     F           1\n",
              "                                         M           5\n",
              "               WHITE HISPANIC            M           1\n",
              "<18            BLACK                     F           1\n",
              "                                         M           3\n",
              "               BLACK HISPANIC            M           1\n",
              "               WHITE                     F           3\n",
              "UNKNOWN        ASIAN / PACIFIC ISLANDER  F           1\n",
              "               BLACK                     M           1\n",
              "               UNKNOWN                   D           2\n",
              "                                         E           1\n",
              "                                         F           2\n",
              "                                         M           1\n",
              "               WHITE                     F           1\n",
              "dtype: int64"
            ]
          },
          "metadata": {
            "tags": []
          },
          "execution_count": 11
        }
      ]
    },
    {
      "cell_type": "code",
      "metadata": {
        "id": "puxoNFjGxELj",
        "colab_type": "code",
        "outputId": "66f4349c-9539-477e-c5d8-1a9f674b86de",
        "colab": {
          "base_uri": "https://localhost:8080/",
          "height": 782
        }
      },
      "source": [
        "#Breaking down complaint counts by suspect age, race, and sex\n",
        "\n",
        "violations_sus = violations.groupby([\"susp_age_group\", \"susp_race\", \"susp_sex\"]).size()\n",
        "violations_sus"
      ],
      "execution_count": 12,
      "outputs": [
        {
          "output_type": "execute_result",
          "data": {
            "text/plain": [
              "susp_age_group  susp_race       susp_sex\n",
              "18-24           BLACK           F            4\n",
              "                                M            4\n",
              "                                U            1\n",
              "                UNKNOWN         M            1\n",
              "                WHITE HISPANIC  M            2\n",
              "25-44           BLACK           F           11\n",
              "                                M           20\n",
              "                                U            1\n",
              "                BLACK HISPANIC  F            1\n",
              "                                M            2\n",
              "                UNKNOWN         M            6\n",
              "                WHITE           F            3\n",
              "                                M            5\n",
              "                                U            1\n",
              "                WHITE HISPANIC  M            3\n",
              "45-64           BLACK           F            2\n",
              "                                M            4\n",
              "                BLACK HISPANIC  M            1\n",
              "                UNKNOWN         F            1\n",
              "                                M            1\n",
              "                WHITE           F            1\n",
              "                                M            4\n",
              "                                U            1\n",
              "                WHITE HISPANIC  M            2\n",
              "65+             BLACK           F            1\n",
              "                WHITE           F            1\n",
              "                                M            1\n",
              "                WHITE HISPANIC  M            1\n",
              "<18             BLACK           F            1\n",
              "                                M            2\n",
              "                BLACK HISPANIC  F            1\n",
              "                UNKNOWN         U            1\n",
              "                WHITE           F            1\n",
              "UNKNOWN         BLACK           F            3\n",
              "                                M           14\n",
              "                BLACK HISPANIC  F            1\n",
              "                UNKNOWN         F            5\n",
              "                                M            7\n",
              "                                U           17\n",
              "                WHITE           F            1\n",
              "                                M            3\n",
              "                WHITE HISPANIC  M            1\n",
              "                                U            2\n",
              "dtype: int64"
            ]
          },
          "metadata": {
            "tags": []
          },
          "execution_count": 12
        }
      ]
    },
    {
      "cell_type": "markdown",
      "metadata": {
        "id": "s2mtC0ZcHuXI",
        "colab_type": "text"
      },
      "source": [
        "# Visualize Suspects by Age: determine additional insights"
      ]
    },
    {
      "cell_type": "code",
      "metadata": {
        "id": "m0ZgyWjEzKTt",
        "colab_type": "code",
        "colab": {}
      },
      "source": [
        "import seaborn as sns"
      ],
      "execution_count": 0,
      "outputs": []
    },
    {
      "cell_type": "code",
      "metadata": {
        "id": "iLBRkYBdGQR3",
        "colab_type": "code",
        "outputId": "9cefeb4d-6ea6-4676-84ea-6d0f7f559e76",
        "colab": {
          "base_uri": "https://localhost:8080/",
          "height": 547
        }
      },
      "source": [
        "# Graph count plot by suspect age\n",
        "\n",
        "susp_age = violations[\"susp_age_group\"]\n",
        "print(susp_age)\n",
        "\n",
        "violations[\"susp_age_group\"].value_counts().plot(kind='bar')"
      ],
      "execution_count": 14,
      "outputs": [
        {
          "output_type": "stream",
          "text": [
            "cmplnt_num\n",
            "536304115        65+\n",
            "355744896    UNKNOWN\n",
            "271699374        65+\n",
            "708944208        NaN\n",
            "220063575      45-64\n",
            "              ...   \n",
            "764178590        NaN\n",
            "911964758    UNKNOWN\n",
            "499472710      25-44\n",
            "669659878      25-44\n",
            "566709190    UNKNOWN\n",
            "Name: susp_age_group, Length: 177, dtype: object\n"
          ],
          "name": "stdout"
        },
        {
          "output_type": "execute_result",
          "data": {
            "text/plain": [
              "<matplotlib.axes._subplots.AxesSubplot at 0x7f21f974fac8>"
            ]
          },
          "metadata": {
            "tags": []
          },
          "execution_count": 14
        },
        {
          "output_type": "display_data",
          "data": {
            "image/png": "[encoded data removed]",
            "text/plain": [
              "<Figure size 432x288 with 1 Axes>"
            ]
          },
          "metadata": {
            "tags": [],
            "needs_background": "light"
          }
        }
      ]
    },
    {
      "cell_type": "code",
      "metadata": {
        "id": "Mp2ZoktUVP80",
        "colab_type": "code",
        "outputId": "aefbb30c-2e51-4f11-97a0-a0c98bbc2275",
        "colab": {
          "base_uri": "https://localhost:8080/",
          "height": 547
        }
      },
      "source": [
        "# Graph count plot by victim age\n",
        "\n",
        "vic_age = violations[\"vic_age_group\"]\n",
        "print(vic_age)\n",
        "\n",
        "violations[\"vic_age_group\"].value_counts().plot(kind='bar')"
      ],
      "execution_count": 15,
      "outputs": [
        {
          "output_type": "stream",
          "text": [
            "cmplnt_num\n",
            "536304115      18-24\n",
            "355744896      25-44\n",
            "271699374      45-64\n",
            "708944208      45-64\n",
            "220063575    UNKNOWN\n",
            "              ...   \n",
            "764178590      45-64\n",
            "911964758      25-44\n",
            "499472710      45-64\n",
            "669659878      25-44\n",
            "566709190      25-44\n",
            "Name: vic_age_group, Length: 177, dtype: object\n"
          ],
          "name": "stdout"
        },
        {
          "output_type": "execute_result",
          "data": {
            "text/plain": [
              "<matplotlib.axes._subplots.AxesSubplot at 0x7f222551aeb8>"
            ]
          },
          "metadata": {
            "tags": []
          },
          "execution_count": 15
        },
        {
          "output_type": "display_data",
          "data": {
            "image/png": "[encoded data removed]",
            "text/plain": [
              "<Figure size 432x288 with 1 Axes>"
            ]
          },
          "metadata": {
            "tags": [],
            "needs_background": "light"
          }
        }
      ]
    },
    {
      "cell_type": "code",
      "metadata": {
        "id": "Sz85fEynXGZB",
        "colab_type": "code",
        "outputId": "0ef73c25-4726-4061-e2cc-2e2f75032cb6",
        "colab": {
          "base_uri": "https://localhost:8080/",
          "height": 406
        }
      },
      "source": [
        "# Plot counts by type of description of internal classification corresponding \n",
        "# with PD code (more granular than Offense Description), updated figure size to \n",
        "# allow better readability of x axis labels\n",
        "\n",
        "fig_dims = (10, 6)\n",
        "fig, ax = plt.subplots(figsize=fig_dims)\n",
        "sns.countplot(x='pd_desc', ax = ax, data=violations)"
      ],
      "execution_count": 16,
      "outputs": [
        {
          "output_type": "execute_result",
          "data": {
            "text/plain": [
              "<matplotlib.axes._subplots.AxesSubplot at 0x7f21f96e8da0>"
            ]
          },
          "metadata": {
            "tags": []
          },
          "execution_count": 16
        },
        {
          "output_type": "display_data",
          "data": {
            "image/png": "[encoded data removed]",
            "text/plain": [
              "<Figure size 720x432 with 1 Axes>"
            ]
          },
          "metadata": {
            "tags": [],
            "needs_background": "light"
          }
        }
      ]
    },
    {
      "cell_type": "code",
      "metadata": {
        "id": "B9TqKrtTXGVg",
        "colab_type": "code",
        "outputId": "0f5c4fdd-969b-434a-a70c-b3f4c45eff1a",
        "colab": {
          "base_uri": "https://localhost:8080/",
          "height": 406
        }
      },
      "source": [
        "# Plot counts by Borough in which they occurred, updated figure size to allow better readability of x axis labels\n",
        "\n",
        "fig_dims = (10, 6)\n",
        "fig, ax = plt.subplots(figsize=fig_dims)\n",
        "sns.countplot(x='boro_nm', ax = ax, data=violations)"
      ],
      "execution_count": 17,
      "outputs": [
        {
          "output_type": "execute_result",
          "data": {
            "text/plain": [
              "<matplotlib.axes._subplots.AxesSubplot at 0x7f21f9216b00>"
            ]
          },
          "metadata": {
            "tags": []
          },
          "execution_count": 17
        },
        {
          "output_type": "display_data",
          "data": {
            "image/png": "[encoded data removed]",
            "text/plain": [
              "<Figure size 720x432 with 1 Axes>"
            ]
          },
          "metadata": {
            "tags": [],
            "needs_background": "light"
          }
        }
      ]
    },
    {
      "cell_type": "code",
      "metadata": {
        "id": "H7nqIOmEXvGM",
        "colab_type": "code",
        "outputId": "737a48e1-7fb6-472b-ed5d-3947c99e3faa",
        "colab": {
          "base_uri": "https://localhost:8080/",
          "height": 406
        }
      },
      "source": [
        "# Plot counts by location in which they occurred, updated figure size to allow better readability of x axis labels\n",
        "\n",
        "fig_dims = (25, 6)\n",
        "fig, ax = plt.subplots(figsize=fig_dims)\n",
        "sns.countplot(x='prem_typ_desc', ax = ax, data=violations)"
      ],
      "execution_count": 18,
      "outputs": [
        {
          "output_type": "execute_result",
          "data": {
            "text/plain": [
              "<matplotlib.axes._subplots.AxesSubplot at 0x7f21f90b2080>"
            ]
          },
          "metadata": {
            "tags": []
          },
          "execution_count": 18
        },
        {
          "output_type": "display_data",
          "data": {
            "image/png": "[encoded data removed]",
            "text/plain": [
              "<Figure size 1800x432 with 1 Axes>"
            ]
          },
          "metadata": {
            "tags": [],
            "needs_background": "light"
          }
        }
      ]
    },
    {
      "cell_type": "code",
      "metadata": {
        "id": "tj0o7YkAYBm7",
        "colab_type": "code",
        "outputId": "839504f4-1201-4fb6-988f-658242e15878",
        "colab": {
          "base_uri": "https://localhost:8080/",
          "height": 406
        }
      },
      "source": [
        "# Are there gender differences in victim sex across borough?\n",
        "\n",
        "# Yes, there is a much wider gap between women and men reporting complaints in the Bronx than in other Boroughs.\n",
        "\n",
        "fig_dims = (10, 6)\n",
        "fig, ax = plt.subplots(figsize=fig_dims)\n",
        "\n",
        "sns.countplot(x='boro_nm', hue = 'vic_sex', data=violations)"
      ],
      "execution_count": 19,
      "outputs": [
        {
          "output_type": "execute_result",
          "data": {
            "text/plain": [
              "<matplotlib.axes._subplots.AxesSubplot at 0x7f21f90d5be0>"
            ]
          },
          "metadata": {
            "tags": []
          },
          "execution_count": 19
        },
        {
          "output_type": "display_data",
          "data": {
            "image/png": "[encoded data removed]",
            "text/plain": [
              "<Figure size 720x432 with 1 Axes>"
            ]
          },
          "metadata": {
            "tags": [],
            "needs_background": "light"
          }
        }
      ]
    },
    {
      "cell_type": "markdown",
      "metadata": {
        "id": "KXgEijcCzKpF",
        "colab_type": "text"
      },
      "source": [
        "# For another day: Mapping Complaints"
      ]
    },
    {
      "cell_type": "code",
      "metadata": {
        "id": "QTM1avT5xEc2",
        "colab_type": "code",
        "colab": {
          "base_uri": "https://localhost:8080/",
          "height": 544
        },
        "outputId": "d54981fc-dd2b-417a-f112-308ca6e20087"
      },
      "source": [
        "import descartes\n",
        "!pip install geopandas\n",
        "from shapely.geometry import Point \n",
        "!pip install cartopy\n",
        "%matplotlib inline"
      ],
      "execution_count": 20,
      "outputs": [
        {
          "output_type": "stream",
          "text": [
            "Collecting geopandas\n",
            "\u001b[?25l  Downloading https://files.pythonhosted.org/packages/83/c5/3cf9cdc39a6f2552922f79915f36b45a95b71fd343cfc51170a5b6ddb6e8/geopandas-0.7.0-py2.py3-none-any.whl (928kB)\n",
            "\u001b[K     |████████████████████████████████| 931kB 3.3MB/s \n",
            "\u001b[?25hRequirement already satisfied: pandas>=0.23.0 in /usr/local/lib/python3.6/dist-packages (from geopandas) (1.0.3)\n",
            "Collecting fiona\n",
            "\u001b[?25l  Downloading https://files.pythonhosted.org/packages/ec/20/4e63bc5c6e62df889297b382c3ccd4a7a488b00946aaaf81a118158c6f09/Fiona-1.8.13.post1-cp36-cp36m-manylinux1_x86_64.whl (14.7MB)\n",
            "\u001b[K     |████████████████████████████████| 14.7MB 272kB/s \n",
            "\u001b[?25hCollecting pyproj>=2.2.0\n",
            "\u001b[?25l  Downloading https://files.pythonhosted.org/packages/ce/37/705ee471f71130d4ceee41bbcb06f3b52175cb89273cbb5755ed5e6374e0/pyproj-2.6.0-cp36-cp36m-manylinux2010_x86_64.whl (10.4MB)\n",
            "\u001b[K     |████████████████████████████████| 10.4MB 46.7MB/s \n",
            "\u001b[?25hRequirement already satisfied: shapely in /usr/local/lib/python3.6/dist-packages (from geopandas) (1.7.0)\n",
            "Requirement already satisfied: pytz>=2017.2 in /usr/local/lib/python3.6/dist-packages (from pandas>=0.23.0->geopandas) (2018.9)\n",
            "Requirement already satisfied: python-dateutil>=2.6.1 in /usr/local/lib/python3.6/dist-packages (from pandas>=0.23.0->geopandas) (2.8.1)\n",
            "Requirement already satisfied: numpy>=1.13.3 in /usr/local/lib/python3.6/dist-packages (from pandas>=0.23.0->geopandas) (1.18.3)\n",
            "Collecting cligj>=0.5\n",
            "  Downloading https://files.pythonhosted.org/packages/e4/be/30a58b4b0733850280d01f8bd132591b4668ed5c7046761098d665ac2174/cligj-0.5.0-py3-none-any.whl\n",
            "Collecting click-plugins>=1.0\n",
            "  Downloading https://files.pythonhosted.org/packages/e9/da/824b92d9942f4e472702488857914bdd50f73021efea15b4cad9aca8ecef/click_plugins-1.1.1-py2.py3-none-any.whl\n",
            "Collecting munch\n",
            "  Downloading https://files.pythonhosted.org/packages/cc/ab/85d8da5c9a45e072301beb37ad7f833cd344e04c817d97e0cc75681d248f/munch-2.5.0-py2.py3-none-any.whl\n",
            "Requirement already satisfied: click<8,>=4.0 in /usr/local/lib/python3.6/dist-packages (from fiona->geopandas) (7.1.1)\n",
            "Requirement already satisfied: six>=1.7 in /usr/local/lib/python3.6/dist-packages (from fiona->geopandas) (1.12.0)\n",
            "Requirement already satisfied: attrs>=17 in /usr/local/lib/python3.6/dist-packages (from fiona->geopandas) (19.3.0)\n",
            "Installing collected packages: cligj, click-plugins, munch, fiona, pyproj, geopandas\n",
            "Successfully installed click-plugins-1.1.1 cligj-0.5.0 fiona-1.8.13.post1 geopandas-0.7.0 munch-2.5.0 pyproj-2.6.0\n",
            "Collecting cartopy\n",
            "\u001b[?25l  Downloading https://files.pythonhosted.org/packages/e5/92/fe8838fa8158931906dfc4f16c5c1436b3dd2daf83592645b179581403ad/Cartopy-0.17.0.tar.gz (8.9MB)\n",
            "\u001b[K     |████████████████████████████████| 8.9MB 3.4MB/s \n",
            "\u001b[?25h  Installing build dependencies ... \u001b[?25l\u001b[?25hdone\n",
            "  Getting requirements to build wheel ... \u001b[?25l\u001b[?25herror\n",
            "\u001b[31mERROR: Command errored out with exit status 1: /usr/bin/python3 /usr/local/lib/python3.6/dist-packages/pip/_vendor/pep517/_in_process.py get_requires_for_build_wheel /tmp/tmpk86n5aw5 Check the logs for full command output.\u001b[0m\n"
          ],
          "name": "stdout"
        }
      ]
    },
    {
      "cell_type": "code",
      "metadata": {
        "id": "O8mYuouB4vA6",
        "colab_type": "code",
        "colab": {
          "base_uri": "https://localhost:8080/",
          "height": 85
        },
        "outputId": "a1bf71ac-45dc-4e94-ebb9-c9828c262e38"
      },
      "source": [
        "# Setting Bounding Box for XY Coords\n",
        "BBox = (violations.longitude.min(), violations.longitude.max(), violations.latitude.min(), violations.latitude.max())\n",
        "BBox"
      ],
      "execution_count": 21,
      "outputs": [
        {
          "output_type": "execute_result",
          "data": {
            "text/plain": [
              "('-73.73150635799993',\n",
              " '-74.23410772899997',\n",
              " '40.51728641000005',\n",
              " '40.899666704000026')"
            ]
          },
          "metadata": {
            "tags": []
          },
          "execution_count": 21
        }
      ]
    },
    {
      "cell_type": "code",
      "metadata": {
        "id": "2IVbVBzl4vMH",
        "colab_type": "code",
        "colab": {}
      },
      "source": [
        "# Sadly the image from BBox was too large to download from open street map.\n",
        "# Tried another method below that also resulted in difficulty.\n",
        "\n",
        "# import cartopy.crs as ccrs\n",
        "\n",
        "# ax = plt.axes(projection=ccrs.PlateCarree())\n",
        "# ax.coastlines()\n",
        "\n",
        "# plt.show()"
      ],
      "execution_count": 0,
      "outputs": []
    },
    {
      "cell_type": "code",
      "metadata": {
        "id": "n9ECXz0UK7ON",
        "colab_type": "code",
        "colab": {}
      },
      "source": [
        "# Plot complaints\n",
        "\n",
        "# fig, ax = plt.subplots(figsize = (8,7))\n",
        "# ax.scatter(violations.longitude, violations.latitude, zorder=1, alpha= 0.2, c='b', s=10)\n",
        "# ax.set_title('Complaints in NYC')\n",
        "# ax.set_xlim(BBox[0],BBox[1])\n",
        "# ax.set_ylim(BBox[2],BBox[3])\n",
        "# ax.imshow(ruh_m, zorder=0, extent = BBox, aspect= 'equal')"
      ],
      "execution_count": 0,
      "outputs": []
    }
  ]
}
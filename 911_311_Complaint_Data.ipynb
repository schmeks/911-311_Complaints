{
  "nbformat": 4,
  "nbformat_minor": 0,
  "metadata": {
    "colab": {
      "name": "911-311 Complaint Data",
      "provenance": [],
      "include_colab_link": true
    },
    "kernelspec": {
      "name": "python3",
      "display_name": "Python 3"
    }
  },
  "cells": [
    {
      "cell_type": "markdown",
      "metadata": {
        "id": "view-in-github",
        "colab_type": "text"
      },
      "source": [
        "<a href=\"https://colab.research.google.com/github/schmeks/911-311_Complaints/blob/master/911_311_Complaint_Data.ipynb\" target=\"_parent\"><img src=\"https://colab.research.google.com/assets/colab-badge.svg\" alt=\"Open In Colab\"/></a>"
      ]
    },
    {
      "cell_type": "markdown",
      "metadata": {
        "id": "nwuHnE_0bjUL",
        "colab_type": "text"
      },
      "source": [
        "# **Python 225 Final Project**\n",
        "Becca Mason\n",
        "\n",
        "This collab notebook takes NYPD Historic Complaint Data and Explores the content with preliminary analyses."
      ]
    },
    {
      "cell_type": "markdown",
      "metadata": {
        "id": "RAhFXmjqCCkv",
        "colab_type": "text"
      },
      "source": [
        "Data Pull"
      ]
    },
    {
      "cell_type": "markdown",
      "metadata": {
        "id": "CBlUku7kgKUQ",
        "colab_type": "text"
      },
      "source": [
        "First, pull complaint data from NYC Open Data via Socrata API and filter down to Violations only"
      ]
    },
    {
      "cell_type": "code",
      "metadata": {
        "id": "jXND6mo2bixT",
        "colab_type": "code",
        "outputId": "762f3fb8-1a6d-40db-dde2-e7199acbf9f4",
        "colab": {
          "base_uri": "https://localhost:8080/",
          "height": 119
        }
      },
      "source": [
        "# https://data.cityofnewyork.us/resource/qgea-i56i.json\n",
        "!pip install sodapy\n",
        "\n",
        "import pandas as pd\n",
        "from sodapy import Socrata\n",
        "import numpy as np\n",
        "from scipy import stats\n",
        "import matplotlib.pyplot as plt\n",
        "%matplotlib inline\n",
        "import seaborn as sns"
      ],
      "execution_count": 43,
      "outputs": [
        {
          "output_type": "stream",
          "text": [
            "Requirement already satisfied: sodapy in /usr/local/lib/python3.6/dist-packages (2.1.0)\n",
            "Requirement already satisfied: requests>=2.20.0 in /usr/local/lib/python3.6/dist-packages (from sodapy) (2.21.0)\n",
            "Requirement already satisfied: certifi>=2017.4.17 in /usr/local/lib/python3.6/dist-packages (from requests>=2.20.0->sodapy) (2020.4.5.1)\n",
            "Requirement already satisfied: chardet<3.1.0,>=3.0.2 in /usr/local/lib/python3.6/dist-packages (from requests>=2.20.0->sodapy) (3.0.4)\n",
            "Requirement already satisfied: urllib3<1.25,>=1.21.1 in /usr/local/lib/python3.6/dist-packages (from requests>=2.20.0->sodapy) (1.24.3)\n",
            "Requirement already satisfied: idna<2.9,>=2.5 in /usr/local/lib/python3.6/dist-packages (from requests>=2.20.0->sodapy) (2.8)\n"
          ],
          "name": "stdout"
        }
      ]
    },
    {
      "cell_type": "code",
      "metadata": {
        "id": "z_rBT4eybi1T",
        "colab_type": "code",
        "outputId": "acbce634-77e2-44a5-d695-eaed4cb17be7",
        "colab": {
          "base_uri": "https://localhost:8080/",
          "height": 34
        }
      },
      "source": [
        "# Unauthenticated client only works with public data sets. Note 'None'\n",
        "# in place of application token, and no username or password:\n",
        "client = Socrata(\"data.cityofnewyork.us\", None)"
      ],
      "execution_count": 44,
      "outputs": [
        {
          "output_type": "stream",
          "text": [
            "WARNING:root:Requests made without an app_token will be subject to strict throttling limits.\n"
          ],
          "name": "stderr"
        }
      ]
    },
    {
      "cell_type": "code",
      "metadata": {
        "id": "bQ2QDs1Ibi3z",
        "colab_type": "code",
        "colab": {}
      },
      "source": [
        "# First 100k results, returned as JSON from API / converted to Python list of\n",
        "# dictionaries by sodapy.\n",
        "results = client.get(\"qgea-i56i\")\n",
        "\n",
        "# Convert to pandas DataFrame\n",
        "results_df = pd.DataFrame.from_records(results)"
      ],
      "execution_count": 0,
      "outputs": []
    },
    {
      "cell_type": "markdown",
      "metadata": {
        "id": "GUzk9uKcCOsb",
        "colab_type": "text"
      },
      "source": [
        "Data Manipulation"
      ]
    },
    {
      "cell_type": "code",
      "metadata": {
        "id": "le8_W6fDs2ve",
        "colab_type": "code",
        "outputId": "6c62252a-099d-49ca-a059-d82b138b2fde",
        "colab": {
          "base_uri": "https://localhost:8080/",
          "height": 510
        }
      },
      "source": [
        "# Create a copy and make cmplnt_num the index\n",
        "complaints_df = results_df.copy()\n",
        "complaints_df.set_index('cmplnt_num', inplace = True)\n",
        "\n",
        "complaints_df.head()"
      ],
      "execution_count": 46,
      "outputs": [
        {
          "output_type": "execute_result",
          "data": {
            "text/html": [
              "<div>\n",
              "<style scoped>\n",
              "    .dataframe tbody tr th:only-of-type {\n",
              "        vertical-align: middle;\n",
              "    }\n",
              "\n",
              "    .dataframe tbody tr th {\n",
              "        vertical-align: top;\n",
              "    }\n",
              "\n",
              "    .dataframe thead th {\n",
              "        text-align: right;\n",
              "    }\n",
              "</style>\n",
              "<table border=\"1\" class=\"dataframe\">\n",
              "  <thead>\n",
              "    <tr style=\"text-align: right;\">\n",
              "      <th></th>\n",
              "      <th>cmplnt_fr_dt</th>\n",
              "      <th>cmplnt_fr_tm</th>\n",
              "      <th>addr_pct_cd</th>\n",
              "      <th>rpt_dt</th>\n",
              "      <th>ky_cd</th>\n",
              "      <th>ofns_desc</th>\n",
              "      <th>pd_cd</th>\n",
              "      <th>pd_desc</th>\n",
              "      <th>crm_atpt_cptd_cd</th>\n",
              "      <th>law_cat_cd</th>\n",
              "      <th>boro_nm</th>\n",
              "      <th>prem_typ_desc</th>\n",
              "      <th>juris_desc</th>\n",
              "      <th>jurisdiction_code</th>\n",
              "      <th>parks_nm</th>\n",
              "      <th>housing_psa</th>\n",
              "      <th>x_coord_cd</th>\n",
              "      <th>y_coord_cd</th>\n",
              "      <th>latitude</th>\n",
              "      <th>longitude</th>\n",
              "      <th>lat_lon</th>\n",
              "      <th>patrol_boro</th>\n",
              "      <th>vic_age_group</th>\n",
              "      <th>vic_race</th>\n",
              "      <th>vic_sex</th>\n",
              "      <th>:@computed_region_efsh_h5xi</th>\n",
              "      <th>:@computed_region_f5dn_yrer</th>\n",
              "      <th>:@computed_region_yeji_bk3q</th>\n",
              "      <th>:@computed_region_92fq_4b7q</th>\n",
              "      <th>:@computed_region_sbqj_enih</th>\n",
              "      <th>cmplnt_to_dt</th>\n",
              "      <th>cmplnt_to_tm</th>\n",
              "      <th>loc_of_occur_desc</th>\n",
              "      <th>susp_race</th>\n",
              "      <th>susp_sex</th>\n",
              "      <th>susp_age_group</th>\n",
              "      <th>transit_district</th>\n",
              "      <th>station_name</th>\n",
              "      <th>hadevelopt</th>\n",
              "    </tr>\n",
              "    <tr>\n",
              "      <th>cmplnt_num</th>\n",
              "      <th></th>\n",
              "      <th></th>\n",
              "      <th></th>\n",
              "      <th></th>\n",
              "      <th></th>\n",
              "      <th></th>\n",
              "      <th></th>\n",
              "      <th></th>\n",
              "      <th></th>\n",
              "      <th></th>\n",
              "      <th></th>\n",
              "      <th></th>\n",
              "      <th></th>\n",
              "      <th></th>\n",
              "      <th></th>\n",
              "      <th></th>\n",
              "      <th></th>\n",
              "      <th></th>\n",
              "      <th></th>\n",
              "      <th></th>\n",
              "      <th></th>\n",
              "      <th></th>\n",
              "      <th></th>\n",
              "      <th></th>\n",
              "      <th></th>\n",
              "      <th></th>\n",
              "      <th></th>\n",
              "      <th></th>\n",
              "      <th></th>\n",
              "      <th></th>\n",
              "      <th></th>\n",
              "      <th></th>\n",
              "      <th></th>\n",
              "      <th></th>\n",
              "      <th></th>\n",
              "      <th></th>\n",
              "      <th></th>\n",
              "      <th></th>\n",
              "      <th></th>\n",
              "    </tr>\n",
              "  </thead>\n",
              "  <tbody>\n",
              "    <tr>\n",
              "      <th>876525802</th>\n",
              "      <td>2008-04-10T00:00:00.000</td>\n",
              "      <td>19:10:00</td>\n",
              "      <td>73</td>\n",
              "      <td>2008-04-10T00:00:00.000</td>\n",
              "      <td>341</td>\n",
              "      <td>PETIT LARCENY</td>\n",
              "      <td>321</td>\n",
              "      <td>LARCENY,PETIT FROM AUTO</td>\n",
              "      <td>COMPLETED</td>\n",
              "      <td>MISDEMEANOR</td>\n",
              "      <td>BROOKLYN</td>\n",
              "      <td>STREET</td>\n",
              "      <td>N.Y. POLICE DEPT</td>\n",
              "      <td>0</td>\n",
              "      <td>NA</td>\n",
              "      <td>NA</td>\n",
              "      <td>1008495</td>\n",
              "      <td>183171</td>\n",
              "      <td>40.669413836</td>\n",
              "      <td>-73.91260308</td>\n",
              "      <td>{'latitude': '40.669413836', 'longitude': '-73...</td>\n",
              "      <td>PATROL BORO BKLYN NORTH</td>\n",
              "      <td>18-24</td>\n",
              "      <td>BLACK</td>\n",
              "      <td>M</td>\n",
              "      <td>17614</td>\n",
              "      <td>55</td>\n",
              "      <td>2</td>\n",
              "      <td>17</td>\n",
              "      <td>46</td>\n",
              "      <td>NaN</td>\n",
              "      <td>NaN</td>\n",
              "      <td>NaN</td>\n",
              "      <td>NaN</td>\n",
              "      <td>NaN</td>\n",
              "      <td>NaN</td>\n",
              "      <td>NaN</td>\n",
              "      <td>NaN</td>\n",
              "      <td>NaN</td>\n",
              "    </tr>\n",
              "    <tr>\n",
              "      <th>402693528</th>\n",
              "      <td>2007-06-03T00:00:00.000</td>\n",
              "      <td>15:23:00</td>\n",
              "      <td>28</td>\n",
              "      <td>2007-06-03T00:00:00.000</td>\n",
              "      <td>236</td>\n",
              "      <td>DANGEROUS WEAPONS</td>\n",
              "      <td>782</td>\n",
              "      <td>WEAPONS, POSSESSION, ETC</td>\n",
              "      <td>COMPLETED</td>\n",
              "      <td>MISDEMEANOR</td>\n",
              "      <td>MANHATTAN</td>\n",
              "      <td>STREET</td>\n",
              "      <td>N.Y. POLICE DEPT</td>\n",
              "      <td>0</td>\n",
              "      <td>NA</td>\n",
              "      <td>NA</td>\n",
              "      <td>999336</td>\n",
              "      <td>231461</td>\n",
              "      <td>40.801978284</td>\n",
              "      <td>-73.945511151</td>\n",
              "      <td>{'latitude': '40.801978284', 'longitude': '-73...</td>\n",
              "      <td>PATROL BORO MAN NORTH</td>\n",
              "      <td>NaN</td>\n",
              "      <td>UNKNOWN</td>\n",
              "      <td>E</td>\n",
              "      <td>13093</td>\n",
              "      <td>18</td>\n",
              "      <td>4</td>\n",
              "      <td>36</td>\n",
              "      <td>18</td>\n",
              "      <td>NaN</td>\n",
              "      <td>NaN</td>\n",
              "      <td>NaN</td>\n",
              "      <td>NaN</td>\n",
              "      <td>NaN</td>\n",
              "      <td>NaN</td>\n",
              "      <td>NaN</td>\n",
              "      <td>NaN</td>\n",
              "      <td>NaN</td>\n",
              "    </tr>\n",
              "    <tr>\n",
              "      <th>832030069</th>\n",
              "      <td>2010-02-16T00:00:00.000</td>\n",
              "      <td>20:50:00</td>\n",
              "      <td>102</td>\n",
              "      <td>2010-02-16T00:00:00.000</td>\n",
              "      <td>105</td>\n",
              "      <td>ROBBERY</td>\n",
              "      <td>375</td>\n",
              "      <td>ROBBERY,PHARMACY</td>\n",
              "      <td>COMPLETED</td>\n",
              "      <td>FELONY</td>\n",
              "      <td>QUEENS</td>\n",
              "      <td>GROCERY/BODEGA</td>\n",
              "      <td>N.Y. POLICE DEPT</td>\n",
              "      <td>0</td>\n",
              "      <td>NA</td>\n",
              "      <td>NA</td>\n",
              "      <td>1031117</td>\n",
              "      <td>194344</td>\n",
              "      <td>40.699990268</td>\n",
              "      <td>-73.830977746</td>\n",
              "      <td>{'latitude': '40.699990268', 'longitude': '-73...</td>\n",
              "      <td>PATROL BORO QUEENS SOUTH</td>\n",
              "      <td>NaN</td>\n",
              "      <td>UNKNOWN</td>\n",
              "      <td>D</td>\n",
              "      <td>24014</td>\n",
              "      <td>46</td>\n",
              "      <td>3</td>\n",
              "      <td>28</td>\n",
              "      <td>60</td>\n",
              "      <td>2010-02-16T00:00:00.000</td>\n",
              "      <td>20:50:00</td>\n",
              "      <td>INSIDE</td>\n",
              "      <td>NaN</td>\n",
              "      <td>NaN</td>\n",
              "      <td>NaN</td>\n",
              "      <td>NaN</td>\n",
              "      <td>NaN</td>\n",
              "      <td>NaN</td>\n",
              "    </tr>\n",
              "    <tr>\n",
              "      <th>538308771</th>\n",
              "      <td>2009-11-10T00:00:00.000</td>\n",
              "      <td>16:35:00</td>\n",
              "      <td>79</td>\n",
              "      <td>2009-11-10T00:00:00.000</td>\n",
              "      <td>341</td>\n",
              "      <td>PETIT LARCENY</td>\n",
              "      <td>333</td>\n",
              "      <td>LARCENY,PETIT FROM STORE-SHOPL</td>\n",
              "      <td>COMPLETED</td>\n",
              "      <td>MISDEMEANOR</td>\n",
              "      <td>BROOKLYN</td>\n",
              "      <td>FOOD SUPERMARKET</td>\n",
              "      <td>N.Y. POLICE DEPT</td>\n",
              "      <td>0</td>\n",
              "      <td>NA</td>\n",
              "      <td>NA</td>\n",
              "      <td>996722</td>\n",
              "      <td>187385</td>\n",
              "      <td>40.681004729</td>\n",
              "      <td>-73.955034577</td>\n",
              "      <td>{'latitude': '40.681004729', 'longitude': '-73...</td>\n",
              "      <td>PATROL BORO BKLYN NORTH</td>\n",
              "      <td>NaN</td>\n",
              "      <td>UNKNOWN</td>\n",
              "      <td>D</td>\n",
              "      <td>17618</td>\n",
              "      <td>69</td>\n",
              "      <td>2</td>\n",
              "      <td>49</td>\n",
              "      <td>51</td>\n",
              "      <td>2009-11-10T00:00:00.000</td>\n",
              "      <td>16:45:00</td>\n",
              "      <td>INSIDE</td>\n",
              "      <td>NaN</td>\n",
              "      <td>NaN</td>\n",
              "      <td>NaN</td>\n",
              "      <td>NaN</td>\n",
              "      <td>NaN</td>\n",
              "      <td>NaN</td>\n",
              "    </tr>\n",
              "    <tr>\n",
              "      <th>965693192</th>\n",
              "      <td>2006-04-11T00:00:00.000</td>\n",
              "      <td>09:30:00</td>\n",
              "      <td>123</td>\n",
              "      <td>2006-04-25T00:00:00.000</td>\n",
              "      <td>112</td>\n",
              "      <td>THEFT-FRAUD</td>\n",
              "      <td>739</td>\n",
              "      <td>FRAUD,UNCLASSIFIED-FELONY</td>\n",
              "      <td>COMPLETED</td>\n",
              "      <td>FELONY</td>\n",
              "      <td>STATEN ISLAND</td>\n",
              "      <td>COMMERCIAL BUILDING</td>\n",
              "      <td>N.Y. POLICE DEPT</td>\n",
              "      <td>0</td>\n",
              "      <td>NA</td>\n",
              "      <td>NA</td>\n",
              "      <td>NaN</td>\n",
              "      <td>NaN</td>\n",
              "      <td>NaN</td>\n",
              "      <td>NaN</td>\n",
              "      <td>NaN</td>\n",
              "      <td>PATROL BORO STATEN ISLAND</td>\n",
              "      <td>25-44</td>\n",
              "      <td>WHITE</td>\n",
              "      <td>M</td>\n",
              "      <td>NaN</td>\n",
              "      <td>NaN</td>\n",
              "      <td>NaN</td>\n",
              "      <td>NaN</td>\n",
              "      <td>NaN</td>\n",
              "      <td>2006-04-11T00:00:00.000</td>\n",
              "      <td>10:00:00</td>\n",
              "      <td>NaN</td>\n",
              "      <td>NaN</td>\n",
              "      <td>NaN</td>\n",
              "      <td>NaN</td>\n",
              "      <td>NaN</td>\n",
              "      <td>NaN</td>\n",
              "      <td>NaN</td>\n",
              "    </tr>\n",
              "  </tbody>\n",
              "</table>\n",
              "</div>"
            ],
            "text/plain": [
              "                       cmplnt_fr_dt cmplnt_fr_tm  ... station_name hadevelopt\n",
              "cmplnt_num                                        ...                        \n",
              "876525802   2008-04-10T00:00:00.000     19:10:00  ...          NaN        NaN\n",
              "402693528   2007-06-03T00:00:00.000     15:23:00  ...          NaN        NaN\n",
              "832030069   2010-02-16T00:00:00.000     20:50:00  ...          NaN        NaN\n",
              "538308771   2009-11-10T00:00:00.000     16:35:00  ...          NaN        NaN\n",
              "965693192   2006-04-11T00:00:00.000     09:30:00  ...          NaN        NaN\n",
              "\n",
              "[5 rows x 39 columns]"
            ]
          },
          "metadata": {
            "tags": []
          },
          "execution_count": 46
        }
      ]
    },
    {
      "cell_type": "code",
      "metadata": {
        "id": "8JM4ZEEAbizh",
        "colab_type": "code",
        "outputId": "ec02be81-4276-4858-9f71-d8fef956ff05",
        "colab": {
          "base_uri": "https://localhost:8080/",
          "height": 510
        }
      },
      "source": [
        "# Cut down data just to law_cat_cd = VIOLATION\n",
        "\n",
        "violations = complaints_df[complaints_df['law_cat_cd'] == \"VIOLATION\"].copy()\n",
        "sorted_violations = violations.sort_values(by = [\"rpt_dt\"], ascending = False)\n",
        "sorted_violations.head()"
      ],
      "execution_count": 47,
      "outputs": [
        {
          "output_type": "execute_result",
          "data": {
            "text/html": [
              "<div>\n",
              "<style scoped>\n",
              "    .dataframe tbody tr th:only-of-type {\n",
              "        vertical-align: middle;\n",
              "    }\n",
              "\n",
              "    .dataframe tbody tr th {\n",
              "        vertical-align: top;\n",
              "    }\n",
              "\n",
              "    .dataframe thead th {\n",
              "        text-align: right;\n",
              "    }\n",
              "</style>\n",
              "<table border=\"1\" class=\"dataframe\">\n",
              "  <thead>\n",
              "    <tr style=\"text-align: right;\">\n",
              "      <th></th>\n",
              "      <th>cmplnt_fr_dt</th>\n",
              "      <th>cmplnt_fr_tm</th>\n",
              "      <th>addr_pct_cd</th>\n",
              "      <th>rpt_dt</th>\n",
              "      <th>ky_cd</th>\n",
              "      <th>ofns_desc</th>\n",
              "      <th>pd_cd</th>\n",
              "      <th>pd_desc</th>\n",
              "      <th>crm_atpt_cptd_cd</th>\n",
              "      <th>law_cat_cd</th>\n",
              "      <th>boro_nm</th>\n",
              "      <th>prem_typ_desc</th>\n",
              "      <th>juris_desc</th>\n",
              "      <th>jurisdiction_code</th>\n",
              "      <th>parks_nm</th>\n",
              "      <th>housing_psa</th>\n",
              "      <th>x_coord_cd</th>\n",
              "      <th>y_coord_cd</th>\n",
              "      <th>latitude</th>\n",
              "      <th>longitude</th>\n",
              "      <th>lat_lon</th>\n",
              "      <th>patrol_boro</th>\n",
              "      <th>vic_age_group</th>\n",
              "      <th>vic_race</th>\n",
              "      <th>vic_sex</th>\n",
              "      <th>:@computed_region_efsh_h5xi</th>\n",
              "      <th>:@computed_region_f5dn_yrer</th>\n",
              "      <th>:@computed_region_yeji_bk3q</th>\n",
              "      <th>:@computed_region_92fq_4b7q</th>\n",
              "      <th>:@computed_region_sbqj_enih</th>\n",
              "      <th>cmplnt_to_dt</th>\n",
              "      <th>cmplnt_to_tm</th>\n",
              "      <th>loc_of_occur_desc</th>\n",
              "      <th>susp_race</th>\n",
              "      <th>susp_sex</th>\n",
              "      <th>susp_age_group</th>\n",
              "      <th>transit_district</th>\n",
              "      <th>station_name</th>\n",
              "      <th>hadevelopt</th>\n",
              "    </tr>\n",
              "    <tr>\n",
              "      <th>cmplnt_num</th>\n",
              "      <th></th>\n",
              "      <th></th>\n",
              "      <th></th>\n",
              "      <th></th>\n",
              "      <th></th>\n",
              "      <th></th>\n",
              "      <th></th>\n",
              "      <th></th>\n",
              "      <th></th>\n",
              "      <th></th>\n",
              "      <th></th>\n",
              "      <th></th>\n",
              "      <th></th>\n",
              "      <th></th>\n",
              "      <th></th>\n",
              "      <th></th>\n",
              "      <th></th>\n",
              "      <th></th>\n",
              "      <th></th>\n",
              "      <th></th>\n",
              "      <th></th>\n",
              "      <th></th>\n",
              "      <th></th>\n",
              "      <th></th>\n",
              "      <th></th>\n",
              "      <th></th>\n",
              "      <th></th>\n",
              "      <th></th>\n",
              "      <th></th>\n",
              "      <th></th>\n",
              "      <th></th>\n",
              "      <th></th>\n",
              "      <th></th>\n",
              "      <th></th>\n",
              "      <th></th>\n",
              "      <th></th>\n",
              "      <th></th>\n",
              "      <th></th>\n",
              "      <th></th>\n",
              "    </tr>\n",
              "  </thead>\n",
              "  <tbody>\n",
              "    <tr>\n",
              "      <th>265082929</th>\n",
              "      <td>2011-12-06T00:00:00.000</td>\n",
              "      <td>13:00:00</td>\n",
              "      <td>105</td>\n",
              "      <td>2011-12-16T00:00:00.000</td>\n",
              "      <td>578</td>\n",
              "      <td>HARRASSMENT 2</td>\n",
              "      <td>638</td>\n",
              "      <td>HARASSMENT,SUBD 3,4,5</td>\n",
              "      <td>COMPLETED</td>\n",
              "      <td>VIOLATION</td>\n",
              "      <td>QUEENS</td>\n",
              "      <td>STREET</td>\n",
              "      <td>N.Y. POLICE DEPT</td>\n",
              "      <td>0</td>\n",
              "      <td>NA</td>\n",
              "      <td>NA</td>\n",
              "      <td>1054980</td>\n",
              "      <td>205316</td>\n",
              "      <td>40.729947108</td>\n",
              "      <td>-73.74480205</td>\n",
              "      <td>{'latitude': '40.729947108', 'longitude': '-73...</td>\n",
              "      <td>PATROL BORO QUEENS SOUTH</td>\n",
              "      <td>&lt;18</td>\n",
              "      <td>WHITE HISPANIC</td>\n",
              "      <td>M</td>\n",
              "      <td>24336</td>\n",
              "      <td>63</td>\n",
              "      <td>3</td>\n",
              "      <td>16</td>\n",
              "      <td>63</td>\n",
              "      <td>2011-12-06T00:00:00.000</td>\n",
              "      <td>13:15:00</td>\n",
              "      <td>NaN</td>\n",
              "      <td>BLACK</td>\n",
              "      <td>M</td>\n",
              "      <td>NaN</td>\n",
              "      <td>NaN</td>\n",
              "      <td>NaN</td>\n",
              "      <td>NaN</td>\n",
              "    </tr>\n",
              "    <tr>\n",
              "      <th>501068786</th>\n",
              "      <td>2011-11-23T00:00:00.000</td>\n",
              "      <td>18:50:00</td>\n",
              "      <td>101</td>\n",
              "      <td>2011-11-23T00:00:00.000</td>\n",
              "      <td>578</td>\n",
              "      <td>HARRASSMENT 2</td>\n",
              "      <td>638</td>\n",
              "      <td>HARASSMENT,SUBD 3,4,5</td>\n",
              "      <td>COMPLETED</td>\n",
              "      <td>VIOLATION</td>\n",
              "      <td>QUEENS</td>\n",
              "      <td>STREET</td>\n",
              "      <td>N.Y. POLICE DEPT</td>\n",
              "      <td>0</td>\n",
              "      <td>NA</td>\n",
              "      <td>NA</td>\n",
              "      <td>1052559</td>\n",
              "      <td>159711</td>\n",
              "      <td>40.604791059</td>\n",
              "      <td>-73.753999254</td>\n",
              "      <td>{'latitude': '40.604791059', 'longitude': '-73...</td>\n",
              "      <td>PATROL BORO QUEENS SOUTH</td>\n",
              "      <td>45-64</td>\n",
              "      <td>BLACK</td>\n",
              "      <td>F</td>\n",
              "      <td>20529</td>\n",
              "      <td>51</td>\n",
              "      <td>3</td>\n",
              "      <td>47</td>\n",
              "      <td>59</td>\n",
              "      <td>NaN</td>\n",
              "      <td>NaN</td>\n",
              "      <td>NaN</td>\n",
              "      <td>BLACK</td>\n",
              "      <td>M</td>\n",
              "      <td>NaN</td>\n",
              "      <td>NaN</td>\n",
              "      <td>NaN</td>\n",
              "      <td>NaN</td>\n",
              "    </tr>\n",
              "    <tr>\n",
              "      <th>525379766</th>\n",
              "      <td>2011-11-04T00:00:00.000</td>\n",
              "      <td>19:00:00</td>\n",
              "      <td>49</td>\n",
              "      <td>2011-11-07T00:00:00.000</td>\n",
              "      <td>578</td>\n",
              "      <td>HARRASSMENT 2</td>\n",
              "      <td>638</td>\n",
              "      <td>HARASSMENT,SUBD 3,4,5</td>\n",
              "      <td>COMPLETED</td>\n",
              "      <td>VIOLATION</td>\n",
              "      <td>BRONX</td>\n",
              "      <td>STREET</td>\n",
              "      <td>N.Y. POLICE DEPT</td>\n",
              "      <td>0</td>\n",
              "      <td>NA</td>\n",
              "      <td>NA</td>\n",
              "      <td>1023609</td>\n",
              "      <td>255034</td>\n",
              "      <td>40.866604513</td>\n",
              "      <td>-73.8576994</td>\n",
              "      <td>{'latitude': '40.866604513', 'longitude': '-73...</td>\n",
              "      <td>PATROL BORO BRONX</td>\n",
              "      <td>25-44</td>\n",
              "      <td>BLACK</td>\n",
              "      <td>F</td>\n",
              "      <td>11607</td>\n",
              "      <td>59</td>\n",
              "      <td>5</td>\n",
              "      <td>12</td>\n",
              "      <td>32</td>\n",
              "      <td>NaN</td>\n",
              "      <td>NaN</td>\n",
              "      <td>FRONT OF</td>\n",
              "      <td>BLACK</td>\n",
              "      <td>M</td>\n",
              "      <td>NaN</td>\n",
              "      <td>NaN</td>\n",
              "      <td>NaN</td>\n",
              "      <td>NaN</td>\n",
              "    </tr>\n",
              "    <tr>\n",
              "      <th>175993009</th>\n",
              "      <td>2011-08-23T00:00:00.000</td>\n",
              "      <td>19:50:00</td>\n",
              "      <td>40</td>\n",
              "      <td>2011-08-23T00:00:00.000</td>\n",
              "      <td>578</td>\n",
              "      <td>HARRASSMENT 2</td>\n",
              "      <td>637</td>\n",
              "      <td>HARASSMENT,SUBD 1,CIVILIAN</td>\n",
              "      <td>COMPLETED</td>\n",
              "      <td>VIOLATION</td>\n",
              "      <td>BRONX</td>\n",
              "      <td>STREET</td>\n",
              "      <td>N.Y. POLICE DEPT</td>\n",
              "      <td>0</td>\n",
              "      <td>NA</td>\n",
              "      <td>NA</td>\n",
              "      <td>1004369</td>\n",
              "      <td>237509</td>\n",
              "      <td>40.818568337</td>\n",
              "      <td>-73.927313946</td>\n",
              "      <td>{'latitude': '40.818568337', 'longitude': '-73...</td>\n",
              "      <td>PATROL BORO BRONX</td>\n",
              "      <td>18-24</td>\n",
              "      <td>BLACK</td>\n",
              "      <td>F</td>\n",
              "      <td>10929</td>\n",
              "      <td>50</td>\n",
              "      <td>5</td>\n",
              "      <td>35</td>\n",
              "      <td>27</td>\n",
              "      <td>NaN</td>\n",
              "      <td>NaN</td>\n",
              "      <td>NaN</td>\n",
              "      <td>BLACK</td>\n",
              "      <td>M</td>\n",
              "      <td>25-44</td>\n",
              "      <td>NaN</td>\n",
              "      <td>NaN</td>\n",
              "      <td>NaN</td>\n",
              "    </tr>\n",
              "    <tr>\n",
              "      <th>741628351</th>\n",
              "      <td>2011-07-10T00:00:00.000</td>\n",
              "      <td>11:00:00</td>\n",
              "      <td>73</td>\n",
              "      <td>2011-07-10T00:00:00.000</td>\n",
              "      <td>578</td>\n",
              "      <td>HARRASSMENT 2</td>\n",
              "      <td>638</td>\n",
              "      <td>HARASSMENT,SUBD 3,4,5</td>\n",
              "      <td>COMPLETED</td>\n",
              "      <td>VIOLATION</td>\n",
              "      <td>BROOKLYN</td>\n",
              "      <td>STREET</td>\n",
              "      <td>N.Y. POLICE DEPT</td>\n",
              "      <td>0</td>\n",
              "      <td>NA</td>\n",
              "      <td>NA</td>\n",
              "      <td>1010145</td>\n",
              "      <td>180217</td>\n",
              "      <td>40.661301092</td>\n",
              "      <td>-73.906666511</td>\n",
              "      <td>{'latitude': '40.661301092', 'longitude': '-73...</td>\n",
              "      <td>PATROL BORO BKLYN NORTH</td>\n",
              "      <td>25-44</td>\n",
              "      <td>BLACK</td>\n",
              "      <td>F</td>\n",
              "      <td>17614</td>\n",
              "      <td>55</td>\n",
              "      <td>2</td>\n",
              "      <td>25</td>\n",
              "      <td>46</td>\n",
              "      <td>NaN</td>\n",
              "      <td>NaN</td>\n",
              "      <td>NaN</td>\n",
              "      <td>BLACK</td>\n",
              "      <td>M</td>\n",
              "      <td>45-64</td>\n",
              "      <td>NaN</td>\n",
              "      <td>NaN</td>\n",
              "      <td>NaN</td>\n",
              "    </tr>\n",
              "  </tbody>\n",
              "</table>\n",
              "</div>"
            ],
            "text/plain": [
              "                       cmplnt_fr_dt cmplnt_fr_tm  ... station_name hadevelopt\n",
              "cmplnt_num                                        ...                        \n",
              "265082929   2011-12-06T00:00:00.000     13:00:00  ...          NaN        NaN\n",
              "501068786   2011-11-23T00:00:00.000     18:50:00  ...          NaN        NaN\n",
              "525379766   2011-11-04T00:00:00.000     19:00:00  ...          NaN        NaN\n",
              "175993009   2011-08-23T00:00:00.000     19:50:00  ...          NaN        NaN\n",
              "741628351   2011-07-10T00:00:00.000     11:00:00  ...          NaN        NaN\n",
              "\n",
              "[5 rows x 39 columns]"
            ]
          },
          "metadata": {
            "tags": []
          },
          "execution_count": 47
        }
      ]
    },
    {
      "cell_type": "markdown",
      "metadata": {
        "id": "uxPzPnWDCXru",
        "colab_type": "text"
      },
      "source": [
        "# Data Analysis"
      ]
    },
    {
      "cell_type": "code",
      "metadata": {
        "id": "Z6DpDufcyJYS",
        "colab_type": "code",
        "outputId": "9b53b9a1-a5d2-4b30-e5b8-0b81a5f880cc",
        "colab": {
          "base_uri": "https://localhost:8080/",
          "height": 51
        }
      },
      "source": [
        "# See date breakdown of data\n",
        "print(min(violations.rpt_dt))\n",
        "print(max(violations.rpt_dt))"
      ],
      "execution_count": 48,
      "outputs": [
        {
          "output_type": "stream",
          "text": [
            "2006-01-05T00:00:00.000\n",
            "2011-12-16T00:00:00.000\n"
          ],
          "name": "stdout"
        }
      ]
    },
    {
      "cell_type": "markdown",
      "metadata": {
        "id": "JSvUM1wxgwBH",
        "colab_type": "text"
      },
      "source": [
        "Now, learn more about the characteristics of the complaints, including victim characteristics and suspect characteristics."
      ]
    },
    {
      "cell_type": "code",
      "metadata": {
        "id": "mjg0XAWMyJbQ",
        "colab_type": "code",
        "outputId": "bc30ae16-e5c5-4e1a-cd06-786d949b91ce",
        "colab": {
          "base_uri": "https://localhost:8080/",
          "height": 799
        }
      },
      "source": [
        "violations.info()"
      ],
      "execution_count": 49,
      "outputs": [
        {
          "output_type": "stream",
          "text": [
            "<class 'pandas.core.frame.DataFrame'>\n",
            "Index: 103 entries, 730205151 to 900067061\n",
            "Data columns (total 39 columns):\n",
            " #   Column                       Non-Null Count  Dtype \n",
            "---  ------                       --------------  ----- \n",
            " 0   cmplnt_fr_dt                 103 non-null    object\n",
            " 1   cmplnt_fr_tm                 103 non-null    object\n",
            " 2   addr_pct_cd                  103 non-null    object\n",
            " 3   rpt_dt                       103 non-null    object\n",
            " 4   ky_cd                        103 non-null    object\n",
            " 5   ofns_desc                    103 non-null    object\n",
            " 6   pd_cd                        103 non-null    object\n",
            " 7   pd_desc                      103 non-null    object\n",
            " 8   crm_atpt_cptd_cd             103 non-null    object\n",
            " 9   law_cat_cd                   103 non-null    object\n",
            " 10  boro_nm                      103 non-null    object\n",
            " 11  prem_typ_desc                103 non-null    object\n",
            " 12  juris_desc                   103 non-null    object\n",
            " 13  jurisdiction_code            103 non-null    object\n",
            " 14  parks_nm                     103 non-null    object\n",
            " 15  housing_psa                  103 non-null    object\n",
            " 16  x_coord_cd                   51 non-null     object\n",
            " 17  y_coord_cd                   51 non-null     object\n",
            " 18  latitude                     51 non-null     object\n",
            " 19  longitude                    51 non-null     object\n",
            " 20  lat_lon                      51 non-null     object\n",
            " 21  patrol_boro                  103 non-null    object\n",
            " 22  vic_age_group                92 non-null     object\n",
            " 23  vic_race                     103 non-null    object\n",
            " 24  vic_sex                      103 non-null    object\n",
            " 25  :@computed_region_efsh_h5xi  49 non-null     object\n",
            " 26  :@computed_region_f5dn_yrer  51 non-null     object\n",
            " 27  :@computed_region_yeji_bk3q  51 non-null     object\n",
            " 28  :@computed_region_92fq_4b7q  51 non-null     object\n",
            " 29  :@computed_region_sbqj_enih  51 non-null     object\n",
            " 30  cmplnt_to_dt                 27 non-null     object\n",
            " 31  cmplnt_to_tm                 27 non-null     object\n",
            " 32  loc_of_occur_desc            73 non-null     object\n",
            " 33  susp_race                    85 non-null     object\n",
            " 34  susp_sex                     77 non-null     object\n",
            " 35  susp_age_group               29 non-null     object\n",
            " 36  transit_district             0 non-null      object\n",
            " 37  station_name                 0 non-null      object\n",
            " 38  hadevelopt                   3 non-null      object\n",
            "dtypes: object(39)\n",
            "memory usage: 32.2+ KB\n"
          ],
          "name": "stdout"
        }
      ]
    },
    {
      "cell_type": "code",
      "metadata": {
        "id": "myIImuXLl0ER",
        "colab_type": "code",
        "outputId": "63be9bf9-9b81-41ed-b068-7c7f819a52cb",
        "colab": {
          "base_uri": "https://localhost:8080/",
          "height": 85
        }
      },
      "source": [
        "# Total number of violations\n",
        "violations[\"ofns_desc\"].value_counts()"
      ],
      "execution_count": 50,
      "outputs": [
        {
          "output_type": "execute_result",
          "data": {
            "text/plain": [
              "HARRASSMENT 2              101\n",
              "ADMINISTRATIVE CODE          1\n",
              "MISCELLANEOUS PENAL LAW      1\n",
              "Name: ofns_desc, dtype: int64"
            ]
          },
          "metadata": {
            "tags": []
          },
          "execution_count": 50
        }
      ]
    },
    {
      "cell_type": "code",
      "metadata": {
        "id": "PIVEBTEWvByy",
        "colab_type": "code",
        "outputId": "61257fac-c5b5-456b-c0e0-8bb954f72cf1",
        "colab": {
          "base_uri": "https://localhost:8080/",
          "height": 102
        }
      },
      "source": [
        "# Types of violations\n",
        "violations[\"pd_desc\"].value_counts()"
      ],
      "execution_count": 51,
      "outputs": [
        {
          "output_type": "execute_result",
          "data": {
            "text/plain": [
              "HARASSMENT,SUBD 3,4,5         58\n",
              "HARASSMENT,SUBD 1,CIVILIAN    43\n",
              "IMITATION PISTOL/AIR RIFLE     1\n",
              "MARIJUANA, POSSESSION          1\n",
              "Name: pd_desc, dtype: int64"
            ]
          },
          "metadata": {
            "tags": []
          },
          "execution_count": 51
        }
      ]
    },
    {
      "cell_type": "code",
      "metadata": {
        "id": "Vk2F2armli-J",
        "colab_type": "code",
        "outputId": "cae10bbe-9518-4013-ebaf-84365b47a873",
        "colab": {
          "base_uri": "https://localhost:8080/",
          "height": 476
        }
      },
      "source": [
        "# Violations by report year\n",
        "import datetime\n",
        "\n",
        "violations[\"rpt_dt_yr\"] = pd.DatetimeIndex(violations[\"rpt_dt\"]).year\n",
        "violations.head()"
      ],
      "execution_count": 52,
      "outputs": [
        {
          "output_type": "execute_result",
          "data": {
            "text/html": [
              "<div>\n",
              "<style scoped>\n",
              "    .dataframe tbody tr th:only-of-type {\n",
              "        vertical-align: middle;\n",
              "    }\n",
              "\n",
              "    .dataframe tbody tr th {\n",
              "        vertical-align: top;\n",
              "    }\n",
              "\n",
              "    .dataframe thead th {\n",
              "        text-align: right;\n",
              "    }\n",
              "</style>\n",
              "<table border=\"1\" class=\"dataframe\">\n",
              "  <thead>\n",
              "    <tr style=\"text-align: right;\">\n",
              "      <th></th>\n",
              "      <th>cmplnt_fr_dt</th>\n",
              "      <th>cmplnt_fr_tm</th>\n",
              "      <th>addr_pct_cd</th>\n",
              "      <th>rpt_dt</th>\n",
              "      <th>ky_cd</th>\n",
              "      <th>ofns_desc</th>\n",
              "      <th>pd_cd</th>\n",
              "      <th>pd_desc</th>\n",
              "      <th>crm_atpt_cptd_cd</th>\n",
              "      <th>law_cat_cd</th>\n",
              "      <th>boro_nm</th>\n",
              "      <th>prem_typ_desc</th>\n",
              "      <th>juris_desc</th>\n",
              "      <th>jurisdiction_code</th>\n",
              "      <th>parks_nm</th>\n",
              "      <th>housing_psa</th>\n",
              "      <th>x_coord_cd</th>\n",
              "      <th>y_coord_cd</th>\n",
              "      <th>latitude</th>\n",
              "      <th>longitude</th>\n",
              "      <th>lat_lon</th>\n",
              "      <th>patrol_boro</th>\n",
              "      <th>vic_age_group</th>\n",
              "      <th>vic_race</th>\n",
              "      <th>vic_sex</th>\n",
              "      <th>:@computed_region_efsh_h5xi</th>\n",
              "      <th>:@computed_region_f5dn_yrer</th>\n",
              "      <th>:@computed_region_yeji_bk3q</th>\n",
              "      <th>:@computed_region_92fq_4b7q</th>\n",
              "      <th>:@computed_region_sbqj_enih</th>\n",
              "      <th>cmplnt_to_dt</th>\n",
              "      <th>cmplnt_to_tm</th>\n",
              "      <th>loc_of_occur_desc</th>\n",
              "      <th>susp_race</th>\n",
              "      <th>susp_sex</th>\n",
              "      <th>susp_age_group</th>\n",
              "      <th>transit_district</th>\n",
              "      <th>station_name</th>\n",
              "      <th>hadevelopt</th>\n",
              "      <th>rpt_dt_yr</th>\n",
              "    </tr>\n",
              "    <tr>\n",
              "      <th>cmplnt_num</th>\n",
              "      <th></th>\n",
              "      <th></th>\n",
              "      <th></th>\n",
              "      <th></th>\n",
              "      <th></th>\n",
              "      <th></th>\n",
              "      <th></th>\n",
              "      <th></th>\n",
              "      <th></th>\n",
              "      <th></th>\n",
              "      <th></th>\n",
              "      <th></th>\n",
              "      <th></th>\n",
              "      <th></th>\n",
              "      <th></th>\n",
              "      <th></th>\n",
              "      <th></th>\n",
              "      <th></th>\n",
              "      <th></th>\n",
              "      <th></th>\n",
              "      <th></th>\n",
              "      <th></th>\n",
              "      <th></th>\n",
              "      <th></th>\n",
              "      <th></th>\n",
              "      <th></th>\n",
              "      <th></th>\n",
              "      <th></th>\n",
              "      <th></th>\n",
              "      <th></th>\n",
              "      <th></th>\n",
              "      <th></th>\n",
              "      <th></th>\n",
              "      <th></th>\n",
              "      <th></th>\n",
              "      <th></th>\n",
              "      <th></th>\n",
              "      <th></th>\n",
              "      <th></th>\n",
              "      <th></th>\n",
              "    </tr>\n",
              "  </thead>\n",
              "  <tbody>\n",
              "    <tr>\n",
              "      <th>730205151</th>\n",
              "      <td>2007-05-14T00:00:00.000</td>\n",
              "      <td>10:00:00</td>\n",
              "      <td>46</td>\n",
              "      <td>2007-05-14T00:00:00.000</td>\n",
              "      <td>578</td>\n",
              "      <td>HARRASSMENT 2</td>\n",
              "      <td>638</td>\n",
              "      <td>HARASSMENT,SUBD 3,4,5</td>\n",
              "      <td>COMPLETED</td>\n",
              "      <td>VIOLATION</td>\n",
              "      <td>BRONX</td>\n",
              "      <td>OTHER</td>\n",
              "      <td>N.Y. POLICE DEPT</td>\n",
              "      <td>0</td>\n",
              "      <td>NA</td>\n",
              "      <td>NA</td>\n",
              "      <td>1013045</td>\n",
              "      <td>252933</td>\n",
              "      <td>40.860878686</td>\n",
              "      <td>-73.895902416</td>\n",
              "      <td>{'latitude': '40.860878686', 'longitude': '-73...</td>\n",
              "      <td>PATROL BORO BRONX</td>\n",
              "      <td>25-44</td>\n",
              "      <td>BLACK</td>\n",
              "      <td>F</td>\n",
              "      <td>10936</td>\n",
              "      <td>6</td>\n",
              "      <td>5</td>\n",
              "      <td>22</td>\n",
              "      <td>29</td>\n",
              "      <td>NaN</td>\n",
              "      <td>NaN</td>\n",
              "      <td>INSIDE</td>\n",
              "      <td>NaN</td>\n",
              "      <td>NaN</td>\n",
              "      <td>NaN</td>\n",
              "      <td>NaN</td>\n",
              "      <td>NaN</td>\n",
              "      <td>NaN</td>\n",
              "      <td>2007</td>\n",
              "    </tr>\n",
              "    <tr>\n",
              "      <th>975331489</th>\n",
              "      <td>2006-04-09T00:00:00.000</td>\n",
              "      <td>15:52:00</td>\n",
              "      <td>42</td>\n",
              "      <td>2006-04-09T00:00:00.000</td>\n",
              "      <td>578</td>\n",
              "      <td>HARRASSMENT 2</td>\n",
              "      <td>637</td>\n",
              "      <td>HARASSMENT,SUBD 1,CIVILIAN</td>\n",
              "      <td>COMPLETED</td>\n",
              "      <td>VIOLATION</td>\n",
              "      <td>BRONX</td>\n",
              "      <td>STREET</td>\n",
              "      <td>N.Y. POLICE DEPT</td>\n",
              "      <td>0</td>\n",
              "      <td>NA</td>\n",
              "      <td>NA</td>\n",
              "      <td>NaN</td>\n",
              "      <td>NaN</td>\n",
              "      <td>NaN</td>\n",
              "      <td>NaN</td>\n",
              "      <td>NaN</td>\n",
              "      <td>PATROL BORO BRONX</td>\n",
              "      <td>45-64</td>\n",
              "      <td>BLACK</td>\n",
              "      <td>F</td>\n",
              "      <td>NaN</td>\n",
              "      <td>NaN</td>\n",
              "      <td>NaN</td>\n",
              "      <td>NaN</td>\n",
              "      <td>NaN</td>\n",
              "      <td>NaN</td>\n",
              "      <td>NaN</td>\n",
              "      <td>FRONT OF</td>\n",
              "      <td>BLACK</td>\n",
              "      <td>M</td>\n",
              "      <td>25-44</td>\n",
              "      <td>NaN</td>\n",
              "      <td>NaN</td>\n",
              "      <td>NaN</td>\n",
              "      <td>2006</td>\n",
              "    </tr>\n",
              "    <tr>\n",
              "      <th>367892768</th>\n",
              "      <td>2005-12-12T00:00:00.000</td>\n",
              "      <td>11:45:00</td>\n",
              "      <td>94</td>\n",
              "      <td>2006-01-05T00:00:00.000</td>\n",
              "      <td>578</td>\n",
              "      <td>HARRASSMENT 2</td>\n",
              "      <td>637</td>\n",
              "      <td>HARASSMENT,SUBD 1,CIVILIAN</td>\n",
              "      <td>COMPLETED</td>\n",
              "      <td>VIOLATION</td>\n",
              "      <td>BROOKLYN</td>\n",
              "      <td>PUBLIC SCHOOL</td>\n",
              "      <td>N.Y. POLICE DEPT</td>\n",
              "      <td>0</td>\n",
              "      <td>NA</td>\n",
              "      <td>NA</td>\n",
              "      <td>997222</td>\n",
              "      <td>202340</td>\n",
              "      <td>40.722051984</td>\n",
              "      <td>-73.953203061</td>\n",
              "      <td>{'latitude': '40.722051984', 'longitude': '-73...</td>\n",
              "      <td>PATROL BORO BKLYN NORTH</td>\n",
              "      <td>&lt;18</td>\n",
              "      <td>BLACK</td>\n",
              "      <td>M</td>\n",
              "      <td>18182</td>\n",
              "      <td>36</td>\n",
              "      <td>2</td>\n",
              "      <td>38</td>\n",
              "      <td>57</td>\n",
              "      <td>NaN</td>\n",
              "      <td>NaN</td>\n",
              "      <td>INSIDE</td>\n",
              "      <td>BLACK</td>\n",
              "      <td>M</td>\n",
              "      <td>NaN</td>\n",
              "      <td>NaN</td>\n",
              "      <td>NaN</td>\n",
              "      <td>NaN</td>\n",
              "      <td>2006</td>\n",
              "    </tr>\n",
              "    <tr>\n",
              "      <th>274778164</th>\n",
              "      <td>2006-04-27T00:00:00.000</td>\n",
              "      <td>09:30:00</td>\n",
              "      <td>109</td>\n",
              "      <td>2006-04-27T00:00:00.000</td>\n",
              "      <td>578</td>\n",
              "      <td>HARRASSMENT 2</td>\n",
              "      <td>638</td>\n",
              "      <td>HARASSMENT,SUBD 3,4,5</td>\n",
              "      <td>COMPLETED</td>\n",
              "      <td>VIOLATION</td>\n",
              "      <td>QUEENS</td>\n",
              "      <td>RESIDENCE-HOUSE</td>\n",
              "      <td>N.Y. POLICE DEPT</td>\n",
              "      <td>0</td>\n",
              "      <td>NA</td>\n",
              "      <td>NA</td>\n",
              "      <td>NaN</td>\n",
              "      <td>NaN</td>\n",
              "      <td>NaN</td>\n",
              "      <td>NaN</td>\n",
              "      <td>NaN</td>\n",
              "      <td>PATROL BORO QUEENS NORTH</td>\n",
              "      <td>25-44</td>\n",
              "      <td>WHITE</td>\n",
              "      <td>M</td>\n",
              "      <td>NaN</td>\n",
              "      <td>NaN</td>\n",
              "      <td>NaN</td>\n",
              "      <td>NaN</td>\n",
              "      <td>NaN</td>\n",
              "      <td>NaN</td>\n",
              "      <td>NaN</td>\n",
              "      <td>INSIDE</td>\n",
              "      <td>WHITE</td>\n",
              "      <td>M</td>\n",
              "      <td>NaN</td>\n",
              "      <td>NaN</td>\n",
              "      <td>NaN</td>\n",
              "      <td>NaN</td>\n",
              "      <td>2006</td>\n",
              "    </tr>\n",
              "    <tr>\n",
              "      <th>203257072</th>\n",
              "      <td>2006-03-08T00:00:00.000</td>\n",
              "      <td>18:30:00</td>\n",
              "      <td>52</td>\n",
              "      <td>2006-03-09T00:00:00.000</td>\n",
              "      <td>578</td>\n",
              "      <td>HARRASSMENT 2</td>\n",
              "      <td>637</td>\n",
              "      <td>HARASSMENT,SUBD 1,CIVILIAN</td>\n",
              "      <td>COMPLETED</td>\n",
              "      <td>VIOLATION</td>\n",
              "      <td>BRONX</td>\n",
              "      <td>RESIDENCE - APT. HOUSE</td>\n",
              "      <td>N.Y. POLICE DEPT</td>\n",
              "      <td>0</td>\n",
              "      <td>NA</td>\n",
              "      <td>NA</td>\n",
              "      <td>NaN</td>\n",
              "      <td>NaN</td>\n",
              "      <td>NaN</td>\n",
              "      <td>NaN</td>\n",
              "      <td>NaN</td>\n",
              "      <td>PATROL BORO BRONX</td>\n",
              "      <td>25-44</td>\n",
              "      <td>WHITE HISPANIC</td>\n",
              "      <td>F</td>\n",
              "      <td>NaN</td>\n",
              "      <td>NaN</td>\n",
              "      <td>NaN</td>\n",
              "      <td>NaN</td>\n",
              "      <td>NaN</td>\n",
              "      <td>NaN</td>\n",
              "      <td>NaN</td>\n",
              "      <td>INSIDE</td>\n",
              "      <td>WHITE HISPANIC</td>\n",
              "      <td>M</td>\n",
              "      <td>25-44</td>\n",
              "      <td>NaN</td>\n",
              "      <td>NaN</td>\n",
              "      <td>NaN</td>\n",
              "      <td>2006</td>\n",
              "    </tr>\n",
              "  </tbody>\n",
              "</table>\n",
              "</div>"
            ],
            "text/plain": [
              "                       cmplnt_fr_dt cmplnt_fr_tm  ... hadevelopt rpt_dt_yr\n",
              "cmplnt_num                                        ...                     \n",
              "730205151   2007-05-14T00:00:00.000     10:00:00  ...        NaN      2007\n",
              "975331489   2006-04-09T00:00:00.000     15:52:00  ...        NaN      2006\n",
              "367892768   2005-12-12T00:00:00.000     11:45:00  ...        NaN      2006\n",
              "274778164   2006-04-27T00:00:00.000     09:30:00  ...        NaN      2006\n",
              "203257072   2006-03-08T00:00:00.000     18:30:00  ...        NaN      2006\n",
              "\n",
              "[5 rows x 40 columns]"
            ]
          },
          "metadata": {
            "tags": []
          },
          "execution_count": 52
        }
      ]
    },
    {
      "cell_type": "code",
      "metadata": {
        "id": "byuZBYAoloG0",
        "colab_type": "code",
        "outputId": "a78753fb-9a08-43b1-d6d0-3375898646e1",
        "colab": {
          "base_uri": "https://localhost:8080/",
          "height": 544
        }
      },
      "source": [
        "violations.groupby([\"vic_age_group\", \"vic_race\", \"vic_sex\"]).size()"
      ],
      "execution_count": 53,
      "outputs": [
        {
          "output_type": "execute_result",
          "data": {
            "text/plain": [
              "vic_age_group  vic_race                        vic_sex\n",
              "18-24          BLACK                           F           9\n",
              "               WHITE                           F           5\n",
              "               WHITE HISPANIC                  F           1\n",
              "25-44          ASIAN / PACIFIC ISLANDER        M           1\n",
              "               BLACK                           F          17\n",
              "                                               M           5\n",
              "               BLACK HISPANIC                  F           2\n",
              "               UNKNOWN                         F           2\n",
              "               WHITE                           F           3\n",
              "                                               M           4\n",
              "               WHITE HISPANIC                  F           7\n",
              "                                               M           1\n",
              "45-64          AMERICAN INDIAN/ALASKAN NATIVE  M           1\n",
              "               BLACK                           F           8\n",
              "                                               M           1\n",
              "               WHITE                           F           2\n",
              "                                               M           2\n",
              "               WHITE HISPANIC                  F           1\n",
              "65+            BLACK                           M           1\n",
              "               WHITE                           F           1\n",
              "                                               M           2\n",
              "<18            BLACK                           F           1\n",
              "                                               M           4\n",
              "               BLACK HISPANIC                  M           2\n",
              "               UNKNOWN                         M           1\n",
              "               WHITE                           F           2\n",
              "                                               M           3\n",
              "               WHITE HISPANIC                  F           2\n",
              "                                               M           1\n",
              "dtype: int64"
            ]
          },
          "metadata": {
            "tags": []
          },
          "execution_count": 53
        }
      ]
    },
    {
      "cell_type": "code",
      "metadata": {
        "id": "puxoNFjGxELj",
        "colab_type": "code",
        "outputId": "3c6bc8b2-e7a1-42f3-942f-e70813784356",
        "colab": {
          "base_uri": "https://localhost:8080/",
          "height": 306
        }
      },
      "source": [
        "violations_sus = violations.groupby([\"susp_age_group\", \"susp_race\", \"susp_sex\"]).size()\n",
        "violations_sus"
      ],
      "execution_count": 54,
      "outputs": [
        {
          "output_type": "execute_result",
          "data": {
            "text/plain": [
              "susp_age_group  susp_race                 susp_sex\n",
              "18-24           BLACK                     M            2\n",
              "                BLACK HISPANIC            M            1\n",
              "25-44           ASIAN / PACIFIC ISLANDER  M            1\n",
              "                BLACK                     M           10\n",
              "                UNKNOWN                   F            1\n",
              "                                          M            2\n",
              "                WHITE                     F            1\n",
              "                                          M            2\n",
              "                WHITE HISPANIC            F            1\n",
              "                                          M            1\n",
              "45-64           BLACK                     M            2\n",
              "                WHITE                     F            1\n",
              "                                          M            1\n",
              "<18             BLACK                     F            1\n",
              "                WHITE HISPANIC            M            1\n",
              "dtype: int64"
            ]
          },
          "metadata": {
            "tags": []
          },
          "execution_count": 54
        }
      ]
    },
    {
      "cell_type": "markdown",
      "metadata": {
        "id": "s2mtC0ZcHuXI",
        "colab_type": "text"
      },
      "source": [
        "Visualize Suspects by Age"
      ]
    },
    {
      "cell_type": "code",
      "metadata": {
        "id": "m0ZgyWjEzKTt",
        "colab_type": "code",
        "colab": {}
      },
      "source": [
        "import seaborn as sns"
      ],
      "execution_count": 0,
      "outputs": []
    },
    {
      "cell_type": "code",
      "metadata": {
        "id": "iLBRkYBdGQR3",
        "colab_type": "code",
        "outputId": "0f755ac7-1cd4-4412-ce2e-56b895491899",
        "colab": {
          "base_uri": "https://localhost:8080/",
          "height": 522
        }
      },
      "source": [
        "age = violations[\"susp_age_group\"]\n",
        "print(age)\n",
        "\n",
        "violations[\"susp_age_group\"].value_counts().plot(kind='bar')"
      ],
      "execution_count": 56,
      "outputs": [
        {
          "output_type": "stream",
          "text": [
            "cmplnt_num\n",
            "730205151      NaN\n",
            "975331489    25-44\n",
            "367892768      NaN\n",
            "274778164      NaN\n",
            "203257072    25-44\n",
            "             ...  \n",
            "605512752      NaN\n",
            "854376630      65+\n",
            "842933006      NaN\n",
            "286397036      NaN\n",
            "900067061      NaN\n",
            "Name: susp_age_group, Length: 103, dtype: object\n"
          ],
          "name": "stdout"
        },
        {
          "output_type": "execute_result",
          "data": {
            "text/plain": [
              "<matplotlib.axes._subplots.AxesSubplot at 0x7f74fc04b3c8>"
            ]
          },
          "metadata": {
            "tags": []
          },
          "execution_count": 56
        },
        {
          "output_type": "display_data",
          "data": {
            "image/png": "[encoded data removed]",
            "text/plain": [
              "<Figure size 432x288 with 1 Axes>"
            ]
          },
          "metadata": {
            "tags": [],
            "needs_background": "light"
          }
        }
      ]
    },
    {
      "cell_type": "code",
      "metadata": {
        "id": "bqGS8bRWJW1K",
        "colab_type": "code",
        "outputId": "818cd095-6019-48ef-c770-29f6e1ba2947",
        "colab": {
          "base_uri": "https://localhost:8080/",
          "height": 280
        }
      },
      "source": [
        "sns.barplot(x = 'rpt_dt_yr', y = age, hue = 'pd_desc', data = violations, estimator = np.min)\n",
        "plt.show()"
      ],
      "execution_count": 57,
      "outputs": [
        {
          "output_type": "display_data",
          "data": {
            "image/png": "[encoded data removed]",
            "text/plain": [
              "<Figure size 432x288 with 1 Axes>"
            ]
          },
          "metadata": {
            "tags": [],
            "needs_background": "light"
          }
        }
      ]
    },
    {
      "cell_type": "markdown",
      "metadata": {
        "id": "KXgEijcCzKpF",
        "colab_type": "text"
      },
      "source": [
        "Mapping Complaints"
      ]
    },
    {
      "cell_type": "code",
      "metadata": {
        "id": "QTM1avT5xEc2",
        "colab_type": "code",
        "outputId": "4a5c9caf-b98e-4333-bc39-11d67d399bac",
        "colab": {
          "base_uri": "https://localhost:8080/",
          "height": 360
        }
      },
      "source": [
        "import descartes\n",
        "!pip install geopandas\n",
        "from shapely.geometry import Point \n",
        "!pip install cartopy\n",
        "%matplotlib inline"
      ],
      "execution_count": 58,
      "outputs": [
        {
          "output_type": "stream",
          "text": [
            "Requirement already satisfied: geopandas in /usr/local/lib/python3.6/dist-packages (0.7.0)\n",
            "Requirement already satisfied: pandas>=0.23.0 in /usr/local/lib/python3.6/dist-packages (from geopandas) (1.0.3)\n",
            "Requirement already satisfied: shapely in /usr/local/lib/python3.6/dist-packages (from geopandas) (1.7.0)\n",
            "Requirement already satisfied: fiona in /usr/local/lib/python3.6/dist-packages (from geopandas) (1.8.13.post1)\n",
            "Requirement already satisfied: pyproj>=2.2.0 in /usr/local/lib/python3.6/dist-packages (from geopandas) (2.6.0)\n",
            "Requirement already satisfied: numpy>=1.13.3 in /usr/local/lib/python3.6/dist-packages (from pandas>=0.23.0->geopandas) (1.18.3)\n",
            "Requirement already satisfied: pytz>=2017.2 in /usr/local/lib/python3.6/dist-packages (from pandas>=0.23.0->geopandas) (2018.9)\n",
            "Requirement already satisfied: python-dateutil>=2.6.1 in /usr/local/lib/python3.6/dist-packages (from pandas>=0.23.0->geopandas) (2.8.1)\n",
            "Requirement already satisfied: six>=1.7 in /usr/local/lib/python3.6/dist-packages (from fiona->geopandas) (1.12.0)\n",
            "Requirement already satisfied: cligj>=0.5 in /usr/local/lib/python3.6/dist-packages (from fiona->geopandas) (0.5.0)\n",
            "Requirement already satisfied: click-plugins>=1.0 in /usr/local/lib/python3.6/dist-packages (from fiona->geopandas) (1.1.1)\n",
            "Requirement already satisfied: munch in /usr/local/lib/python3.6/dist-packages (from fiona->geopandas) (2.5.0)\n",
            "Requirement already satisfied: click<8,>=4.0 in /usr/local/lib/python3.6/dist-packages (from fiona->geopandas) (7.1.1)\n",
            "Requirement already satisfied: attrs>=17 in /usr/local/lib/python3.6/dist-packages (from fiona->geopandas) (19.3.0)\n",
            "Collecting cartopy\n",
            "  Using cached https://files.pythonhosted.org/packages/e5/92/fe8838fa8158931906dfc4f16c5c1436b3dd2daf83592645b179581403ad/Cartopy-0.17.0.tar.gz\n",
            "  Installing build dependencies ... \u001b[?25l\u001b[?25hdone\n",
            "  Getting requirements to build wheel ... \u001b[?25l\u001b[?25herror\n",
            "\u001b[31mERROR: Command errored out with exit status 1: /usr/bin/python3 /usr/local/lib/python3.6/dist-packages/pip/_vendor/pep517/_in_process.py get_requires_for_build_wheel /tmp/tmp49yklbij Check the logs for full command output.\u001b[0m\n"
          ],
          "name": "stdout"
        }
      ]
    },
    {
      "cell_type": "code",
      "metadata": {
        "id": "O8mYuouB4vA6",
        "colab_type": "code",
        "colab": {
          "base_uri": "https://localhost:8080/",
          "height": 323
        },
        "outputId": "dba566cc-51b7-4eb2-8aec-66fb945f6f9c"
      },
      "source": [
        "# Setting Bounding Box for XY Coords\n",
        "BBox = (violations.longitude.min(), violations.longitude.max(), violations.latitude.min(), violations.latitude.max())\n",
        "BBox"
      ],
      "execution_count": 59,
      "outputs": [
        {
          "output_type": "error",
          "ename": "TypeError",
          "evalue": "ignored",
          "traceback": [
            "\u001b[0;31m---------------------------------------------------------------------------\u001b[0m",
            "\u001b[0;31mTypeError\u001b[0m                                 Traceback (most recent call last)",
            "\u001b[0;32m<ipython-input-59-be837e9305e9>\u001b[0m in \u001b[0;36m<module>\u001b[0;34m()\u001b[0m\n\u001b[0;32m----> 1\u001b[0;31m \u001b[0mBBox\u001b[0m \u001b[0;34m=\u001b[0m \u001b[0;34m(\u001b[0m\u001b[0mviolations\u001b[0m\u001b[0;34m.\u001b[0m\u001b[0mlongitude\u001b[0m\u001b[0;34m.\u001b[0m\u001b[0mmin\u001b[0m\u001b[0;34m(\u001b[0m\u001b[0;34m)\u001b[0m\u001b[0;34m,\u001b[0m \u001b[0mviolations\u001b[0m\u001b[0;34m.\u001b[0m\u001b[0mlongitude\u001b[0m\u001b[0;34m.\u001b[0m\u001b[0mmax\u001b[0m\u001b[0;34m(\u001b[0m\u001b[0;34m)\u001b[0m\u001b[0;34m,\u001b[0m \u001b[0mviolations\u001b[0m\u001b[0;34m.\u001b[0m\u001b[0mlatitude\u001b[0m\u001b[0;34m.\u001b[0m\u001b[0mmin\u001b[0m\u001b[0;34m(\u001b[0m\u001b[0;34m)\u001b[0m\u001b[0;34m,\u001b[0m \u001b[0mviolations\u001b[0m\u001b[0;34m.\u001b[0m\u001b[0mlatitude\u001b[0m\u001b[0;34m.\u001b[0m\u001b[0mmax\u001b[0m\u001b[0;34m(\u001b[0m\u001b[0;34m)\u001b[0m\u001b[0;34m)\u001b[0m\u001b[0;34m\u001b[0m\u001b[0;34m\u001b[0m\u001b[0m\n\u001b[0m\u001b[1;32m      2\u001b[0m \u001b[0mBBox\u001b[0m\u001b[0;34m\u001b[0m\u001b[0;34m\u001b[0m\u001b[0m\n",
            "\u001b[0;32m/usr/local/lib/python3.6/dist-packages/pandas/core/generic.py\u001b[0m in \u001b[0;36mstat_func\u001b[0;34m(self, axis, skipna, level, numeric_only, **kwargs)\u001b[0m\n\u001b[1;32m  11213\u001b[0m             \u001b[0;32mreturn\u001b[0m \u001b[0mself\u001b[0m\u001b[0;34m.\u001b[0m\u001b[0m_agg_by_level\u001b[0m\u001b[0;34m(\u001b[0m\u001b[0mname\u001b[0m\u001b[0;34m,\u001b[0m \u001b[0maxis\u001b[0m\u001b[0;34m=\u001b[0m\u001b[0maxis\u001b[0m\u001b[0;34m,\u001b[0m \u001b[0mlevel\u001b[0m\u001b[0;34m=\u001b[0m\u001b[0mlevel\u001b[0m\u001b[0;34m,\u001b[0m \u001b[0mskipna\u001b[0m\u001b[0;34m=\u001b[0m\u001b[0mskipna\u001b[0m\u001b[0;34m)\u001b[0m\u001b[0;34m\u001b[0m\u001b[0;34m\u001b[0m\u001b[0m\n\u001b[1;32m  11214\u001b[0m         return self._reduce(\n\u001b[0;32m> 11215\u001b[0;31m             \u001b[0mf\u001b[0m\u001b[0;34m,\u001b[0m \u001b[0mname\u001b[0m\u001b[0;34m,\u001b[0m \u001b[0maxis\u001b[0m\u001b[0;34m=\u001b[0m\u001b[0maxis\u001b[0m\u001b[0;34m,\u001b[0m \u001b[0mskipna\u001b[0m\u001b[0;34m=\u001b[0m\u001b[0mskipna\u001b[0m\u001b[0;34m,\u001b[0m \u001b[0mnumeric_only\u001b[0m\u001b[0;34m=\u001b[0m\u001b[0mnumeric_only\u001b[0m\u001b[0;34m\u001b[0m\u001b[0;34m\u001b[0m\u001b[0m\n\u001b[0m\u001b[1;32m  11216\u001b[0m         )\n\u001b[1;32m  11217\u001b[0m \u001b[0;34m\u001b[0m\u001b[0m\n",
            "\u001b[0;32m/usr/local/lib/python3.6/dist-packages/pandas/core/series.py\u001b[0m in \u001b[0;36m_reduce\u001b[0;34m(self, op, name, axis, skipna, numeric_only, filter_type, **kwds)\u001b[0m\n\u001b[1;32m   3889\u001b[0m                 )\n\u001b[1;32m   3890\u001b[0m             \u001b[0;32mwith\u001b[0m \u001b[0mnp\u001b[0m\u001b[0;34m.\u001b[0m\u001b[0merrstate\u001b[0m\u001b[0;34m(\u001b[0m\u001b[0mall\u001b[0m\u001b[0;34m=\u001b[0m\u001b[0;34m\"ignore\"\u001b[0m\u001b[0;34m)\u001b[0m\u001b[0;34m:\u001b[0m\u001b[0;34m\u001b[0m\u001b[0;34m\u001b[0m\u001b[0m\n\u001b[0;32m-> 3891\u001b[0;31m                 \u001b[0;32mreturn\u001b[0m \u001b[0mop\u001b[0m\u001b[0;34m(\u001b[0m\u001b[0mdelegate\u001b[0m\u001b[0;34m,\u001b[0m \u001b[0mskipna\u001b[0m\u001b[0;34m=\u001b[0m\u001b[0mskipna\u001b[0m\u001b[0;34m,\u001b[0m \u001b[0;34m**\u001b[0m\u001b[0mkwds\u001b[0m\u001b[0;34m)\u001b[0m\u001b[0;34m\u001b[0m\u001b[0;34m\u001b[0m\u001b[0m\n\u001b[0m\u001b[1;32m   3892\u001b[0m \u001b[0;34m\u001b[0m\u001b[0m\n\u001b[1;32m   3893\u001b[0m         \u001b[0;31m# TODO(EA) dispatch to Index\u001b[0m\u001b[0;34m\u001b[0m\u001b[0;34m\u001b[0m\u001b[0;34m\u001b[0m\u001b[0m\n",
            "\u001b[0;32m/usr/local/lib/python3.6/dist-packages/pandas/core/nanops.py\u001b[0m in \u001b[0;36mf\u001b[0;34m(values, axis, skipna, **kwds)\u001b[0m\n\u001b[1;32m    123\u001b[0m                     \u001b[0mresult\u001b[0m \u001b[0;34m=\u001b[0m \u001b[0malt\u001b[0m\u001b[0;34m(\u001b[0m\u001b[0mvalues\u001b[0m\u001b[0;34m,\u001b[0m \u001b[0maxis\u001b[0m\u001b[0;34m=\u001b[0m\u001b[0maxis\u001b[0m\u001b[0;34m,\u001b[0m \u001b[0mskipna\u001b[0m\u001b[0;34m=\u001b[0m\u001b[0mskipna\u001b[0m\u001b[0;34m,\u001b[0m \u001b[0;34m**\u001b[0m\u001b[0mkwds\u001b[0m\u001b[0;34m)\u001b[0m\u001b[0;34m\u001b[0m\u001b[0;34m\u001b[0m\u001b[0m\n\u001b[1;32m    124\u001b[0m             \u001b[0;32melse\u001b[0m\u001b[0;34m:\u001b[0m\u001b[0;34m\u001b[0m\u001b[0;34m\u001b[0m\u001b[0m\n\u001b[0;32m--> 125\u001b[0;31m                 \u001b[0mresult\u001b[0m \u001b[0;34m=\u001b[0m \u001b[0malt\u001b[0m\u001b[0;34m(\u001b[0m\u001b[0mvalues\u001b[0m\u001b[0;34m,\u001b[0m \u001b[0maxis\u001b[0m\u001b[0;34m=\u001b[0m\u001b[0maxis\u001b[0m\u001b[0;34m,\u001b[0m \u001b[0mskipna\u001b[0m\u001b[0;34m=\u001b[0m\u001b[0mskipna\u001b[0m\u001b[0;34m,\u001b[0m \u001b[0;34m**\u001b[0m\u001b[0mkwds\u001b[0m\u001b[0;34m)\u001b[0m\u001b[0;34m\u001b[0m\u001b[0;34m\u001b[0m\u001b[0m\n\u001b[0m\u001b[1;32m    126\u001b[0m \u001b[0;34m\u001b[0m\u001b[0m\n\u001b[1;32m    127\u001b[0m             \u001b[0;32mreturn\u001b[0m \u001b[0mresult\u001b[0m\u001b[0;34m\u001b[0m\u001b[0;34m\u001b[0m\u001b[0m\n",
            "\u001b[0;32m/usr/local/lib/python3.6/dist-packages/pandas/core/nanops.py\u001b[0m in \u001b[0;36mreduction\u001b[0;34m(values, axis, skipna, mask)\u001b[0m\n\u001b[1;32m    835\u001b[0m                 \u001b[0mresult\u001b[0m \u001b[0;34m=\u001b[0m \u001b[0mnp\u001b[0m\u001b[0;34m.\u001b[0m\u001b[0mnan\u001b[0m\u001b[0;34m\u001b[0m\u001b[0;34m\u001b[0m\u001b[0m\n\u001b[1;32m    836\u001b[0m         \u001b[0;32melse\u001b[0m\u001b[0;34m:\u001b[0m\u001b[0;34m\u001b[0m\u001b[0;34m\u001b[0m\u001b[0m\n\u001b[0;32m--> 837\u001b[0;31m             \u001b[0mresult\u001b[0m \u001b[0;34m=\u001b[0m \u001b[0mgetattr\u001b[0m\u001b[0;34m(\u001b[0m\u001b[0mvalues\u001b[0m\u001b[0;34m,\u001b[0m \u001b[0mmeth\u001b[0m\u001b[0;34m)\u001b[0m\u001b[0;34m(\u001b[0m\u001b[0maxis\u001b[0m\u001b[0;34m)\u001b[0m\u001b[0;34m\u001b[0m\u001b[0;34m\u001b[0m\u001b[0m\n\u001b[0m\u001b[1;32m    838\u001b[0m \u001b[0;34m\u001b[0m\u001b[0m\n\u001b[1;32m    839\u001b[0m         \u001b[0mresult\u001b[0m \u001b[0;34m=\u001b[0m \u001b[0m_wrap_results\u001b[0m\u001b[0;34m(\u001b[0m\u001b[0mresult\u001b[0m\u001b[0;34m,\u001b[0m \u001b[0mdtype\u001b[0m\u001b[0;34m,\u001b[0m \u001b[0mfill_value\u001b[0m\u001b[0;34m)\u001b[0m\u001b[0;34m\u001b[0m\u001b[0;34m\u001b[0m\u001b[0m\n",
            "\u001b[0;32m/usr/local/lib/python3.6/dist-packages/numpy/core/_methods.py\u001b[0m in \u001b[0;36m_amin\u001b[0;34m(a, axis, out, keepdims, initial, where)\u001b[0m\n\u001b[1;32m     32\u001b[0m def _amin(a, axis=None, out=None, keepdims=False,\n\u001b[1;32m     33\u001b[0m           initial=_NoValue, where=True):\n\u001b[0;32m---> 34\u001b[0;31m     \u001b[0;32mreturn\u001b[0m \u001b[0mumr_minimum\u001b[0m\u001b[0;34m(\u001b[0m\u001b[0ma\u001b[0m\u001b[0;34m,\u001b[0m \u001b[0maxis\u001b[0m\u001b[0;34m,\u001b[0m \u001b[0;32mNone\u001b[0m\u001b[0;34m,\u001b[0m \u001b[0mout\u001b[0m\u001b[0;34m,\u001b[0m \u001b[0mkeepdims\u001b[0m\u001b[0;34m,\u001b[0m \u001b[0minitial\u001b[0m\u001b[0;34m,\u001b[0m \u001b[0mwhere\u001b[0m\u001b[0;34m)\u001b[0m\u001b[0;34m\u001b[0m\u001b[0;34m\u001b[0m\u001b[0m\n\u001b[0m\u001b[1;32m     35\u001b[0m \u001b[0;34m\u001b[0m\u001b[0m\n\u001b[1;32m     36\u001b[0m def _sum(a, axis=None, dtype=None, out=None, keepdims=False,\n",
            "\u001b[0;31mTypeError\u001b[0m: '<=' not supported between instances of 'str' and 'float'"
          ]
        }
      ]
    },
    {
      "cell_type": "code",
      "metadata": {
        "id": "2IVbVBzl4vMH",
        "colab_type": "code",
        "colab": {}
      },
      "source": [
        "import cartopy.crs as ccrs\n",
        "\n",
        "ax = plt.axes(projection=ccrs.PlateCarree())\n",
        "ax.coastlines()\n",
        "\n",
        "plt.show()"
      ],
      "execution_count": 0,
      "outputs": []
    },
    {
      "cell_type": "code",
      "metadata": {
        "id": "n9ECXz0UK7ON",
        "colab_type": "code",
        "colab": {}
      },
      "source": [
        "# Plot complaints\n",
        "\n",
        "fig, ax = plt.subplots(figsize = (8,7))\n",
        "ax.scatter(violations.longitude, violations.latitude, zorder=1, alpha= 0.2, c='b', s=10)\n",
        "ax.set_title('Complaints in NYC')\n",
        "ax.set_xlim(BBox[0],BBox[1])\n",
        "ax.set_ylim(BBox[2],BBox[3])\n",
        "ax.imshow(ruh_m, zorder=0, extent = BBox, aspect= 'equal')"
      ],
      "execution_count": 0,
      "outputs": []
    },
    {
      "cell_type": "code",
      "metadata": {
        "id": "60bTuzSuK7Xs",
        "colab_type": "code",
        "colab": {}
      },
      "source": [
        ""
      ],
      "execution_count": 0,
      "outputs": []
    }
  ]
}